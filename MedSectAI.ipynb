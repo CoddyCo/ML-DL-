{
  "nbformat": 4,
  "nbformat_minor": 0,
  "metadata": {
    "colab": {
      "provenance": [],
      "authorship_tag": "ABX9TyOIz5friRAEbLNy+YZKKRtt",
      "include_colab_link": true
    },
    "kernelspec": {
      "name": "python3",
      "display_name": "Python 3"
    },
    "language_info": {
      "name": "python"
    }
  },
  "cells": [
    {
      "cell_type": "markdown",
      "metadata": {
        "id": "view-in-github",
        "colab_type": "text"
      },
      "source": [
        "<a href=\"https://colab.research.google.com/github/CoddyCo/ML-DL-/blob/main/MedSectAI.ipynb\" target=\"_parent\"><img src=\"https://colab.research.google.com/assets/colab-badge.svg\" alt=\"Open In Colab\"/></a>"
      ]
    },
    {
      "cell_type": "markdown",
      "source": [
        "#MedSectAI - Enhancing Medical Research Paper Readability with NLP",
        "The goal of this project is to create an NLP model that automatically divides\n",
        "medical research papers into sections for better readability and understanding.\n",
        "I'll explore multiple approaches ranging from baseline models to advanced\n",
        "deep learning architectures, concluding with a multimodal model combining token,\n",
        "character, and positional embeddings.\n\n"

        "Reference Paper: https://arxiv.org/abs/1710.06071\n"
        "Dataset Source: https://github.com/Franck-Dernoncourt/pubmed-rct"

      ],
      "metadata": {
        "id": "gdJcWhWjrzHl"
      }
    },
    {
      "cell_type": "markdown",
      "source": [
        "#Get Dataset\n",
        "I am using Dataset from the paper's author Github"
      ],
      "metadata": {
        "id": "78bDLal41IOj"
      }
    },
    {
      "cell_type": "code",
      "execution_count": null,
      "metadata": {
        "colab": {
          "base_uri": "https://localhost:8080/"
        },
        "id": "_ZKsN73trrse",
        "outputId": "e3933220-f881-4cbc-d52e-f6de09d85886"
      },
      "outputs": [
        {
          "output_type": "stream",
          "name": "stdout",
          "text": [
            "Cloning into 'pubmed-rct'...\n",
            "remote: Enumerating objects: 39, done.\u001b[K\n",
            "remote: Counting objects: 100% (14/14), done.\u001b[K\n",
            "remote: Compressing objects: 100% (9/9), done.\u001b[K\n",
            "remote: Total 39 (delta 8), reused 5 (delta 5), pack-reused 25 (from 1)\u001b[K\n",
            "Receiving objects: 100% (39/39), 177.08 MiB | 33.38 MiB/s, done.\n",
            "Resolving deltas: 100% (15/15), done.\n",
            "Updating files: 100% (13/13), done.\n",
            "PubMed_200k_RCT\t\t\t\t       PubMed_20k_RCT_numbers_replaced_with_at_sign\n",
            "PubMed_200k_RCT_numbers_replaced_with_at_sign  README.md\n",
            "PubMed_20k_RCT\n"
          ]
        }
      ],
      "source": [
        "!git clone https://github.com/Franck-Dernoncourt/pubmed-rct\n",
        "!ls pubmed-rct"
      ]
    },
    {
      "cell_type": "markdown",
      "source": [
        "#Analysing Dataset"
      ],
      "metadata": {
        "id": "15NHpXqM4nPL"
      }
    },
    {
      "cell_type": "code",
      "source": [
        "#check files in PubMed_20k_RCT and PubMed_20k_RCT_numbers_replaced_with_at_sign\n",
        "!ls pubmed-rct/PubMed_20k_RCT/\n",
        "!ls pubmed-rct/PubMed_20k_RCT_numbers_replaced_with_at_sign/\n"
      ],
      "metadata": {
        "colab": {
          "base_uri": "https://localhost:8080/"
        },
        "id": "Js0zKMbU3oG1",
        "outputId": "4a3749d8-ccb7-47d4-d9cd-dd677e5939eb"
      },
      "execution_count": null,
      "outputs": [
        {
          "output_type": "stream",
          "name": "stdout",
          "text": [
            "dev.txt  test.txt  train.txt\n",
            "dev.txt  test.txt  train.txt\n"
          ]
        }
      ]
    },
    {
      "cell_type": "code",
      "source": [
        "#assigning directory\n",
        "data_dir=\"/content/pubmed-rct/PubMed_20k_RCT_numbers_replaced_with_at_sign\""
      ],
      "metadata": {
        "id": "fEdjPDQf3MFQ"
      },
      "execution_count": null,
      "outputs": []
    },
    {
      "cell_type": "code",
      "source": [
        "#check files in target directory\n",
        "import os\n",
        "for filename in os.listdir(data_dir):\n",
        "  print([data_dir+filename])"
      ],
      "metadata": {
        "colab": {
          "base_uri": "https://localhost:8080/"
        },
        "id": "xxEjoGcf5A63",
        "outputId": "a32f4b6c-c3c1-4edd-f0cd-01926e025ff0"
      },
      "execution_count": null,
      "outputs": [
        {
          "output_type": "stream",
          "name": "stdout",
          "text": [
            "['/content/pubmed-rct/PubMed_20k_RCT_numbers_replaced_with_at_signtest.txt']\n",
            "['/content/pubmed-rct/PubMed_20k_RCT_numbers_replaced_with_at_signtrain.txt']\n",
            "['/content/pubmed-rct/PubMed_20k_RCT_numbers_replaced_with_at_signdev.txt']\n"
          ]
        }
      ]
    },
    {
      "cell_type": "markdown",
      "source": [
        "#preprocessing Data"
      ],
      "metadata": {
        "id": "NTYhT_9S6RRq"
      }
    },
    {
      "cell_type": "code",
      "source": [
        "#creating a function to read the lines of the doc\n",
        "def get_lines(filename):\n",
        "  \"\"\"\n",
        "  read the lines of the doc\n",
        "  ARGS:\n",
        "  filename: a string containing the path to the file\n",
        "  RETURN:\n",
        "  a list of strings with one string per line from target file path\n",
        "  \"\"\"\n",
        "  with open(filename,'r') as f:\n",
        "    lines=f.readlines()\n",
        "  return lines"
      ],
      "metadata": {
        "id": "Ry_5mS5f5J5_"
      },
      "execution_count": null,
      "outputs": []
    },
    {
      "cell_type": "code",
      "source": [
        "#reading training file lines\n",
        "train_lines=get_lines(data_dir+'/train.txt')\n",
        "train_lines[:25]"
      ],
      "metadata": {
        "colab": {
          "base_uri": "https://localhost:8080/"
        },
        "id": "loJByVYI7oEl",
        "outputId": "1132c27a-d24a-4593-d624-092d84492180"
      },
      "execution_count": null,
      "outputs": [
        {
          "output_type": "execute_result",
          "data": {
            "text/plain": [
              "['###24293578\\n',\n",
              " 'OBJECTIVE\\tTo investigate the efficacy of @ weeks of daily low-dose oral prednisolone in improving pain , mobility , and systemic low-grade inflammation in the short term and whether the effect would be sustained at @ weeks in older adults with moderate to severe knee osteoarthritis ( OA ) .\\n',\n",
              " 'METHODS\\tA total of @ patients with primary knee OA were randomized @:@ ; @ received @ mg/day of prednisolone and @ received placebo for @ weeks .\\n',\n",
              " 'METHODS\\tOutcome measures included pain reduction and improvement in function scores and systemic inflammation markers .\\n',\n",
              " 'METHODS\\tPain was assessed using the visual analog pain scale ( @-@ mm ) .\\n',\n",
              " 'METHODS\\tSecondary outcome measures included the Western Ontario and McMaster Universities Osteoarthritis Index scores , patient global assessment ( PGA ) of the severity of knee OA , and @-min walk distance ( @MWD ) .\\n',\n",
              " 'METHODS\\tSerum levels of interleukin @ ( IL-@ ) , IL-@ , tumor necrosis factor ( TNF ) - , and high-sensitivity C-reactive protein ( hsCRP ) were measured .\\n',\n",
              " 'RESULTS\\tThere was a clinically relevant reduction in the intervention group compared to the placebo group for knee pain , physical function , PGA , and @MWD at @ weeks .\\n',\n",
              " 'RESULTS\\tThe mean difference between treatment arms ( @ % CI ) was @ ( @-@ @ ) , p < @ ; @ ( @-@ @ ) , p < @ ; @ ( @-@ @ ) , p < @ ; and @ ( @-@ @ ) , p < @ , respectively .\\n',\n",
              " 'RESULTS\\tFurther , there was a clinically relevant reduction in the serum levels of IL-@ , IL-@ , TNF - , and hsCRP at @ weeks in the intervention group when compared to the placebo group .\\n',\n",
              " 'RESULTS\\tThese differences remained significant at @ weeks .\\n',\n",
              " 'RESULTS\\tThe Outcome Measures in Rheumatology Clinical Trials-Osteoarthritis Research Society International responder rate was @ % in the intervention group and @ % in the placebo group ( p < @ ) .\\n',\n",
              " 'CONCLUSIONS\\tLow-dose oral prednisolone had both a short-term and a longer sustained effect resulting in less knee pain , better physical function , and attenuation of systemic inflammation in older patients with knee OA ( ClinicalTrials.gov identifier NCT@ ) .\\n',\n",
              " '\\n',\n",
              " '###24854809\\n',\n",
              " 'BACKGROUND\\tEmotional eating is associated with overeating and the development of obesity .\\n',\n",
              " 'BACKGROUND\\tYet , empirical evidence for individual ( trait ) differences in emotional eating and cognitive mechanisms that contribute to eating during sad mood remain equivocal .\\n',\n",
              " 'OBJECTIVE\\tThe aim of this study was to test if attention bias for food moderates the effect of self-reported emotional eating during sad mood ( vs neutral mood ) on actual food intake .\\n',\n",
              " 'OBJECTIVE\\tIt was expected that emotional eating is predictive of elevated attention for food and higher food intake after an experimentally induced sad mood and that attentional maintenance on food predicts food intake during a sad versus a neutral mood .\\n',\n",
              " 'METHODS\\tParticipants ( N = @ ) were randomly assigned to one of the two experimental mood induction conditions ( sad/neutral ) .\\n',\n",
              " 'METHODS\\tAttentional biases for high caloric foods were measured by eye tracking during a visual probe task with pictorial food and neutral stimuli .\\n',\n",
              " 'METHODS\\tSelf-reported emotional eating was assessed with the Dutch Eating Behavior Questionnaire ( DEBQ ) and ad libitum food intake was tested by a disguised food offer .\\n',\n",
              " 'RESULTS\\tHierarchical multivariate regression modeling showed that self-reported emotional eating did not account for changes in attention allocation for food or food intake in either condition .\\n',\n",
              " 'RESULTS\\tYet , attention maintenance on food cues was significantly related to increased intake specifically in the neutral condition , but not in the sad mood condition .\\n',\n",
              " 'CONCLUSIONS\\tThe current findings show that self-reported emotional eating ( based on the DEBQ ) might not validly predict who overeats when sad , at least not in a laboratory setting with healthy women .\\n']"
            ]
          },
          "metadata": {},
          "execution_count": 6
        }
      ]
    },
    {
      "cell_type": "code",
      "source": [
        "#converting it to data frame\n",
        "import pandas as pd\n",
        "train_df=pd.DataFrame(train_lines)\n",
        "train_df[:10]"
      ],
      "metadata": {
        "colab": {
          "base_uri": "https://localhost:8080/",
          "height": 363
        },
        "id": "oTbWaZTh720F",
        "outputId": "091c8d8e-fb49-4a98-cc65-4d0ac6833fef"
      },
      "execution_count": null,
      "outputs": [
        {
          "output_type": "execute_result",
          "data": {
            "text/plain": [
              "                                                   0\n",
              "0                                      ###24293578\\n\n",
              "1  OBJECTIVE\\tTo investigate the efficacy of @ we...\n",
              "2  METHODS\\tA total of @ patients with primary kn...\n",
              "3  METHODS\\tOutcome measures included pain reduct...\n",
              "4  METHODS\\tPain was assessed using the visual an...\n",
              "5  METHODS\\tSecondary outcome measures included t...\n",
              "6  METHODS\\tSerum levels of interleukin @ ( IL-@ ...\n",
              "7  RESULTS\\tThere was a clinically relevant reduc...\n",
              "8  RESULTS\\tThe mean difference between treatment...\n",
              "9  RESULTS\\tFurther , there was a clinically rele..."
            ],
            "text/html": [
              "\n",
              "  <div id=\"df-ee7e26e2-fc5d-4c2f-b824-dc0b4257a127\" class=\"colab-df-container\">\n",
              "    <div>\n",
              "<style scoped>\n",
              "    .dataframe tbody tr th:only-of-type {\n",
              "        vertical-align: middle;\n",
              "    }\n",
              "\n",
              "    .dataframe tbody tr th {\n",
              "        vertical-align: top;\n",
              "    }\n",
              "\n",
              "    .dataframe thead th {\n",
              "        text-align: right;\n",
              "    }\n",
              "</style>\n",
              "<table border=\"1\" class=\"dataframe\">\n",
              "  <thead>\n",
              "    <tr style=\"text-align: right;\">\n",
              "      <th></th>\n",
              "      <th>0</th>\n",
              "    </tr>\n",
              "  </thead>\n",
              "  <tbody>\n",
              "    <tr>\n",
              "      <th>0</th>\n",
              "      <td>###24293578\\n</td>\n",
              "    </tr>\n",
              "    <tr>\n",
              "      <th>1</th>\n",
              "      <td>OBJECTIVE\\tTo investigate the efficacy of @ we...</td>\n",
              "    </tr>\n",
              "    <tr>\n",
              "      <th>2</th>\n",
              "      <td>METHODS\\tA total of @ patients with primary kn...</td>\n",
              "    </tr>\n",
              "    <tr>\n",
              "      <th>3</th>\n",
              "      <td>METHODS\\tOutcome measures included pain reduct...</td>\n",
              "    </tr>\n",
              "    <tr>\n",
              "      <th>4</th>\n",
              "      <td>METHODS\\tPain was assessed using the visual an...</td>\n",
              "    </tr>\n",
              "    <tr>\n",
              "      <th>5</th>\n",
              "      <td>METHODS\\tSecondary outcome measures included t...</td>\n",
              "    </tr>\n",
              "    <tr>\n",
              "      <th>6</th>\n",
              "      <td>METHODS\\tSerum levels of interleukin @ ( IL-@ ...</td>\n",
              "    </tr>\n",
              "    <tr>\n",
              "      <th>7</th>\n",
              "      <td>RESULTS\\tThere was a clinically relevant reduc...</td>\n",
              "    </tr>\n",
              "    <tr>\n",
              "      <th>8</th>\n",
              "      <td>RESULTS\\tThe mean difference between treatment...</td>\n",
              "    </tr>\n",
              "    <tr>\n",
              "      <th>9</th>\n",
              "      <td>RESULTS\\tFurther , there was a clinically rele...</td>\n",
              "    </tr>\n",
              "  </tbody>\n",
              "</table>\n",
              "</div>\n",
              "    <div class=\"colab-df-buttons\">\n",
              "\n",
              "  <div class=\"colab-df-container\">\n",
              "    <button class=\"colab-df-convert\" onclick=\"convertToInteractive('df-ee7e26e2-fc5d-4c2f-b824-dc0b4257a127')\"\n",
              "            title=\"Convert this dataframe to an interactive table.\"\n",
              "            style=\"display:none;\">\n",
              "\n",
              "  <svg xmlns=\"http://www.w3.org/2000/svg\" height=\"24px\" viewBox=\"0 -960 960 960\">\n",
              "    <path d=\"M120-120v-720h720v720H120Zm60-500h600v-160H180v160Zm220 220h160v-160H400v160Zm0 220h160v-160H400v160ZM180-400h160v-160H180v160Zm440 0h160v-160H620v160ZM180-180h160v-160H180v160Zm440 0h160v-160H620v160Z\"/>\n",
              "  </svg>\n",
              "    </button>\n",
              "\n",
              "  <style>\n",
              "    .colab-df-container {\n",
              "      display:flex;\n",
              "      gap: 12px;\n",
              "    }\n",
              "\n",
              "    .colab-df-convert {\n",
              "      background-color: #E8F0FE;\n",
              "      border: none;\n",
              "      border-radius: 50%;\n",
              "      cursor: pointer;\n",
              "      display: none;\n",
              "      fill: #1967D2;\n",
              "      height: 32px;\n",
              "      padding: 0 0 0 0;\n",
              "      width: 32px;\n",
              "    }\n",
              "\n",
              "    .colab-df-convert:hover {\n",
              "      background-color: #E2EBFA;\n",
              "      box-shadow: 0px 1px 2px rgba(60, 64, 67, 0.3), 0px 1px 3px 1px rgba(60, 64, 67, 0.15);\n",
              "      fill: #174EA6;\n",
              "    }\n",
              "\n",
              "    .colab-df-buttons div {\n",
              "      margin-bottom: 4px;\n",
              "    }\n",
              "\n",
              "    [theme=dark] .colab-df-convert {\n",
              "      background-color: #3B4455;\n",
              "      fill: #D2E3FC;\n",
              "    }\n",
              "\n",
              "    [theme=dark] .colab-df-convert:hover {\n",
              "      background-color: #434B5C;\n",
              "      box-shadow: 0px 1px 3px 1px rgba(0, 0, 0, 0.15);\n",
              "      filter: drop-shadow(0px 1px 2px rgba(0, 0, 0, 0.3));\n",
              "      fill: #FFFFFF;\n",
              "    }\n",
              "  </style>\n",
              "\n",
              "    <script>\n",
              "      const buttonEl =\n",
              "        document.querySelector('#df-ee7e26e2-fc5d-4c2f-b824-dc0b4257a127 button.colab-df-convert');\n",
              "      buttonEl.style.display =\n",
              "        google.colab.kernel.accessAllowed ? 'block' : 'none';\n",
              "\n",
              "      async function convertToInteractive(key) {\n",
              "        const element = document.querySelector('#df-ee7e26e2-fc5d-4c2f-b824-dc0b4257a127');\n",
              "        const dataTable =\n",
              "          await google.colab.kernel.invokeFunction('convertToInteractive',\n",
              "                                                    [key], {});\n",
              "        if (!dataTable) return;\n",
              "\n",
              "        const docLinkHtml = 'Like what you see? Visit the ' +\n",
              "          '<a target=\"_blank\" href=https://colab.research.google.com/notebooks/data_table.ipynb>data table notebook</a>'\n",
              "          + ' to learn more about interactive tables.';\n",
              "        element.innerHTML = '';\n",
              "        dataTable['output_type'] = 'display_data';\n",
              "        await google.colab.output.renderOutput(dataTable, element);\n",
              "        const docLink = document.createElement('div');\n",
              "        docLink.innerHTML = docLinkHtml;\n",
              "        element.appendChild(docLink);\n",
              "      }\n",
              "    </script>\n",
              "  </div>\n",
              "\n",
              "\n",
              "<div id=\"df-4fa0007a-c511-42a9-915d-538886547779\">\n",
              "  <button class=\"colab-df-quickchart\" onclick=\"quickchart('df-4fa0007a-c511-42a9-915d-538886547779')\"\n",
              "            title=\"Suggest charts\"\n",
              "            style=\"display:none;\">\n",
              "\n",
              "<svg xmlns=\"http://www.w3.org/2000/svg\" height=\"24px\"viewBox=\"0 0 24 24\"\n",
              "     width=\"24px\">\n",
              "    <g>\n",
              "        <path d=\"M19 3H5c-1.1 0-2 .9-2 2v14c0 1.1.9 2 2 2h14c1.1 0 2-.9 2-2V5c0-1.1-.9-2-2-2zM9 17H7v-7h2v7zm4 0h-2V7h2v10zm4 0h-2v-4h2v4z\"/>\n",
              "    </g>\n",
              "</svg>\n",
              "  </button>\n",
              "\n",
              "<style>\n",
              "  .colab-df-quickchart {\n",
              "      --bg-color: #E8F0FE;\n",
              "      --fill-color: #1967D2;\n",
              "      --hover-bg-color: #E2EBFA;\n",
              "      --hover-fill-color: #174EA6;\n",
              "      --disabled-fill-color: #AAA;\n",
              "      --disabled-bg-color: #DDD;\n",
              "  }\n",
              "\n",
              "  [theme=dark] .colab-df-quickchart {\n",
              "      --bg-color: #3B4455;\n",
              "      --fill-color: #D2E3FC;\n",
              "      --hover-bg-color: #434B5C;\n",
              "      --hover-fill-color: #FFFFFF;\n",
              "      --disabled-bg-color: #3B4455;\n",
              "      --disabled-fill-color: #666;\n",
              "  }\n",
              "\n",
              "  .colab-df-quickchart {\n",
              "    background-color: var(--bg-color);\n",
              "    border: none;\n",
              "    border-radius: 50%;\n",
              "    cursor: pointer;\n",
              "    display: none;\n",
              "    fill: var(--fill-color);\n",
              "    height: 32px;\n",
              "    padding: 0;\n",
              "    width: 32px;\n",
              "  }\n",
              "\n",
              "  .colab-df-quickchart:hover {\n",
              "    background-color: var(--hover-bg-color);\n",
              "    box-shadow: 0 1px 2px rgba(60, 64, 67, 0.3), 0 1px 3px 1px rgba(60, 64, 67, 0.15);\n",
              "    fill: var(--button-hover-fill-color);\n",
              "  }\n",
              "\n",
              "  .colab-df-quickchart-complete:disabled,\n",
              "  .colab-df-quickchart-complete:disabled:hover {\n",
              "    background-color: var(--disabled-bg-color);\n",
              "    fill: var(--disabled-fill-color);\n",
              "    box-shadow: none;\n",
              "  }\n",
              "\n",
              "  .colab-df-spinner {\n",
              "    border: 2px solid var(--fill-color);\n",
              "    border-color: transparent;\n",
              "    border-bottom-color: var(--fill-color);\n",
              "    animation:\n",
              "      spin 1s steps(1) infinite;\n",
              "  }\n",
              "\n",
              "  @keyframes spin {\n",
              "    0% {\n",
              "      border-color: transparent;\n",
              "      border-bottom-color: var(--fill-color);\n",
              "      border-left-color: var(--fill-color);\n",
              "    }\n",
              "    20% {\n",
              "      border-color: transparent;\n",
              "      border-left-color: var(--fill-color);\n",
              "      border-top-color: var(--fill-color);\n",
              "    }\n",
              "    30% {\n",
              "      border-color: transparent;\n",
              "      border-left-color: var(--fill-color);\n",
              "      border-top-color: var(--fill-color);\n",
              "      border-right-color: var(--fill-color);\n",
              "    }\n",
              "    40% {\n",
              "      border-color: transparent;\n",
              "      border-right-color: var(--fill-color);\n",
              "      border-top-color: var(--fill-color);\n",
              "    }\n",
              "    60% {\n",
              "      border-color: transparent;\n",
              "      border-right-color: var(--fill-color);\n",
              "    }\n",
              "    80% {\n",
              "      border-color: transparent;\n",
              "      border-right-color: var(--fill-color);\n",
              "      border-bottom-color: var(--fill-color);\n",
              "    }\n",
              "    90% {\n",
              "      border-color: transparent;\n",
              "      border-bottom-color: var(--fill-color);\n",
              "    }\n",
              "  }\n",
              "</style>\n",
              "\n",
              "  <script>\n",
              "    async function quickchart(key) {\n",
              "      const quickchartButtonEl =\n",
              "        document.querySelector('#' + key + ' button');\n",
              "      quickchartButtonEl.disabled = true;  // To prevent multiple clicks.\n",
              "      quickchartButtonEl.classList.add('colab-df-spinner');\n",
              "      try {\n",
              "        const charts = await google.colab.kernel.invokeFunction(\n",
              "            'suggestCharts', [key], {});\n",
              "      } catch (error) {\n",
              "        console.error('Error during call to suggestCharts:', error);\n",
              "      }\n",
              "      quickchartButtonEl.classList.remove('colab-df-spinner');\n",
              "      quickchartButtonEl.classList.add('colab-df-quickchart-complete');\n",
              "    }\n",
              "    (() => {\n",
              "      let quickchartButtonEl =\n",
              "        document.querySelector('#df-4fa0007a-c511-42a9-915d-538886547779 button');\n",
              "      quickchartButtonEl.style.display =\n",
              "        google.colab.kernel.accessAllowed ? 'block' : 'none';\n",
              "    })();\n",
              "  </script>\n",
              "</div>\n",
              "\n",
              "    </div>\n",
              "  </div>\n"
            ],
            "application/vnd.google.colaboratory.intrinsic+json": {
              "type": "dataframe",
              "summary": "{\n  \"name\": \"train_df[:10]\",\n  \"rows\": 10,\n  \"fields\": [\n    {\n      \"column\": 0,\n      \"properties\": {\n        \"dtype\": \"string\",\n        \"num_unique_values\": 10,\n        \"samples\": [\n          \"RESULTS\\tThe mean difference between treatment arms ( @ % CI ) was @ ( @-@ @ ) , p < @ ; @ ( @-@ @ ) , p < @ ; @ ( @-@ @ ) , p < @ ; and @ ( @-@ @ ) , p < @ , respectively .\\n\",\n          \"OBJECTIVE\\tTo investigate the efficacy of @ weeks of daily low-dose oral prednisolone in improving pain , mobility , and systemic low-grade inflammation in the short term and whether the effect would be sustained at @ weeks in older adults with moderate to severe knee osteoarthritis ( OA ) .\\n\",\n          \"METHODS\\tSecondary outcome measures included the Western Ontario and McMaster Universities Osteoarthritis Index scores , patient global assessment ( PGA ) of the severity of knee OA , and @-min walk distance ( @MWD ) .\\n\"\n        ],\n        \"semantic_type\": \"\",\n        \"description\": \"\"\n      }\n    }\n  ]\n}"
            }
          },
          "metadata": {},
          "execution_count": 7
        }
      ]
    },
    {
      "cell_type": "markdown",
      "source": [
        "Converting data into format that best represents our mdoel.\n",
        "how I am going to proceed\n",
        "```\n",
        "[{\"line_number\":0,\n",
        "\"target:\"BACKGROUND\",\n",
        "\"text\":'emotional..........obesity.\\n'\n",
        "\"total_lines\":19},\n",
        "```"
      ],
      "metadata": {
        "id": "UhD-kD8K9NEI"
      }
    },
    {
      "cell_type": "code",
      "source": [
        "input_lines=get_lines(data_dir+'/train.txt')\n",
        "input_lines[:27]\n"
      ],
      "metadata": {
        "colab": {
          "base_uri": "https://localhost:8080/"
        },
        "id": "qchgWbBKAAp1",
        "outputId": "d86c1c96-53e7-435a-a299-06e3fbdc044e"
      },
      "execution_count": null,
      "outputs": [
        {
          "output_type": "execute_result",
          "data": {
            "text/plain": [
              "['###24293578\\n',\n",
              " 'OBJECTIVE\\tTo investigate the efficacy of @ weeks of daily low-dose oral prednisolone in improving pain , mobility , and systemic low-grade inflammation in the short term and whether the effect would be sustained at @ weeks in older adults with moderate to severe knee osteoarthritis ( OA ) .\\n',\n",
              " 'METHODS\\tA total of @ patients with primary knee OA were randomized @:@ ; @ received @ mg/day of prednisolone and @ received placebo for @ weeks .\\n',\n",
              " 'METHODS\\tOutcome measures included pain reduction and improvement in function scores and systemic inflammation markers .\\n',\n",
              " 'METHODS\\tPain was assessed using the visual analog pain scale ( @-@ mm ) .\\n',\n",
              " 'METHODS\\tSecondary outcome measures included the Western Ontario and McMaster Universities Osteoarthritis Index scores , patient global assessment ( PGA ) of the severity of knee OA , and @-min walk distance ( @MWD ) .\\n',\n",
              " 'METHODS\\tSerum levels of interleukin @ ( IL-@ ) , IL-@ , tumor necrosis factor ( TNF ) - , and high-sensitivity C-reactive protein ( hsCRP ) were measured .\\n',\n",
              " 'RESULTS\\tThere was a clinically relevant reduction in the intervention group compared to the placebo group for knee pain , physical function , PGA , and @MWD at @ weeks .\\n',\n",
              " 'RESULTS\\tThe mean difference between treatment arms ( @ % CI ) was @ ( @-@ @ ) , p < @ ; @ ( @-@ @ ) , p < @ ; @ ( @-@ @ ) , p < @ ; and @ ( @-@ @ ) , p < @ , respectively .\\n',\n",
              " 'RESULTS\\tFurther , there was a clinically relevant reduction in the serum levels of IL-@ , IL-@ , TNF - , and hsCRP at @ weeks in the intervention group when compared to the placebo group .\\n',\n",
              " 'RESULTS\\tThese differences remained significant at @ weeks .\\n',\n",
              " 'RESULTS\\tThe Outcome Measures in Rheumatology Clinical Trials-Osteoarthritis Research Society International responder rate was @ % in the intervention group and @ % in the placebo group ( p < @ ) .\\n',\n",
              " 'CONCLUSIONS\\tLow-dose oral prednisolone had both a short-term and a longer sustained effect resulting in less knee pain , better physical function , and attenuation of systemic inflammation in older patients with knee OA ( ClinicalTrials.gov identifier NCT@ ) .\\n',\n",
              " '\\n',\n",
              " '###24854809\\n',\n",
              " 'BACKGROUND\\tEmotional eating is associated with overeating and the development of obesity .\\n',\n",
              " 'BACKGROUND\\tYet , empirical evidence for individual ( trait ) differences in emotional eating and cognitive mechanisms that contribute to eating during sad mood remain equivocal .\\n',\n",
              " 'OBJECTIVE\\tThe aim of this study was to test if attention bias for food moderates the effect of self-reported emotional eating during sad mood ( vs neutral mood ) on actual food intake .\\n',\n",
              " 'OBJECTIVE\\tIt was expected that emotional eating is predictive of elevated attention for food and higher food intake after an experimentally induced sad mood and that attentional maintenance on food predicts food intake during a sad versus a neutral mood .\\n',\n",
              " 'METHODS\\tParticipants ( N = @ ) were randomly assigned to one of the two experimental mood induction conditions ( sad/neutral ) .\\n',\n",
              " 'METHODS\\tAttentional biases for high caloric foods were measured by eye tracking during a visual probe task with pictorial food and neutral stimuli .\\n',\n",
              " 'METHODS\\tSelf-reported emotional eating was assessed with the Dutch Eating Behavior Questionnaire ( DEBQ ) and ad libitum food intake was tested by a disguised food offer .\\n',\n",
              " 'RESULTS\\tHierarchical multivariate regression modeling showed that self-reported emotional eating did not account for changes in attention allocation for food or food intake in either condition .\\n',\n",
              " 'RESULTS\\tYet , attention maintenance on food cues was significantly related to increased intake specifically in the neutral condition , but not in the sad mood condition .\\n',\n",
              " 'CONCLUSIONS\\tThe current findings show that self-reported emotional eating ( based on the DEBQ ) might not validly predict who overeats when sad , at least not in a laboratory setting with healthy women .\\n',\n",
              " 'CONCLUSIONS\\tResults further suggest that attention maintenance on food relates to eating motivation when in a neutral affective state , and might therefore be a cognitive mechanism contributing to increased food intake in general , but maybe not during sad mood .\\n',\n",
              " '\\n']"
            ]
          },
          "metadata": {},
          "execution_count": 8
        }
      ]
    },
    {
      "cell_type": "code",
      "source": [
        "#creating function to convert dataset into this list of dictionary\n",
        "def preprocess_data_list(filename):\n",
        "  \"\"\"\n",
        "  returns a list of dictionary that converts file into proper format\n",
        "  \"\"\"\n",
        "  input_lines=get_lines(filename)#getting each line from file\n",
        "  abstract_lines=\"\"#create an empty abstract\n",
        "  abstract_samples=[]#create an empty list of abstracts\n",
        "\n",
        "  for line in input_lines:\n",
        "    if line.startswith(\"###\"):#ID line check\n",
        "      abstract_id=line\n",
        "      abstract_lines=\"\"#resetting abstract string if it the line is an id line\n",
        "    elif line.isspace():#new line check\n",
        "      abstract_line_split=abstract_lines.splitlines()#split abstracts into separate lines\n",
        "\n",
        "      #iterating through each line\n",
        "      for abstract_line_number,abstract_line in enumerate(abstract_line_split):\n",
        "        line_data={}#initialising empty string\n",
        "        target_text_split=abstract_line.split(\"\\t\")#split target and text\n",
        "        line_data[\"target\"]=target_text_split[0]#assign target\n",
        "        line_data[\"text\"]=\" \".join(target_text_split[1:])#assign text\n",
        "        line_data[\"line_number\"]=abstract_line_number\n",
        "        line_data[\"total_lines\"]=len(abstract_line_split)-1\n",
        "        abstract_samples.append(line_data)#append to list\n",
        "\n",
        "\n",
        "    else:#if above conditions aren't fullfilled\n",
        "      abstract_lines+=line#add line to abstract\n",
        "\n",
        "\n",
        "  return abstract_samples\n",
        "\n",
        "\n",
        "\n",
        "\n",
        "\n"
      ],
      "metadata": {
        "id": "vFi2kNzS8G2J"
      },
      "execution_count": null,
      "outputs": []
    },
    {
      "cell_type": "code",
      "source": [
        "#get samples\n",
        "train_samples=preprocess_data_list(data_dir+'/train.txt')\n",
        "val_samples=preprocess_data_list(data_dir+'/dev.txt')\n",
        "test_samples=preprocess_data_list(data_dir+'/test.txt')\n",
        "\n"
      ],
      "metadata": {
        "id": "RMlrpTMFJ8FI"
      },
      "execution_count": null,
      "outputs": []
    },
    {
      "cell_type": "code",
      "source": [
        "train_samples[:10]"
      ],
      "metadata": {
        "colab": {
          "base_uri": "https://localhost:8080/"
        },
        "id": "Ykwx7ZdfKQJf",
        "outputId": "9b9f8481-0b72-45e9-e59e-780a9f7e1423"
      },
      "execution_count": null,
      "outputs": [
        {
          "output_type": "execute_result",
          "data": {
            "text/plain": [
              "[{'target': 'OBJECTIVE',\n",
              "  'text': 'To investigate the efficacy of @ weeks of daily low-dose oral prednisolone in improving pain , mobility , and systemic low-grade inflammation in the short term and whether the effect would be sustained at @ weeks in older adults with moderate to severe knee osteoarthritis ( OA ) .',\n",
              "  'line_number': 0,\n",
              "  'total_lines': 11},\n",
              " {'target': 'METHODS',\n",
              "  'text': 'A total of @ patients with primary knee OA were randomized @:@ ; @ received @ mg/day of prednisolone and @ received placebo for @ weeks .',\n",
              "  'line_number': 1,\n",
              "  'total_lines': 11},\n",
              " {'target': 'METHODS',\n",
              "  'text': 'Outcome measures included pain reduction and improvement in function scores and systemic inflammation markers .',\n",
              "  'line_number': 2,\n",
              "  'total_lines': 11},\n",
              " {'target': 'METHODS',\n",
              "  'text': 'Pain was assessed using the visual analog pain scale ( @-@ mm ) .',\n",
              "  'line_number': 3,\n",
              "  'total_lines': 11},\n",
              " {'target': 'METHODS',\n",
              "  'text': 'Secondary outcome measures included the Western Ontario and McMaster Universities Osteoarthritis Index scores , patient global assessment ( PGA ) of the severity of knee OA , and @-min walk distance ( @MWD ) .',\n",
              "  'line_number': 4,\n",
              "  'total_lines': 11},\n",
              " {'target': 'METHODS',\n",
              "  'text': 'Serum levels of interleukin @ ( IL-@ ) , IL-@ , tumor necrosis factor ( TNF ) - , and high-sensitivity C-reactive protein ( hsCRP ) were measured .',\n",
              "  'line_number': 5,\n",
              "  'total_lines': 11},\n",
              " {'target': 'RESULTS',\n",
              "  'text': 'There was a clinically relevant reduction in the intervention group compared to the placebo group for knee pain , physical function , PGA , and @MWD at @ weeks .',\n",
              "  'line_number': 6,\n",
              "  'total_lines': 11},\n",
              " {'target': 'RESULTS',\n",
              "  'text': 'The mean difference between treatment arms ( @ % CI ) was @ ( @-@ @ ) , p < @ ; @ ( @-@ @ ) , p < @ ; @ ( @-@ @ ) , p < @ ; and @ ( @-@ @ ) , p < @ , respectively .',\n",
              "  'line_number': 7,\n",
              "  'total_lines': 11},\n",
              " {'target': 'RESULTS',\n",
              "  'text': 'Further , there was a clinically relevant reduction in the serum levels of IL-@ , IL-@ , TNF - , and hsCRP at @ weeks in the intervention group when compared to the placebo group .',\n",
              "  'line_number': 8,\n",
              "  'total_lines': 11},\n",
              " {'target': 'RESULTS',\n",
              "  'text': 'These differences remained significant at @ weeks .',\n",
              "  'line_number': 9,\n",
              "  'total_lines': 11}]"
            ]
          },
          "metadata": {},
          "execution_count": 11
        }
      ]
    },
    {
      "cell_type": "code",
      "source": [
        "#creating required dataframes\n",
        "\n",
        "train_df=pd.DataFrame(train_samples)\n",
        "val_df=pd.DataFrame(val_samples)\n",
        "test_df=pd.DataFrame(test_samples)\n",
        "train_df.head()"
      ],
      "metadata": {
        "colab": {
          "base_uri": "https://localhost:8080/",
          "height": 206
        },
        "id": "4hrT4HiOKwUw",
        "outputId": "5a508010-7a0e-4b1f-8e48-e25fd525e111"
      },
      "execution_count": null,
      "outputs": [
        {
          "output_type": "execute_result",
          "data": {
            "text/plain": [
              "      target                                               text  line_number  \\\n",
              "0  OBJECTIVE  To investigate the efficacy of @ weeks of dail...            0   \n",
              "1    METHODS  A total of @ patients with primary knee OA wer...            1   \n",
              "2    METHODS  Outcome measures included pain reduction and i...            2   \n",
              "3    METHODS  Pain was assessed using the visual analog pain...            3   \n",
              "4    METHODS  Secondary outcome measures included the Wester...            4   \n",
              "\n",
              "   total_lines  \n",
              "0           11  \n",
              "1           11  \n",
              "2           11  \n",
              "3           11  \n",
              "4           11  "
            ],
            "text/html": [
              "\n",
              "  <div id=\"df-32b1c6b5-821a-4c51-a358-c043c43110b4\" class=\"colab-df-container\">\n",
              "    <div>\n",
              "<style scoped>\n",
              "    .dataframe tbody tr th:only-of-type {\n",
              "        vertical-align: middle;\n",
              "    }\n",
              "\n",
              "    .dataframe tbody tr th {\n",
              "        vertical-align: top;\n",
              "    }\n",
              "\n",
              "    .dataframe thead th {\n",
              "        text-align: right;\n",
              "    }\n",
              "</style>\n",
              "<table border=\"1\" class=\"dataframe\">\n",
              "  <thead>\n",
              "    <tr style=\"text-align: right;\">\n",
              "      <th></th>\n",
              "      <th>target</th>\n",
              "      <th>text</th>\n",
              "      <th>line_number</th>\n",
              "      <th>total_lines</th>\n",
              "    </tr>\n",
              "  </thead>\n",
              "  <tbody>\n",
              "    <tr>\n",
              "      <th>0</th>\n",
              "      <td>OBJECTIVE</td>\n",
              "      <td>To investigate the efficacy of @ weeks of dail...</td>\n",
              "      <td>0</td>\n",
              "      <td>11</td>\n",
              "    </tr>\n",
              "    <tr>\n",
              "      <th>1</th>\n",
              "      <td>METHODS</td>\n",
              "      <td>A total of @ patients with primary knee OA wer...</td>\n",
              "      <td>1</td>\n",
              "      <td>11</td>\n",
              "    </tr>\n",
              "    <tr>\n",
              "      <th>2</th>\n",
              "      <td>METHODS</td>\n",
              "      <td>Outcome measures included pain reduction and i...</td>\n",
              "      <td>2</td>\n",
              "      <td>11</td>\n",
              "    </tr>\n",
              "    <tr>\n",
              "      <th>3</th>\n",
              "      <td>METHODS</td>\n",
              "      <td>Pain was assessed using the visual analog pain...</td>\n",
              "      <td>3</td>\n",
              "      <td>11</td>\n",
              "    </tr>\n",
              "    <tr>\n",
              "      <th>4</th>\n",
              "      <td>METHODS</td>\n",
              "      <td>Secondary outcome measures included the Wester...</td>\n",
              "      <td>4</td>\n",
              "      <td>11</td>\n",
              "    </tr>\n",
              "  </tbody>\n",
              "</table>\n",
              "</div>\n",
              "    <div class=\"colab-df-buttons\">\n",
              "\n",
              "  <div class=\"colab-df-container\">\n",
              "    <button class=\"colab-df-convert\" onclick=\"convertToInteractive('df-32b1c6b5-821a-4c51-a358-c043c43110b4')\"\n",
              "            title=\"Convert this dataframe to an interactive table.\"\n",
              "            style=\"display:none;\">\n",
              "\n",
              "  <svg xmlns=\"http://www.w3.org/2000/svg\" height=\"24px\" viewBox=\"0 -960 960 960\">\n",
              "    <path d=\"M120-120v-720h720v720H120Zm60-500h600v-160H180v160Zm220 220h160v-160H400v160Zm0 220h160v-160H400v160ZM180-400h160v-160H180v160Zm440 0h160v-160H620v160ZM180-180h160v-160H180v160Zm440 0h160v-160H620v160Z\"/>\n",
              "  </svg>\n",
              "    </button>\n",
              "\n",
              "  <style>\n",
              "    .colab-df-container {\n",
              "      display:flex;\n",
              "      gap: 12px;\n",
              "    }\n",
              "\n",
              "    .colab-df-convert {\n",
              "      background-color: #E8F0FE;\n",
              "      border: none;\n",
              "      border-radius: 50%;\n",
              "      cursor: pointer;\n",
              "      display: none;\n",
              "      fill: #1967D2;\n",
              "      height: 32px;\n",
              "      padding: 0 0 0 0;\n",
              "      width: 32px;\n",
              "    }\n",
              "\n",
              "    .colab-df-convert:hover {\n",
              "      background-color: #E2EBFA;\n",
              "      box-shadow: 0px 1px 2px rgba(60, 64, 67, 0.3), 0px 1px 3px 1px rgba(60, 64, 67, 0.15);\n",
              "      fill: #174EA6;\n",
              "    }\n",
              "\n",
              "    .colab-df-buttons div {\n",
              "      margin-bottom: 4px;\n",
              "    }\n",
              "\n",
              "    [theme=dark] .colab-df-convert {\n",
              "      background-color: #3B4455;\n",
              "      fill: #D2E3FC;\n",
              "    }\n",
              "\n",
              "    [theme=dark] .colab-df-convert:hover {\n",
              "      background-color: #434B5C;\n",
              "      box-shadow: 0px 1px 3px 1px rgba(0, 0, 0, 0.15);\n",
              "      filter: drop-shadow(0px 1px 2px rgba(0, 0, 0, 0.3));\n",
              "      fill: #FFFFFF;\n",
              "    }\n",
              "  </style>\n",
              "\n",
              "    <script>\n",
              "      const buttonEl =\n",
              "        document.querySelector('#df-32b1c6b5-821a-4c51-a358-c043c43110b4 button.colab-df-convert');\n",
              "      buttonEl.style.display =\n",
              "        google.colab.kernel.accessAllowed ? 'block' : 'none';\n",
              "\n",
              "      async function convertToInteractive(key) {\n",
              "        const element = document.querySelector('#df-32b1c6b5-821a-4c51-a358-c043c43110b4');\n",
              "        const dataTable =\n",
              "          await google.colab.kernel.invokeFunction('convertToInteractive',\n",
              "                                                    [key], {});\n",
              "        if (!dataTable) return;\n",
              "\n",
              "        const docLinkHtml = 'Like what you see? Visit the ' +\n",
              "          '<a target=\"_blank\" href=https://colab.research.google.com/notebooks/data_table.ipynb>data table notebook</a>'\n",
              "          + ' to learn more about interactive tables.';\n",
              "        element.innerHTML = '';\n",
              "        dataTable['output_type'] = 'display_data';\n",
              "        await google.colab.output.renderOutput(dataTable, element);\n",
              "        const docLink = document.createElement('div');\n",
              "        docLink.innerHTML = docLinkHtml;\n",
              "        element.appendChild(docLink);\n",
              "      }\n",
              "    </script>\n",
              "  </div>\n",
              "\n",
              "\n",
              "<div id=\"df-60f2e4c9-614c-4484-bcb3-bf4d942463ff\">\n",
              "  <button class=\"colab-df-quickchart\" onclick=\"quickchart('df-60f2e4c9-614c-4484-bcb3-bf4d942463ff')\"\n",
              "            title=\"Suggest charts\"\n",
              "            style=\"display:none;\">\n",
              "\n",
              "<svg xmlns=\"http://www.w3.org/2000/svg\" height=\"24px\"viewBox=\"0 0 24 24\"\n",
              "     width=\"24px\">\n",
              "    <g>\n",
              "        <path d=\"M19 3H5c-1.1 0-2 .9-2 2v14c0 1.1.9 2 2 2h14c1.1 0 2-.9 2-2V5c0-1.1-.9-2-2-2zM9 17H7v-7h2v7zm4 0h-2V7h2v10zm4 0h-2v-4h2v4z\"/>\n",
              "    </g>\n",
              "</svg>\n",
              "  </button>\n",
              "\n",
              "<style>\n",
              "  .colab-df-quickchart {\n",
              "      --bg-color: #E8F0FE;\n",
              "      --fill-color: #1967D2;\n",
              "      --hover-bg-color: #E2EBFA;\n",
              "      --hover-fill-color: #174EA6;\n",
              "      --disabled-fill-color: #AAA;\n",
              "      --disabled-bg-color: #DDD;\n",
              "  }\n",
              "\n",
              "  [theme=dark] .colab-df-quickchart {\n",
              "      --bg-color: #3B4455;\n",
              "      --fill-color: #D2E3FC;\n",
              "      --hover-bg-color: #434B5C;\n",
              "      --hover-fill-color: #FFFFFF;\n",
              "      --disabled-bg-color: #3B4455;\n",
              "      --disabled-fill-color: #666;\n",
              "  }\n",
              "\n",
              "  .colab-df-quickchart {\n",
              "    background-color: var(--bg-color);\n",
              "    border: none;\n",
              "    border-radius: 50%;\n",
              "    cursor: pointer;\n",
              "    display: none;\n",
              "    fill: var(--fill-color);\n",
              "    height: 32px;\n",
              "    padding: 0;\n",
              "    width: 32px;\n",
              "  }\n",
              "\n",
              "  .colab-df-quickchart:hover {\n",
              "    background-color: var(--hover-bg-color);\n",
              "    box-shadow: 0 1px 2px rgba(60, 64, 67, 0.3), 0 1px 3px 1px rgba(60, 64, 67, 0.15);\n",
              "    fill: var(--button-hover-fill-color);\n",
              "  }\n",
              "\n",
              "  .colab-df-quickchart-complete:disabled,\n",
              "  .colab-df-quickchart-complete:disabled:hover {\n",
              "    background-color: var(--disabled-bg-color);\n",
              "    fill: var(--disabled-fill-color);\n",
              "    box-shadow: none;\n",
              "  }\n",
              "\n",
              "  .colab-df-spinner {\n",
              "    border: 2px solid var(--fill-color);\n",
              "    border-color: transparent;\n",
              "    border-bottom-color: var(--fill-color);\n",
              "    animation:\n",
              "      spin 1s steps(1) infinite;\n",
              "  }\n",
              "\n",
              "  @keyframes spin {\n",
              "    0% {\n",
              "      border-color: transparent;\n",
              "      border-bottom-color: var(--fill-color);\n",
              "      border-left-color: var(--fill-color);\n",
              "    }\n",
              "    20% {\n",
              "      border-color: transparent;\n",
              "      border-left-color: var(--fill-color);\n",
              "      border-top-color: var(--fill-color);\n",
              "    }\n",
              "    30% {\n",
              "      border-color: transparent;\n",
              "      border-left-color: var(--fill-color);\n",
              "      border-top-color: var(--fill-color);\n",
              "      border-right-color: var(--fill-color);\n",
              "    }\n",
              "    40% {\n",
              "      border-color: transparent;\n",
              "      border-right-color: var(--fill-color);\n",
              "      border-top-color: var(--fill-color);\n",
              "    }\n",
              "    60% {\n",
              "      border-color: transparent;\n",
              "      border-right-color: var(--fill-color);\n",
              "    }\n",
              "    80% {\n",
              "      border-color: transparent;\n",
              "      border-right-color: var(--fill-color);\n",
              "      border-bottom-color: var(--fill-color);\n",
              "    }\n",
              "    90% {\n",
              "      border-color: transparent;\n",
              "      border-bottom-color: var(--fill-color);\n",
              "    }\n",
              "  }\n",
              "</style>\n",
              "\n",
              "  <script>\n",
              "    async function quickchart(key) {\n",
              "      const quickchartButtonEl =\n",
              "        document.querySelector('#' + key + ' button');\n",
              "      quickchartButtonEl.disabled = true;  // To prevent multiple clicks.\n",
              "      quickchartButtonEl.classList.add('colab-df-spinner');\n",
              "      try {\n",
              "        const charts = await google.colab.kernel.invokeFunction(\n",
              "            'suggestCharts', [key], {});\n",
              "      } catch (error) {\n",
              "        console.error('Error during call to suggestCharts:', error);\n",
              "      }\n",
              "      quickchartButtonEl.classList.remove('colab-df-spinner');\n",
              "      quickchartButtonEl.classList.add('colab-df-quickchart-complete');\n",
              "    }\n",
              "    (() => {\n",
              "      let quickchartButtonEl =\n",
              "        document.querySelector('#df-60f2e4c9-614c-4484-bcb3-bf4d942463ff button');\n",
              "      quickchartButtonEl.style.display =\n",
              "        google.colab.kernel.accessAllowed ? 'block' : 'none';\n",
              "    })();\n",
              "  </script>\n",
              "</div>\n",
              "\n",
              "    </div>\n",
              "  </div>\n"
            ],
            "application/vnd.google.colaboratory.intrinsic+json": {
              "type": "dataframe",
              "variable_name": "train_df"
            }
          },
          "metadata": {},
          "execution_count": 12
        }
      ]
    },
    {
      "cell_type": "code",
      "source": [
        "#distribution of targets\n",
        "train_df['target'].value_counts()"
      ],
      "metadata": {
        "id": "s12m8od5Z_H6",
        "colab": {
          "base_uri": "https://localhost:8080/",
          "height": 272
        },
        "outputId": "7e026dd0-dd78-483a-cd2f-218a949d4256"
      },
      "execution_count": null,
      "outputs": [
        {
          "output_type": "execute_result",
          "data": {
            "text/plain": [
              "target\n",
              "METHODS        59353\n",
              "RESULTS        57953\n",
              "CONCLUSIONS    27168\n",
              "BACKGROUND     21727\n",
              "OBJECTIVE      13839\n",
              "Name: count, dtype: int64"
            ],
            "text/html": [
              "<div>\n",
              "<style scoped>\n",
              "    .dataframe tbody tr th:only-of-type {\n",
              "        vertical-align: middle;\n",
              "    }\n",
              "\n",
              "    .dataframe tbody tr th {\n",
              "        vertical-align: top;\n",
              "    }\n",
              "\n",
              "    .dataframe thead th {\n",
              "        text-align: right;\n",
              "    }\n",
              "</style>\n",
              "<table border=\"1\" class=\"dataframe\">\n",
              "  <thead>\n",
              "    <tr style=\"text-align: right;\">\n",
              "      <th></th>\n",
              "      <th>count</th>\n",
              "    </tr>\n",
              "    <tr>\n",
              "      <th>target</th>\n",
              "      <th></th>\n",
              "    </tr>\n",
              "  </thead>\n",
              "  <tbody>\n",
              "    <tr>\n",
              "      <th>METHODS</th>\n",
              "      <td>59353</td>\n",
              "    </tr>\n",
              "    <tr>\n",
              "      <th>RESULTS</th>\n",
              "      <td>57953</td>\n",
              "    </tr>\n",
              "    <tr>\n",
              "      <th>CONCLUSIONS</th>\n",
              "      <td>27168</td>\n",
              "    </tr>\n",
              "    <tr>\n",
              "      <th>BACKGROUND</th>\n",
              "      <td>21727</td>\n",
              "    </tr>\n",
              "    <tr>\n",
              "      <th>OBJECTIVE</th>\n",
              "      <td>13839</td>\n",
              "    </tr>\n",
              "  </tbody>\n",
              "</table>\n",
              "</div><br><label><b>dtype:</b> int64</label>"
            ]
          },
          "metadata": {},
          "execution_count": 13
        }
      ]
    },
    {
      "cell_type": "code",
      "source": [
        "#length of diffrent lines\n",
        "train_df['total_lines'].plot.hist()"
      ],
      "metadata": {
        "colab": {
          "base_uri": "https://localhost:8080/",
          "height": 448
        },
        "id": "1mLIRHcknhBY",
        "outputId": "7c6c495a-b438-4425-acbd-3a6055cf0d15"
      },
      "execution_count": null,
      "outputs": [
        {
          "output_type": "execute_result",
          "data": {
            "text/plain": [
              "<Axes: ylabel='Frequency'>"
            ]
          },
          "metadata": {},
          "execution_count": 14
        },
        {
          "output_type": "display_data",
          "data": {
            "text/plain": [
              "<Figure size 640x480 with 1 Axes>"
            ],
            "image/png": "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\n"
          },
          "metadata": {}
        }
      ]
    },
    {
      "cell_type": "markdown",
      "source": [
        "#get lists of sentences"
      ],
      "metadata": {
        "id": "gNZMFmk0nzgt"
      }
    },
    {
      "cell_type": "code",
      "source": [
        "#convert the abstract text lines into lists\n",
        "train_lines=train_df['text'].to_list()\n",
        "val_lines=val_df['text'].to_list()\n",
        "test_lines=test_df['text'].to_list()"
      ],
      "metadata": {
        "id": "nlZ6AVhknxZb"
      },
      "execution_count": null,
      "outputs": []
    },
    {
      "cell_type": "code",
      "source": [
        "train_lines[:2]"
      ],
      "metadata": {
        "colab": {
          "base_uri": "https://localhost:8080/"
        },
        "id": "slEBkaQDoEIc",
        "outputId": "2a779b5f-b08d-4571-8dd9-aad321f2e887"
      },
      "execution_count": null,
      "outputs": [
        {
          "output_type": "execute_result",
          "data": {
            "text/plain": [
              "['To investigate the efficacy of @ weeks of daily low-dose oral prednisolone in improving pain , mobility , and systemic low-grade inflammation in the short term and whether the effect would be sustained at @ weeks in older adults with moderate to severe knee osteoarthritis ( OA ) .',\n",
              " 'A total of @ patients with primary knee OA were randomized @:@ ; @ received @ mg/day of prednisolone and @ received placebo for @ weeks .']"
            ]
          },
          "metadata": {},
          "execution_count": 16
        }
      ]
    },
    {
      "cell_type": "code",
      "source": [
        "#transformings targets into labels\n",
        "#one hot labels\n",
        "from sklearn.preprocessing import OneHotEncoder\n",
        "OHE=OneHotEncoder()\n",
        "train_labels_OHE=OHE.fit_transform(train_df[['target']])\n",
        "val_labels_OHE=OHE.transform(val_df[['target']])\n",
        "test_labels_OHE=OHE.transform(test_df[['target']])"
      ],
      "metadata": {
        "id": "zUp752uuoJMm"
      },
      "execution_count": null,
      "outputs": []
    },
    {
      "cell_type": "code",
      "source": [
        "train_labels_OHE"
      ],
      "metadata": {
        "colab": {
          "base_uri": "https://localhost:8080/"
        },
        "id": "FjP_J2MFpIj2",
        "outputId": "9eee419e-e866-4c0e-8c1e-fe950a8f5919"
      },
      "execution_count": null,
      "outputs": [
        {
          "output_type": "execute_result",
          "data": {
            "text/plain": [
              "<180040x5 sparse matrix of type '<class 'numpy.float64'>'\n",
              "\twith 180040 stored elements in Compressed Sparse Row format>"
            ]
          },
          "metadata": {},
          "execution_count": 18
        }
      ]
    },
    {
      "cell_type": "code",
      "source": [
        "#converting them into tensor\n",
        "import tensorflow as tf\n",
        "train_labels_OHE=tf.constant(train_labels_OHE.toarray())\n",
        "val_labels_OHE=tf.constant(val_labels_OHE.toarray())\n",
        "test_labels_OHE=tf.constant(test_labels_OHE.toarray())"
      ],
      "metadata": {
        "id": "FQK8fzZSpXdm"
      },
      "execution_count": null,
      "outputs": []
    },
    {
      "cell_type": "code",
      "source": [
        "train_labels_OHE"
      ],
      "metadata": {
        "colab": {
          "base_uri": "https://localhost:8080/"
        },
        "id": "Rm7ScBPKpzO9",
        "outputId": "81ba8d4b-3ecc-4a1c-a206-f89cf8dccc79"
      },
      "execution_count": null,
      "outputs": [
        {
          "output_type": "execute_result",
          "data": {
            "text/plain": [
              "<tf.Tensor: shape=(180040, 5), dtype=float64, numpy=\n",
              "array([[0., 0., 0., 1., 0.],\n",
              "       [0., 0., 1., 0., 0.],\n",
              "       [0., 0., 1., 0., 0.],\n",
              "       ...,\n",
              "       [0., 0., 0., 0., 1.],\n",
              "       [0., 1., 0., 0., 0.],\n",
              "       [0., 1., 0., 0., 0.]])>"
            ]
          },
          "metadata": {},
          "execution_count": 20
        }
      ]
    },
    {
      "cell_type": "code",
      "source": [
        "#label encoding\n",
        "from sklearn.preprocessing import LabelEncoder\n",
        "LE=LabelEncoder()\n",
        "train_labels=LE.fit_transform(train_df['target'])\n",
        "val_labels=LE.transform(val_df['target'])\n",
        "test_labels=LE.transform(test_df['target'])\n",
        "\n",
        "train_labels"
      ],
      "metadata": {
        "colab": {
          "base_uri": "https://localhost:8080/"
        },
        "id": "nXdiAp3gp6JY",
        "outputId": "060ebd8a-802d-423a-ed9f-dc3cfadadf41"
      },
      "execution_count": null,
      "outputs": [
        {
          "output_type": "execute_result",
          "data": {
            "text/plain": [
              "array([3, 2, 2, ..., 4, 1, 1])"
            ]
          },
          "metadata": {},
          "execution_count": 21
        }
      ]
    },
    {
      "cell_type": "code",
      "source": [
        "#get class names and number of classes from label encoder\n",
        "num_classes=len(LE.classes_)\n",
        "class_names=LE.classes_\n",
        "print(class_names)\n",
        "print(num_classes)"
      ],
      "metadata": {
        "colab": {
          "base_uri": "https://localhost:8080/"
        },
        "id": "_Uv639VMqhzm",
        "outputId": "82be3854-f008-4de3-d24e-f2af8b5934c8"
      },
      "execution_count": null,
      "outputs": [
        {
          "output_type": "stream",
          "name": "stdout",
          "text": [
            "['BACKGROUND' 'CONCLUSIONS' 'METHODS' 'OBJECTIVE' 'RESULTS']\n",
            "5\n"
          ]
        }
      ]
    },
    {
      "cell_type": "markdown",
      "source": [
        "##baseline Model 0 Naive base tf idf vectorizer"
      ],
      "metadata": {
        "id": "T5tafIUBraw9"
      }
    },
    {
      "cell_type": "code",
      "source": [
        "from sklearn.feature_extraction.text import TfidfVectorizer\n",
        "from sklearn.naive_bayes import MultinomialNB\n",
        "from sklearn.pipeline import Pipeline\n",
        "\n",
        "#create a pipeline\n",
        "model_0=Pipeline([\n",
        "    (\"tfidf\",TfidfVectorizer()),\n",
        "    (\"clf\",MultinomialNB())\n",
        "])\n",
        "\n",
        "#fit the pipeline\n",
        "model_0.fit(train_lines,train_labels)"
      ],
      "metadata": {
        "colab": {
          "base_uri": "https://localhost:8080/",
          "height": 155
        },
        "id": "swMjlfb9rAoD",
        "outputId": "b7daacbd-7e6b-4418-883f-3f70544e96a6"
      },
      "execution_count": null,
      "outputs": [
        {
          "output_type": "execute_result",
          "data": {
            "text/plain": [
              "Pipeline(steps=[('tfidf', TfidfVectorizer()), ('clf', MultinomialNB())])"
            ],
            "text/html": [
              "<style>#sk-container-id-1 {\n",
              "  /* Definition of color scheme common for light and dark mode */\n",
              "  --sklearn-color-text: #000;\n",
              "  --sklearn-color-text-muted: #666;\n",
              "  --sklearn-color-line: gray;\n",
              "  /* Definition of color scheme for unfitted estimators */\n",
              "  --sklearn-color-unfitted-level-0: #fff5e6;\n",
              "  --sklearn-color-unfitted-level-1: #f6e4d2;\n",
              "  --sklearn-color-unfitted-level-2: #ffe0b3;\n",
              "  --sklearn-color-unfitted-level-3: chocolate;\n",
              "  /* Definition of color scheme for fitted estimators */\n",
              "  --sklearn-color-fitted-level-0: #f0f8ff;\n",
              "  --sklearn-color-fitted-level-1: #d4ebff;\n",
              "  --sklearn-color-fitted-level-2: #b3dbfd;\n",
              "  --sklearn-color-fitted-level-3: cornflowerblue;\n",
              "\n",
              "  /* Specific color for light theme */\n",
              "  --sklearn-color-text-on-default-background: var(--sg-text-color, var(--theme-code-foreground, var(--jp-content-font-color1, black)));\n",
              "  --sklearn-color-background: var(--sg-background-color, var(--theme-background, var(--jp-layout-color0, white)));\n",
              "  --sklearn-color-border-box: var(--sg-text-color, var(--theme-code-foreground, var(--jp-content-font-color1, black)));\n",
              "  --sklearn-color-icon: #696969;\n",
              "\n",
              "  @media (prefers-color-scheme: dark) {\n",
              "    /* Redefinition of color scheme for dark theme */\n",
              "    --sklearn-color-text-on-default-background: var(--sg-text-color, var(--theme-code-foreground, var(--jp-content-font-color1, white)));\n",
              "    --sklearn-color-background: var(--sg-background-color, var(--theme-background, var(--jp-layout-color0, #111)));\n",
              "    --sklearn-color-border-box: var(--sg-text-color, var(--theme-code-foreground, var(--jp-content-font-color1, white)));\n",
              "    --sklearn-color-icon: #878787;\n",
              "  }\n",
              "}\n",
              "\n",
              "#sk-container-id-1 {\n",
              "  color: var(--sklearn-color-text);\n",
              "}\n",
              "\n",
              "#sk-container-id-1 pre {\n",
              "  padding: 0;\n",
              "}\n",
              "\n",
              "#sk-container-id-1 input.sk-hidden--visually {\n",
              "  border: 0;\n",
              "  clip: rect(1px 1px 1px 1px);\n",
              "  clip: rect(1px, 1px, 1px, 1px);\n",
              "  height: 1px;\n",
              "  margin: -1px;\n",
              "  overflow: hidden;\n",
              "  padding: 0;\n",
              "  position: absolute;\n",
              "  width: 1px;\n",
              "}\n",
              "\n",
              "#sk-container-id-1 div.sk-dashed-wrapped {\n",
              "  border: 1px dashed var(--sklearn-color-line);\n",
              "  margin: 0 0.4em 0.5em 0.4em;\n",
              "  box-sizing: border-box;\n",
              "  padding-bottom: 0.4em;\n",
              "  background-color: var(--sklearn-color-background);\n",
              "}\n",
              "\n",
              "#sk-container-id-1 div.sk-container {\n",
              "  /* jupyter's `normalize.less` sets `[hidden] { display: none; }`\n",
              "     but bootstrap.min.css set `[hidden] { display: none !important; }`\n",
              "     so we also need the `!important` here to be able to override the\n",
              "     default hidden behavior on the sphinx rendered scikit-learn.org.\n",
              "     See: https://github.com/scikit-learn/scikit-learn/issues/21755 */\n",
              "  display: inline-block !important;\n",
              "  position: relative;\n",
              "}\n",
              "\n",
              "#sk-container-id-1 div.sk-text-repr-fallback {\n",
              "  display: none;\n",
              "}\n",
              "\n",
              "div.sk-parallel-item,\n",
              "div.sk-serial,\n",
              "div.sk-item {\n",
              "  /* draw centered vertical line to link estimators */\n",
              "  background-image: linear-gradient(var(--sklearn-color-text-on-default-background), var(--sklearn-color-text-on-default-background));\n",
              "  background-size: 2px 100%;\n",
              "  background-repeat: no-repeat;\n",
              "  background-position: center center;\n",
              "}\n",
              "\n",
              "/* Parallel-specific style estimator block */\n",
              "\n",
              "#sk-container-id-1 div.sk-parallel-item::after {\n",
              "  content: \"\";\n",
              "  width: 100%;\n",
              "  border-bottom: 2px solid var(--sklearn-color-text-on-default-background);\n",
              "  flex-grow: 1;\n",
              "}\n",
              "\n",
              "#sk-container-id-1 div.sk-parallel {\n",
              "  display: flex;\n",
              "  align-items: stretch;\n",
              "  justify-content: center;\n",
              "  background-color: var(--sklearn-color-background);\n",
              "  position: relative;\n",
              "}\n",
              "\n",
              "#sk-container-id-1 div.sk-parallel-item {\n",
              "  display: flex;\n",
              "  flex-direction: column;\n",
              "}\n",
              "\n",
              "#sk-container-id-1 div.sk-parallel-item:first-child::after {\n",
              "  align-self: flex-end;\n",
              "  width: 50%;\n",
              "}\n",
              "\n",
              "#sk-container-id-1 div.sk-parallel-item:last-child::after {\n",
              "  align-self: flex-start;\n",
              "  width: 50%;\n",
              "}\n",
              "\n",
              "#sk-container-id-1 div.sk-parallel-item:only-child::after {\n",
              "  width: 0;\n",
              "}\n",
              "\n",
              "/* Serial-specific style estimator block */\n",
              "\n",
              "#sk-container-id-1 div.sk-serial {\n",
              "  display: flex;\n",
              "  flex-direction: column;\n",
              "  align-items: center;\n",
              "  background-color: var(--sklearn-color-background);\n",
              "  padding-right: 1em;\n",
              "  padding-left: 1em;\n",
              "}\n",
              "\n",
              "\n",
              "/* Toggleable style: style used for estimator/Pipeline/ColumnTransformer box that is\n",
              "clickable and can be expanded/collapsed.\n",
              "- Pipeline and ColumnTransformer use this feature and define the default style\n",
              "- Estimators will overwrite some part of the style using the `sk-estimator` class\n",
              "*/\n",
              "\n",
              "/* Pipeline and ColumnTransformer style (default) */\n",
              "\n",
              "#sk-container-id-1 div.sk-toggleable {\n",
              "  /* Default theme specific background. It is overwritten whether we have a\n",
              "  specific estimator or a Pipeline/ColumnTransformer */\n",
              "  background-color: var(--sklearn-color-background);\n",
              "}\n",
              "\n",
              "/* Toggleable label */\n",
              "#sk-container-id-1 label.sk-toggleable__label {\n",
              "  cursor: pointer;\n",
              "  display: flex;\n",
              "  width: 100%;\n",
              "  margin-bottom: 0;\n",
              "  padding: 0.5em;\n",
              "  box-sizing: border-box;\n",
              "  text-align: center;\n",
              "  align-items: start;\n",
              "  justify-content: space-between;\n",
              "  gap: 0.5em;\n",
              "}\n",
              "\n",
              "#sk-container-id-1 label.sk-toggleable__label .caption {\n",
              "  font-size: 0.6rem;\n",
              "  font-weight: lighter;\n",
              "  color: var(--sklearn-color-text-muted);\n",
              "}\n",
              "\n",
              "#sk-container-id-1 label.sk-toggleable__label-arrow:before {\n",
              "  /* Arrow on the left of the label */\n",
              "  content: \"▸\";\n",
              "  float: left;\n",
              "  margin-right: 0.25em;\n",
              "  color: var(--sklearn-color-icon);\n",
              "}\n",
              "\n",
              "#sk-container-id-1 label.sk-toggleable__label-arrow:hover:before {\n",
              "  color: var(--sklearn-color-text);\n",
              "}\n",
              "\n",
              "/* Toggleable content - dropdown */\n",
              "\n",
              "#sk-container-id-1 div.sk-toggleable__content {\n",
              "  max-height: 0;\n",
              "  max-width: 0;\n",
              "  overflow: hidden;\n",
              "  text-align: left;\n",
              "  /* unfitted */\n",
              "  background-color: var(--sklearn-color-unfitted-level-0);\n",
              "}\n",
              "\n",
              "#sk-container-id-1 div.sk-toggleable__content.fitted {\n",
              "  /* fitted */\n",
              "  background-color: var(--sklearn-color-fitted-level-0);\n",
              "}\n",
              "\n",
              "#sk-container-id-1 div.sk-toggleable__content pre {\n",
              "  margin: 0.2em;\n",
              "  border-radius: 0.25em;\n",
              "  color: var(--sklearn-color-text);\n",
              "  /* unfitted */\n",
              "  background-color: var(--sklearn-color-unfitted-level-0);\n",
              "}\n",
              "\n",
              "#sk-container-id-1 div.sk-toggleable__content.fitted pre {\n",
              "  /* unfitted */\n",
              "  background-color: var(--sklearn-color-fitted-level-0);\n",
              "}\n",
              "\n",
              "#sk-container-id-1 input.sk-toggleable__control:checked~div.sk-toggleable__content {\n",
              "  /* Expand drop-down */\n",
              "  max-height: 200px;\n",
              "  max-width: 100%;\n",
              "  overflow: auto;\n",
              "}\n",
              "\n",
              "#sk-container-id-1 input.sk-toggleable__control:checked~label.sk-toggleable__label-arrow:before {\n",
              "  content: \"▾\";\n",
              "}\n",
              "\n",
              "/* Pipeline/ColumnTransformer-specific style */\n",
              "\n",
              "#sk-container-id-1 div.sk-label input.sk-toggleable__control:checked~label.sk-toggleable__label {\n",
              "  color: var(--sklearn-color-text);\n",
              "  background-color: var(--sklearn-color-unfitted-level-2);\n",
              "}\n",
              "\n",
              "#sk-container-id-1 div.sk-label.fitted input.sk-toggleable__control:checked~label.sk-toggleable__label {\n",
              "  background-color: var(--sklearn-color-fitted-level-2);\n",
              "}\n",
              "\n",
              "/* Estimator-specific style */\n",
              "\n",
              "/* Colorize estimator box */\n",
              "#sk-container-id-1 div.sk-estimator input.sk-toggleable__control:checked~label.sk-toggleable__label {\n",
              "  /* unfitted */\n",
              "  background-color: var(--sklearn-color-unfitted-level-2);\n",
              "}\n",
              "\n",
              "#sk-container-id-1 div.sk-estimator.fitted input.sk-toggleable__control:checked~label.sk-toggleable__label {\n",
              "  /* fitted */\n",
              "  background-color: var(--sklearn-color-fitted-level-2);\n",
              "}\n",
              "\n",
              "#sk-container-id-1 div.sk-label label.sk-toggleable__label,\n",
              "#sk-container-id-1 div.sk-label label {\n",
              "  /* The background is the default theme color */\n",
              "  color: var(--sklearn-color-text-on-default-background);\n",
              "}\n",
              "\n",
              "/* On hover, darken the color of the background */\n",
              "#sk-container-id-1 div.sk-label:hover label.sk-toggleable__label {\n",
              "  color: var(--sklearn-color-text);\n",
              "  background-color: var(--sklearn-color-unfitted-level-2);\n",
              "}\n",
              "\n",
              "/* Label box, darken color on hover, fitted */\n",
              "#sk-container-id-1 div.sk-label.fitted:hover label.sk-toggleable__label.fitted {\n",
              "  color: var(--sklearn-color-text);\n",
              "  background-color: var(--sklearn-color-fitted-level-2);\n",
              "}\n",
              "\n",
              "/* Estimator label */\n",
              "\n",
              "#sk-container-id-1 div.sk-label label {\n",
              "  font-family: monospace;\n",
              "  font-weight: bold;\n",
              "  display: inline-block;\n",
              "  line-height: 1.2em;\n",
              "}\n",
              "\n",
              "#sk-container-id-1 div.sk-label-container {\n",
              "  text-align: center;\n",
              "}\n",
              "\n",
              "/* Estimator-specific */\n",
              "#sk-container-id-1 div.sk-estimator {\n",
              "  font-family: monospace;\n",
              "  border: 1px dotted var(--sklearn-color-border-box);\n",
              "  border-radius: 0.25em;\n",
              "  box-sizing: border-box;\n",
              "  margin-bottom: 0.5em;\n",
              "  /* unfitted */\n",
              "  background-color: var(--sklearn-color-unfitted-level-0);\n",
              "}\n",
              "\n",
              "#sk-container-id-1 div.sk-estimator.fitted {\n",
              "  /* fitted */\n",
              "  background-color: var(--sklearn-color-fitted-level-0);\n",
              "}\n",
              "\n",
              "/* on hover */\n",
              "#sk-container-id-1 div.sk-estimator:hover {\n",
              "  /* unfitted */\n",
              "  background-color: var(--sklearn-color-unfitted-level-2);\n",
              "}\n",
              "\n",
              "#sk-container-id-1 div.sk-estimator.fitted:hover {\n",
              "  /* fitted */\n",
              "  background-color: var(--sklearn-color-fitted-level-2);\n",
              "}\n",
              "\n",
              "/* Specification for estimator info (e.g. \"i\" and \"?\") */\n",
              "\n",
              "/* Common style for \"i\" and \"?\" */\n",
              "\n",
              ".sk-estimator-doc-link,\n",
              "a:link.sk-estimator-doc-link,\n",
              "a:visited.sk-estimator-doc-link {\n",
              "  float: right;\n",
              "  font-size: smaller;\n",
              "  line-height: 1em;\n",
              "  font-family: monospace;\n",
              "  background-color: var(--sklearn-color-background);\n",
              "  border-radius: 1em;\n",
              "  height: 1em;\n",
              "  width: 1em;\n",
              "  text-decoration: none !important;\n",
              "  margin-left: 0.5em;\n",
              "  text-align: center;\n",
              "  /* unfitted */\n",
              "  border: var(--sklearn-color-unfitted-level-1) 1pt solid;\n",
              "  color: var(--sklearn-color-unfitted-level-1);\n",
              "}\n",
              "\n",
              ".sk-estimator-doc-link.fitted,\n",
              "a:link.sk-estimator-doc-link.fitted,\n",
              "a:visited.sk-estimator-doc-link.fitted {\n",
              "  /* fitted */\n",
              "  border: var(--sklearn-color-fitted-level-1) 1pt solid;\n",
              "  color: var(--sklearn-color-fitted-level-1);\n",
              "}\n",
              "\n",
              "/* On hover */\n",
              "div.sk-estimator:hover .sk-estimator-doc-link:hover,\n",
              ".sk-estimator-doc-link:hover,\n",
              "div.sk-label-container:hover .sk-estimator-doc-link:hover,\n",
              ".sk-estimator-doc-link:hover {\n",
              "  /* unfitted */\n",
              "  background-color: var(--sklearn-color-unfitted-level-3);\n",
              "  color: var(--sklearn-color-background);\n",
              "  text-decoration: none;\n",
              "}\n",
              "\n",
              "div.sk-estimator.fitted:hover .sk-estimator-doc-link.fitted:hover,\n",
              ".sk-estimator-doc-link.fitted:hover,\n",
              "div.sk-label-container:hover .sk-estimator-doc-link.fitted:hover,\n",
              ".sk-estimator-doc-link.fitted:hover {\n",
              "  /* fitted */\n",
              "  background-color: var(--sklearn-color-fitted-level-3);\n",
              "  color: var(--sklearn-color-background);\n",
              "  text-decoration: none;\n",
              "}\n",
              "\n",
              "/* Span, style for the box shown on hovering the info icon */\n",
              ".sk-estimator-doc-link span {\n",
              "  display: none;\n",
              "  z-index: 9999;\n",
              "  position: relative;\n",
              "  font-weight: normal;\n",
              "  right: .2ex;\n",
              "  padding: .5ex;\n",
              "  margin: .5ex;\n",
              "  width: min-content;\n",
              "  min-width: 20ex;\n",
              "  max-width: 50ex;\n",
              "  color: var(--sklearn-color-text);\n",
              "  box-shadow: 2pt 2pt 4pt #999;\n",
              "  /* unfitted */\n",
              "  background: var(--sklearn-color-unfitted-level-0);\n",
              "  border: .5pt solid var(--sklearn-color-unfitted-level-3);\n",
              "}\n",
              "\n",
              ".sk-estimator-doc-link.fitted span {\n",
              "  /* fitted */\n",
              "  background: var(--sklearn-color-fitted-level-0);\n",
              "  border: var(--sklearn-color-fitted-level-3);\n",
              "}\n",
              "\n",
              ".sk-estimator-doc-link:hover span {\n",
              "  display: block;\n",
              "}\n",
              "\n",
              "/* \"?\"-specific style due to the `<a>` HTML tag */\n",
              "\n",
              "#sk-container-id-1 a.estimator_doc_link {\n",
              "  float: right;\n",
              "  font-size: 1rem;\n",
              "  line-height: 1em;\n",
              "  font-family: monospace;\n",
              "  background-color: var(--sklearn-color-background);\n",
              "  border-radius: 1rem;\n",
              "  height: 1rem;\n",
              "  width: 1rem;\n",
              "  text-decoration: none;\n",
              "  /* unfitted */\n",
              "  color: var(--sklearn-color-unfitted-level-1);\n",
              "  border: var(--sklearn-color-unfitted-level-1) 1pt solid;\n",
              "}\n",
              "\n",
              "#sk-container-id-1 a.estimator_doc_link.fitted {\n",
              "  /* fitted */\n",
              "  border: var(--sklearn-color-fitted-level-1) 1pt solid;\n",
              "  color: var(--sklearn-color-fitted-level-1);\n",
              "}\n",
              "\n",
              "/* On hover */\n",
              "#sk-container-id-1 a.estimator_doc_link:hover {\n",
              "  /* unfitted */\n",
              "  background-color: var(--sklearn-color-unfitted-level-3);\n",
              "  color: var(--sklearn-color-background);\n",
              "  text-decoration: none;\n",
              "}\n",
              "\n",
              "#sk-container-id-1 a.estimator_doc_link.fitted:hover {\n",
              "  /* fitted */\n",
              "  background-color: var(--sklearn-color-fitted-level-3);\n",
              "}\n",
              "</style><div id=\"sk-container-id-1\" class=\"sk-top-container\"><div class=\"sk-text-repr-fallback\"><pre>Pipeline(steps=[(&#x27;tfidf&#x27;, TfidfVectorizer()), (&#x27;clf&#x27;, MultinomialNB())])</pre><b>In a Jupyter environment, please rerun this cell to show the HTML representation or trust the notebook. <br />On GitHub, the HTML representation is unable to render, please try loading this page with nbviewer.org.</b></div><div class=\"sk-container\" hidden><div class=\"sk-item sk-dashed-wrapped\"><div class=\"sk-label-container\"><div class=\"sk-label fitted sk-toggleable\"><input class=\"sk-toggleable__control sk-hidden--visually\" id=\"sk-estimator-id-1\" type=\"checkbox\" ><label for=\"sk-estimator-id-1\" class=\"sk-toggleable__label fitted sk-toggleable__label-arrow\"><div><div>Pipeline</div></div><div><a class=\"sk-estimator-doc-link fitted\" rel=\"noreferrer\" target=\"_blank\" href=\"https://scikit-learn.org/1.6/modules/generated/sklearn.pipeline.Pipeline.html\">?<span>Documentation for Pipeline</span></a><span class=\"sk-estimator-doc-link fitted\">i<span>Fitted</span></span></div></label><div class=\"sk-toggleable__content fitted\"><pre>Pipeline(steps=[(&#x27;tfidf&#x27;, TfidfVectorizer()), (&#x27;clf&#x27;, MultinomialNB())])</pre></div> </div></div><div class=\"sk-serial\"><div class=\"sk-item\"><div class=\"sk-estimator fitted sk-toggleable\"><input class=\"sk-toggleable__control sk-hidden--visually\" id=\"sk-estimator-id-2\" type=\"checkbox\" ><label for=\"sk-estimator-id-2\" class=\"sk-toggleable__label fitted sk-toggleable__label-arrow\"><div><div>TfidfVectorizer</div></div><div><a class=\"sk-estimator-doc-link fitted\" rel=\"noreferrer\" target=\"_blank\" href=\"https://scikit-learn.org/1.6/modules/generated/sklearn.feature_extraction.text.TfidfVectorizer.html\">?<span>Documentation for TfidfVectorizer</span></a></div></label><div class=\"sk-toggleable__content fitted\"><pre>TfidfVectorizer()</pre></div> </div></div><div class=\"sk-item\"><div class=\"sk-estimator fitted sk-toggleable\"><input class=\"sk-toggleable__control sk-hidden--visually\" id=\"sk-estimator-id-3\" type=\"checkbox\" ><label for=\"sk-estimator-id-3\" class=\"sk-toggleable__label fitted sk-toggleable__label-arrow\"><div><div>MultinomialNB</div></div><div><a class=\"sk-estimator-doc-link fitted\" rel=\"noreferrer\" target=\"_blank\" href=\"https://scikit-learn.org/1.6/modules/generated/sklearn.naive_bayes.MultinomialNB.html\">?<span>Documentation for MultinomialNB</span></a></div></label><div class=\"sk-toggleable__content fitted\"><pre>MultinomialNB()</pre></div> </div></div></div></div></div></div>"
            ]
          },
          "metadata": {},
          "execution_count": 23
        }
      ]
    },
    {
      "cell_type": "code",
      "source": [
        "#evaluation\n",
        "baseline_score=model_0.score(val_lines,val_labels)\n",
        "print(f\"Our baseline model achieves an accuracy of: {baseline_score*100:.2f}%\")"
      ],
      "metadata": {
        "colab": {
          "base_uri": "https://localhost:8080/"
        },
        "id": "b9R8cb9JtEon",
        "outputId": "348a1528-3666-43c6-85df-91d99020c7d8"
      },
      "execution_count": null,
      "outputs": [
        {
          "output_type": "stream",
          "name": "stdout",
          "text": [
            "Our baseline model achieves an accuracy of: 72.18%\n"
          ]
        }
      ]
    },
    {
      "cell_type": "code",
      "source": [
        "#make preditions use baseline\n",
        "baseline_preds=model_0.predict(val_lines)\n",
        "baseline_preds[:20]"
      ],
      "metadata": {
        "colab": {
          "base_uri": "https://localhost:8080/"
        },
        "id": "_bqB4Y5xtO_O",
        "outputId": "cef9509b-b29a-4287-dfe4-acca42f997d9"
      },
      "execution_count": null,
      "outputs": [
        {
          "output_type": "execute_result",
          "data": {
            "text/plain": [
              "array([4, 1, 3, 2, 2, 2, 2, 2, 4, 4, 0, 4, 1, 1, 2, 2, 4, 1, 4, 4])"
            ]
          },
          "metadata": {},
          "execution_count": 25
        }
      ]
    },
    {
      "cell_type": "markdown",
      "source": [
        "###importing helper functions"
      ],
      "metadata": {
        "id": "Fx285dyctu2M"
      }
    },
    {
      "cell_type": "code",
      "source": [
        "#importing helper funtions from github\n",
        "!wget https://raw.githubusercontent.com/mrdbourke/tensorflow-deep-learning/main/extras/helper_functions.py\n",
        "from helper_functions import unzip_data,create_tensorboard_callback,plot_loss_curves,calculate_results"
      ],
      "metadata": {
        "colab": {
          "base_uri": "https://localhost:8080/"
        },
        "id": "gOKJvm9EtUmW",
        "outputId": "01bcc458-9e18-4273-c7c6-39aa6a8b20e4"
      },
      "execution_count": null,
      "outputs": [
        {
          "output_type": "stream",
          "name": "stdout",
          "text": [
            "--2024-12-25 11:31:36--  https://raw.githubusercontent.com/mrdbourke/tensorflow-deep-learning/main/extras/helper_functions.py\n",
            "Resolving raw.githubusercontent.com (raw.githubusercontent.com)... 185.199.108.133, 185.199.109.133, 185.199.110.133, ...\n",
            "Connecting to raw.githubusercontent.com (raw.githubusercontent.com)|185.199.108.133|:443... connected.\n",
            "HTTP request sent, awaiting response... 200 OK\n",
            "Length: 10246 (10K) [text/plain]\n",
            "Saving to: ‘helper_functions.py’\n",
            "\n",
            "\rhelper_functions.py   0%[                    ]       0  --.-KB/s               \rhelper_functions.py 100%[===================>]  10.01K  --.-KB/s    in 0s      \n",
            "\n",
            "2024-12-25 11:31:36 (82.6 MB/s) - ‘helper_functions.py’ saved [10246/10246]\n",
            "\n"
          ]
        }
      ]
    },
    {
      "cell_type": "code",
      "source": [
        "#calculate baseline results\n",
        "baseline_results=calculate_results(y_true=val_labels,\n",
        "                                   y_pred=baseline_preds)\n",
        "baseline_results"
      ],
      "metadata": {
        "colab": {
          "base_uri": "https://localhost:8080/",
          "height": 193
        },
        "id": "nW_Rp-7YuRkV",
        "outputId": "6797074a-520b-4371-9258-416f778fcc2c"
      },
      "execution_count": null,
      "outputs": [
        {
          "output_type": "error",
          "ename": "NameError",
          "evalue": "name 'baseline_preds' is not defined",
          "traceback": [
            "\u001b[0;31m---------------------------------------------------------------------------\u001b[0m",
            "\u001b[0;31mNameError\u001b[0m                                 Traceback (most recent call last)",
            "\u001b[0;32m<ipython-input-25-5f3b8aa8d330>\u001b[0m in \u001b[0;36m<cell line: 2>\u001b[0;34m()\u001b[0m\n\u001b[1;32m      1\u001b[0m \u001b[0;31m#calculate baseline results\u001b[0m\u001b[0;34m\u001b[0m\u001b[0;34m\u001b[0m\u001b[0m\n\u001b[1;32m      2\u001b[0m baseline_results=calculate_results(y_true=val_labels,\n\u001b[0;32m----> 3\u001b[0;31m                                    y_pred=baseline_preds)\n\u001b[0m\u001b[1;32m      4\u001b[0m \u001b[0mbaseline_results\u001b[0m\u001b[0;34m\u001b[0m\u001b[0;34m\u001b[0m\u001b[0m\n",
            "\u001b[0;31mNameError\u001b[0m: name 'baseline_preds' is not defined"
          ]
        }
      ]
    },
    {
      "cell_type": "code",
      "source": [
        "#preparing  our data for sequence models\n",
        "#finding average length of senences\n",
        "sent_lens=[len(sentence.split()) for sentence in train_lines]"
      ],
      "metadata": {
        "id": "VGBjD4H2uxj0"
      },
      "execution_count": null,
      "outputs": []
    },
    {
      "cell_type": "code",
      "source": [
        "avg_sen_length=sum(sent_lens)/len(sent_lens)\n",
        "avg_sen_length"
      ],
      "metadata": {
        "colab": {
          "base_uri": "https://localhost:8080/"
        },
        "id": "NQU_zUXK93Wl",
        "outputId": "c2216131-c4ae-4195-9caa-5b7d6cebeb23"
      },
      "execution_count": null,
      "outputs": [
        {
          "output_type": "execute_result",
          "data": {
            "text/plain": [
              "26.338269273494777"
            ]
          },
          "metadata": {},
          "execution_count": 27
        }
      ]
    },
    {
      "cell_type": "code",
      "source": [
        "#visualizing sent_lens\n",
        "import matplotlib.pyplot as plt\n",
        "plt.hist(sent_lens,bins=10,range=[0,50]);"
      ],
      "metadata": {
        "colab": {
          "base_uri": "https://localhost:8080/",
          "height": 430
        },
        "id": "7z1kS9CI957N",
        "outputId": "886957fc-879f-41ef-f122-5784ae4c1fff"
      },
      "execution_count": null,
      "outputs": [
        {
          "output_type": "display_data",
          "data": {
            "text/plain": [
              "<Figure size 640x480 with 1 Axes>"
            ],
            "image/png": "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\n"
          },
          "metadata": {}
        }
      ]
    },
    {
      "cell_type": "code",
      "source": [
        "#how long of sentences length contains 95percent of examples\n",
        "import numpy as np\n",
        "\n",
        "out_seq_length=np.percentile(sent_lens,95)\n",
        "out_seq_length"
      ],
      "metadata": {
        "colab": {
          "base_uri": "https://localhost:8080/"
        },
        "id": "zxB2G4Mz-mdK",
        "outputId": "d0cd88d6-e74f-4c17-96ce-796197dc4d90"
      },
      "execution_count": null,
      "outputs": [
        {
          "output_type": "execute_result",
          "data": {
            "text/plain": [
              "55.0"
            ]
          },
          "metadata": {},
          "execution_count": 29
        }
      ]
    },
    {
      "cell_type": "code",
      "source": [
        "#max seq length\n",
        "max_seq_length=max(sent_lens)\n",
        "max_seq_length"
      ],
      "metadata": {
        "colab": {
          "base_uri": "https://localhost:8080/"
        },
        "id": "6c_PJ2vTALuN",
        "outputId": "c90cf7ab-8eb2-478f-8243-d7c9a74abb8f"
      },
      "execution_count": null,
      "outputs": [
        {
          "output_type": "execute_result",
          "data": {
            "text/plain": [
              "296"
            ]
          },
          "metadata": {},
          "execution_count": 30
        }
      ]
    },
    {
      "cell_type": "code",
      "source": [
        "#finding total number of unique words in our vocab\n",
        "from collections import Counter\n",
        "word_counts=Counter()\n",
        "for sent in train_lines:\n",
        "  word_counts.update(sent.lower().split())\n",
        "\n",
        "\n",
        "max_tokens=len(word_counts)"
      ],
      "metadata": {
        "id": "IM752yi2Bc16"
      },
      "execution_count": null,
      "outputs": []
    },
    {
      "cell_type": "code",
      "source": [
        "max_tokens"
      ],
      "metadata": {
        "colab": {
          "base_uri": "https://localhost:8080/"
        },
        "id": "1PrdfsVnB5tA",
        "outputId": "6313aad5-3a30-4872-e203-507ce5edf1ad"
      },
      "execution_count": null,
      "outputs": [
        {
          "output_type": "execute_result",
          "data": {
            "text/plain": [
              "69732"
            ]
          },
          "metadata": {},
          "execution_count": 32
        }
      ]
    },
    {
      "cell_type": "code",
      "source": [
        "#create text vectorizer layer\n",
        "from tensorflow.keras.layers import TextVectorization\n",
        "text_vectorizer=TextVectorization(max_tokens=max_tokens,\n",
        "                                  output_sequence_length=int(out_seq_length),\n",
        "                                  pad_to_max_tokens=True)\n",
        "\n"
      ],
      "metadata": {
        "id": "GPUwSlnKAX3U"
      },
      "execution_count": null,
      "outputs": []
    },
    {
      "cell_type": "code",
      "source": [
        "#adapting text vec to training sentences\n",
        "text_vectorizer.adapt(train_lines)\n"
      ],
      "metadata": {
        "id": "vzYRlAJfICFq"
      },
      "execution_count": null,
      "outputs": []
    },
    {
      "cell_type": "code",
      "source": [
        "#test out text vectorizer on random sentences\n",
        "import random\n",
        "target_line=random.choice(train_lines)\n",
        "print(f\"Text:\\n{target_line}\")\n",
        "print(f\"\\nLength of text:{len(target_line)}\")\n",
        "print(f\"\\nVector:{text_vectorizer([target_line])}\")"
      ],
      "metadata": {
        "colab": {
          "base_uri": "https://localhost:8080/"
        },
        "id": "NK0a_n9UIsTs",
        "outputId": "1e3bc4e4-f35e-46d2-f5ec-496f90242538"
      },
      "execution_count": null,
      "outputs": [
        {
          "output_type": "stream",
          "name": "stdout",
          "text": [
            "Text:\n",
            "Other efficacy measures included the cough stress test , Urogenital Distress Inventory-Short Form , Incontinence Impact Questionnaire-Short Form , Patient Global Impression of Improvement and @-day voiding diary .\n",
            "\n",
            "Length of text:213\n",
            "\n",
            "Vector:[[  168    79   213   121     2  1960   401   128 10492  1156 22787   920\n",
            "   1643   305 24912   920   127   647  3819     4   194     3   108  3427\n",
            "   2390     0     0     0     0     0     0     0     0     0     0     0\n",
            "      0     0     0     0     0     0     0     0     0     0     0     0\n",
            "      0     0     0     0     0     0     0]]\n"
          ]
        }
      ]
    },
    {
      "cell_type": "code",
      "source": [
        "text_vectorizer.get_config()"
      ],
      "metadata": {
        "colab": {
          "base_uri": "https://localhost:8080/"
        },
        "id": "If5Nm29CJt1q",
        "outputId": "7bd407ac-0c01-49eb-8761-e7170caa3796"
      },
      "execution_count": null,
      "outputs": [
        {
          "output_type": "execute_result",
          "data": {
            "text/plain": [
              "{'name': 'text_vectorization',\n",
              " 'trainable': True,\n",
              " 'dtype': {'module': 'keras',\n",
              "  'class_name': 'DTypePolicy',\n",
              "  'config': {'name': 'float32'},\n",
              "  'registered_name': None},\n",
              " 'max_tokens': 69732,\n",
              " 'standardize': 'lower_and_strip_punctuation',\n",
              " 'split': 'whitespace',\n",
              " 'ngrams': None,\n",
              " 'output_mode': 'int',\n",
              " 'output_sequence_length': 55,\n",
              " 'pad_to_max_tokens': True,\n",
              " 'sparse': False,\n",
              " 'ragged': False,\n",
              " 'vocabulary': None,\n",
              " 'idf_weights': None,\n",
              " 'encoding': 'utf-8',\n",
              " 'vocabulary_size': 64841}"
            ]
          },
          "metadata": {},
          "execution_count": 36
        }
      ]
    },
    {
      "cell_type": "code",
      "source": [
        "#create token embedding layer\n",
        "from tensorflow.keras import layers\n",
        "embedding=layers.Embedding(input_dim=max_tokens,\n",
        "                           output_dim=128,\n",
        "                           input_length=int(out_seq_length),\n",
        "                           mask_zero=True)"
      ],
      "metadata": {
        "colab": {
          "base_uri": "https://localhost:8080/"
        },
        "id": "AbXHe-JuKeE1",
        "outputId": "eb4b1783-89bc-4445-baa1-7f1705ae0148"
      },
      "execution_count": null,
      "outputs": [
        {
          "output_type": "stream",
          "name": "stderr",
          "text": [
            "/usr/local/lib/python3.10/dist-packages/keras/src/layers/core/embedding.py:90: UserWarning: Argument `input_length` is deprecated. Just remove it.\n",
            "  warnings.warn(\n"
          ]
        }
      ]
    },
    {
      "cell_type": "code",
      "source": [
        "#turning datasets into datasets\n",
        "train_dataset=tf.data.Dataset.from_tensor_slices((train_lines,train_labels_OHE))\n",
        "val_dataset=tf.data.Dataset.from_tensor_slices((val_lines,val_labels_OHE))\n",
        "test_dataset=tf.data.Dataset.from_tensor_slices((test_lines,test_labels_OHE))"
      ],
      "metadata": {
        "id": "qGcilXpQOIib"
      },
      "execution_count": null,
      "outputs": []
    },
    {
      "cell_type": "code",
      "source": [
        "#creating batches\n",
        "train_dataset=train_dataset.batch(32).prefetch(tf.data.AUTOTUNE)\n",
        "val_dataset=val_dataset.batch(32).prefetch(tf.data.AUTOTUNE)\n",
        "test_dataset=test_dataset.batch(32).prefetch(tf.data.AUTOTUNE)"
      ],
      "metadata": {
        "id": "QklFCAXZOQOd"
      },
      "execution_count": null,
      "outputs": []
    },
    {
      "cell_type": "code",
      "source": [
        "#Conv1D with tokens embeddings\n",
        "from tensorflow.keras import layers\n",
        "inputs=layers.Input(shape=(1,),dtype=tf.string)\n",
        "x=text_vectorizer(inputs)\n",
        "x=embedding(x)\n",
        "x=layers.Conv1D(filters=64,kernel_size=5,activation=\"relu\")(x)\n",
        "x=layers.GlobalAveragePooling1D()(x)\n",
        "outputs=layers.Dense(num_classes,activation=\"softmax\")(x)\n",
        "model_1=tf.keras.Model(inputs,outputs,name=\"model_1_Conv1D\")\n",
        "model_1.summary()\n"
      ],
      "metadata": {
        "colab": {
          "base_uri": "https://localhost:8080/",
          "height": 408
        },
        "id": "dKoy2IryOq5I",
        "outputId": "9197bee5-9f6a-42ed-92f0-2b5377f0da75"
      },
      "execution_count": null,
      "outputs": [
        {
          "output_type": "stream",
          "name": "stderr",
          "text": [
            "/usr/local/lib/python3.10/dist-packages/keras/src/layers/layer.py:934: UserWarning: Layer 'conv1d' (of type Conv1D) was passed an input with a mask attached to it. However, this layer does not support masking and will therefore destroy the mask information. Downstream layers will not see the mask.\n",
            "  warnings.warn(\n"
          ]
        },
        {
          "output_type": "display_data",
          "data": {
            "text/plain": [
              "\u001b[1mModel: \"model_1_Conv1D\"\u001b[0m\n"
            ],
            "text/html": [
              "<pre style=\"white-space:pre;overflow-x:auto;line-height:normal;font-family:Menlo,'DejaVu Sans Mono',consolas,'Courier New',monospace\"><span style=\"font-weight: bold\">Model: \"model_1_Conv1D\"</span>\n",
              "</pre>\n"
            ]
          },
          "metadata": {}
        },
        {
          "output_type": "display_data",
          "data": {
            "text/plain": [
              "┏━━━━━━━━━━━━━━━━━━━━━━━━━━━━━━━━━━━━━━┳━━━━━━━━━━━━━━━━━━━━━━━━━━━━━┳━━━━━━━━━━━━━━━━━┓\n",
              "┃\u001b[1m \u001b[0m\u001b[1mLayer (type)                        \u001b[0m\u001b[1m \u001b[0m┃\u001b[1m \u001b[0m\u001b[1mOutput Shape               \u001b[0m\u001b[1m \u001b[0m┃\u001b[1m \u001b[0m\u001b[1m        Param #\u001b[0m\u001b[1m \u001b[0m┃\n",
              "┡━━━━━━━━━━━━━━━━━━━━━━━━━━━━━━━━━━━━━━╇━━━━━━━━━━━━━━━━━━━━━━━━━━━━━╇━━━━━━━━━━━━━━━━━┩\n",
              "│ input_layer (\u001b[38;5;33mInputLayer\u001b[0m)             │ (\u001b[38;5;45mNone\u001b[0m, \u001b[38;5;34m1\u001b[0m)                   │               \u001b[38;5;34m0\u001b[0m │\n",
              "├──────────────────────────────────────┼─────────────────────────────┼─────────────────┤\n",
              "│ text_vectorization                   │ (\u001b[38;5;45mNone\u001b[0m, \u001b[38;5;34m55\u001b[0m)                  │               \u001b[38;5;34m0\u001b[0m │\n",
              "│ (\u001b[38;5;33mTextVectorization\u001b[0m)                  │                             │                 │\n",
              "├──────────────────────────────────────┼─────────────────────────────┼─────────────────┤\n",
              "│ embedding (\u001b[38;5;33mEmbedding\u001b[0m)                │ (\u001b[38;5;45mNone\u001b[0m, \u001b[38;5;34m55\u001b[0m, \u001b[38;5;34m128\u001b[0m)             │       \u001b[38;5;34m8,925,696\u001b[0m │\n",
              "├──────────────────────────────────────┼─────────────────────────────┼─────────────────┤\n",
              "│ conv1d (\u001b[38;5;33mConv1D\u001b[0m)                      │ (\u001b[38;5;45mNone\u001b[0m, \u001b[38;5;34m51\u001b[0m, \u001b[38;5;34m64\u001b[0m)              │          \u001b[38;5;34m41,024\u001b[0m │\n",
              "├──────────────────────────────────────┼─────────────────────────────┼─────────────────┤\n",
              "│ global_average_pooling1d             │ (\u001b[38;5;45mNone\u001b[0m, \u001b[38;5;34m64\u001b[0m)                  │               \u001b[38;5;34m0\u001b[0m │\n",
              "│ (\u001b[38;5;33mGlobalAveragePooling1D\u001b[0m)             │                             │                 │\n",
              "├──────────────────────────────────────┼─────────────────────────────┼─────────────────┤\n",
              "│ dense (\u001b[38;5;33mDense\u001b[0m)                        │ (\u001b[38;5;45mNone\u001b[0m, \u001b[38;5;34m5\u001b[0m)                   │             \u001b[38;5;34m325\u001b[0m │\n",
              "└──────────────────────────────────────┴─────────────────────────────┴─────────────────┘\n"
            ],
            "text/html": [
              "<pre style=\"white-space:pre;overflow-x:auto;line-height:normal;font-family:Menlo,'DejaVu Sans Mono',consolas,'Courier New',monospace\">┏━━━━━━━━━━━━━━━━━━━━━━━━━━━━━━━━━━━━━━┳━━━━━━━━━━━━━━━━━━━━━━━━━━━━━┳━━━━━━━━━━━━━━━━━┓\n",
              "┃<span style=\"font-weight: bold\"> Layer (type)                         </span>┃<span style=\"font-weight: bold\"> Output Shape                </span>┃<span style=\"font-weight: bold\">         Param # </span>┃\n",
              "┡━━━━━━━━━━━━━━━━━━━━━━━━━━━━━━━━━━━━━━╇━━━━━━━━━━━━━━━━━━━━━━━━━━━━━╇━━━━━━━━━━━━━━━━━┩\n",
              "│ input_layer (<span style=\"color: #0087ff; text-decoration-color: #0087ff\">InputLayer</span>)             │ (<span style=\"color: #00d7ff; text-decoration-color: #00d7ff\">None</span>, <span style=\"color: #00af00; text-decoration-color: #00af00\">1</span>)                   │               <span style=\"color: #00af00; text-decoration-color: #00af00\">0</span> │\n",
              "├──────────────────────────────────────┼─────────────────────────────┼─────────────────┤\n",
              "│ text_vectorization                   │ (<span style=\"color: #00d7ff; text-decoration-color: #00d7ff\">None</span>, <span style=\"color: #00af00; text-decoration-color: #00af00\">55</span>)                  │               <span style=\"color: #00af00; text-decoration-color: #00af00\">0</span> │\n",
              "│ (<span style=\"color: #0087ff; text-decoration-color: #0087ff\">TextVectorization</span>)                  │                             │                 │\n",
              "├──────────────────────────────────────┼─────────────────────────────┼─────────────────┤\n",
              "│ embedding (<span style=\"color: #0087ff; text-decoration-color: #0087ff\">Embedding</span>)                │ (<span style=\"color: #00d7ff; text-decoration-color: #00d7ff\">None</span>, <span style=\"color: #00af00; text-decoration-color: #00af00\">55</span>, <span style=\"color: #00af00; text-decoration-color: #00af00\">128</span>)             │       <span style=\"color: #00af00; text-decoration-color: #00af00\">8,925,696</span> │\n",
              "├──────────────────────────────────────┼─────────────────────────────┼─────────────────┤\n",
              "│ conv1d (<span style=\"color: #0087ff; text-decoration-color: #0087ff\">Conv1D</span>)                      │ (<span style=\"color: #00d7ff; text-decoration-color: #00d7ff\">None</span>, <span style=\"color: #00af00; text-decoration-color: #00af00\">51</span>, <span style=\"color: #00af00; text-decoration-color: #00af00\">64</span>)              │          <span style=\"color: #00af00; text-decoration-color: #00af00\">41,024</span> │\n",
              "├──────────────────────────────────────┼─────────────────────────────┼─────────────────┤\n",
              "│ global_average_pooling1d             │ (<span style=\"color: #00d7ff; text-decoration-color: #00d7ff\">None</span>, <span style=\"color: #00af00; text-decoration-color: #00af00\">64</span>)                  │               <span style=\"color: #00af00; text-decoration-color: #00af00\">0</span> │\n",
              "│ (<span style=\"color: #0087ff; text-decoration-color: #0087ff\">GlobalAveragePooling1D</span>)             │                             │                 │\n",
              "├──────────────────────────────────────┼─────────────────────────────┼─────────────────┤\n",
              "│ dense (<span style=\"color: #0087ff; text-decoration-color: #0087ff\">Dense</span>)                        │ (<span style=\"color: #00d7ff; text-decoration-color: #00d7ff\">None</span>, <span style=\"color: #00af00; text-decoration-color: #00af00\">5</span>)                   │             <span style=\"color: #00af00; text-decoration-color: #00af00\">325</span> │\n",
              "└──────────────────────────────────────┴─────────────────────────────┴─────────────────┘\n",
              "</pre>\n"
            ]
          },
          "metadata": {}
        },
        {
          "output_type": "display_data",
          "data": {
            "text/plain": [
              "\u001b[1m Total params: \u001b[0m\u001b[38;5;34m8,967,045\u001b[0m (34.21 MB)\n"
            ],
            "text/html": [
              "<pre style=\"white-space:pre;overflow-x:auto;line-height:normal;font-family:Menlo,'DejaVu Sans Mono',consolas,'Courier New',monospace\"><span style=\"font-weight: bold\"> Total params: </span><span style=\"color: #00af00; text-decoration-color: #00af00\">8,967,045</span> (34.21 MB)\n",
              "</pre>\n"
            ]
          },
          "metadata": {}
        },
        {
          "output_type": "display_data",
          "data": {
            "text/plain": [
              "\u001b[1m Trainable params: \u001b[0m\u001b[38;5;34m8,967,045\u001b[0m (34.21 MB)\n"
            ],
            "text/html": [
              "<pre style=\"white-space:pre;overflow-x:auto;line-height:normal;font-family:Menlo,'DejaVu Sans Mono',consolas,'Courier New',monospace\"><span style=\"font-weight: bold\"> Trainable params: </span><span style=\"color: #00af00; text-decoration-color: #00af00\">8,967,045</span> (34.21 MB)\n",
              "</pre>\n"
            ]
          },
          "metadata": {}
        },
        {
          "output_type": "display_data",
          "data": {
            "text/plain": [
              "\u001b[1m Non-trainable params: \u001b[0m\u001b[38;5;34m0\u001b[0m (0.00 B)\n"
            ],
            "text/html": [
              "<pre style=\"white-space:pre;overflow-x:auto;line-height:normal;font-family:Menlo,'DejaVu Sans Mono',consolas,'Courier New',monospace\"><span style=\"font-weight: bold\"> Non-trainable params: </span><span style=\"color: #00af00; text-decoration-color: #00af00\">0</span> (0.00 B)\n",
              "</pre>\n"
            ]
          },
          "metadata": {}
        }
      ]
    },
    {
      "cell_type": "code",
      "source": [
        "#compile the model\n",
        "model_1.compile(loss=\"categorical_crossentropy\",\n",
        "                optimizer=tf.keras.optimizers.Adam(),\n",
        "                metrics=[\"accuracy\"])\n"
      ],
      "metadata": {
        "id": "8p5LobfVOWPR"
      },
      "execution_count": null,
      "outputs": []
    },
    {
      "cell_type": "code",
      "source": [
        "#creating callbacks\n",
        "from helper_functions import create_tensorboard_callback\n",
        "SAVE_DIR=\"model_logs\"\n",
        "tensorboard_callback=create_tensorboard_callback(dir_name=SAVE_DIR,\n",
        "                                                 experiment_name=\"Conv1D\")\n",
        "\n",
        "from tensorflow.keras.callbacks import ModelCheckpoint\n",
        "\n",
        "checkpoint=ModelCheckpoint(filepath='bestmodel.keras',\n",
        "                           monitor='accuracy',\n",
        "                           mode='max',\n",
        "                           save_best_only=True)\n",
        "\n"
      ],
      "metadata": {
        "colab": {
          "base_uri": "https://localhost:8080/"
        },
        "id": "0Ip3piQkQcXE",
        "outputId": "4e7f64f1-71a6-48cc-eeb3-75437adf0206"
      },
      "execution_count": null,
      "outputs": [
        {
          "output_type": "stream",
          "name": "stdout",
          "text": [
            "Saving TensorBoard log files to: model_logs/Conv1D/20241225-113216\n"
          ]
        }
      ]
    },
    {
      "cell_type": "code",
      "source": [
        "#fit the model\n",
        "history_1=model_1.fit(train_dataset,\n",
        "                      steps_per_epoch=int(0.1*len(train_dataset)),\n",
        "                      epochs=5,\n",
        "                      validation_data=val_dataset,\n",
        "                      callbacks=[tensorboard_callback,checkpoint])"
      ],
      "metadata": {
        "colab": {
          "base_uri": "https://localhost:8080/"
        },
        "id": "54rIl-YTRfkG",
        "outputId": "f4233a42-2b4e-4b9f-f116-2dc5a0db9764"
      },
      "execution_count": null,
      "outputs": [
        {
          "output_type": "stream",
          "name": "stdout",
          "text": [
            "Epoch 1/5\n",
            "\u001b[1m562/562\u001b[0m \u001b[32m━━━━━━━━━━━━━━━━━━━━\u001b[0m\u001b[37m\u001b[0m \u001b[1m103s\u001b[0m 180ms/step - accuracy: 0.5054 - loss: 1.1984 - val_accuracy: 0.7216 - val_loss: 0.7296\n",
            "Epoch 2/5\n",
            "\u001b[1m562/562\u001b[0m \u001b[32m━━━━━━━━━━━━━━━━━━━━\u001b[0m\u001b[37m\u001b[0m \u001b[1m93s\u001b[0m 166ms/step - accuracy: 0.7340 - loss: 0.7154 - val_accuracy: 0.7599 - val_loss: 0.6695\n",
            "Epoch 3/5\n",
            "\u001b[1m562/562\u001b[0m \u001b[32m━━━━━━━━━━━━━━━━━━━━\u001b[0m\u001b[37m\u001b[0m \u001b[1m85s\u001b[0m 152ms/step - accuracy: 0.7590 - loss: 0.6482 - val_accuracy: 0.7778 - val_loss: 0.6201\n",
            "Epoch 4/5\n",
            "\u001b[1m562/562\u001b[0m \u001b[32m━━━━━━━━━━━━━━━━━━━━\u001b[0m\u001b[37m\u001b[0m \u001b[1m80s\u001b[0m 143ms/step - accuracy: 0.7758 - loss: 0.6185 - val_accuracy: 0.7842 - val_loss: 0.5951\n",
            "Epoch 5/5\n",
            "\u001b[1m562/562\u001b[0m \u001b[32m━━━━━━━━━━━━━━━━━━━━\u001b[0m\u001b[37m\u001b[0m \u001b[1m119s\u001b[0m 213ms/step - accuracy: 0.7859 - loss: 0.6009 - val_accuracy: 0.7984 - val_loss: 0.5714\n"
          ]
        }
      ]
    },
    {
      "cell_type": "code",
      "source": [
        "model_1.evaluate(test_dataset)"
      ],
      "metadata": {
        "colab": {
          "base_uri": "https://localhost:8080/"
        },
        "id": "MJEXkYkZSMGV",
        "outputId": "bcca095d-d3e7-472c-b7b5-a69f56b93bfc"
      },
      "execution_count": null,
      "outputs": [
        {
          "output_type": "stream",
          "name": "stdout",
          "text": [
            "\u001b[1m942/942\u001b[0m \u001b[32m━━━━━━━━━━━━━━━━━━━━\u001b[0m\u001b[37m\u001b[0m \u001b[1m9s\u001b[0m 9ms/step - accuracy: 0.7862 - loss: 0.5883\n"
          ]
        },
        {
          "output_type": "execute_result",
          "data": {
            "text/plain": [
              "[0.5866260528564453, 0.7892152070999146]"
            ]
          },
          "metadata": {},
          "execution_count": 46
        }
      ]
    },
    {
      "cell_type": "code",
      "source": [
        "#making predictions\n",
        "model_1_preds=model_1.predict(test_dataset)\n",
        "model_1_preds[:10],model_1_preds.shape"
      ],
      "metadata": {
        "colab": {
          "base_uri": "https://localhost:8080/"
        },
        "id": "umuWtyKdT18M",
        "outputId": "dbbef0ce-6b14-488b-b816-22d50e463cb4"
      },
      "execution_count": null,
      "outputs": [
        {
          "output_type": "stream",
          "name": "stdout",
          "text": [
            "\u001b[1m942/942\u001b[0m \u001b[32m━━━━━━━━━━━━━━━━━━━━\u001b[0m\u001b[37m\u001b[0m \u001b[1m7s\u001b[0m 7ms/step\n"
          ]
        },
        {
          "output_type": "execute_result",
          "data": {
            "text/plain": [
              "(array([[2.20006540e-01, 7.21544027e-02, 5.02804756e-01, 1.47226989e-01,\n",
              "         5.78073263e-02],\n",
              "        [5.45123639e-03, 1.87268807e-03, 9.65631604e-01, 5.15402434e-03,\n",
              "         2.18904447e-02],\n",
              "        [3.03533016e-04, 1.01043552e-03, 9.64719415e-01, 1.76878122e-04,\n",
              "         3.37898061e-02],\n",
              "        [5.59139124e-04, 6.80396333e-05, 9.91118670e-01, 6.18658611e-04,\n",
              "         7.63556547e-03],\n",
              "        [1.78085896e-03, 5.25504909e-02, 1.67139005e-02, 1.10137032e-03,\n",
              "         9.27853346e-01],\n",
              "        [2.33242634e-08, 2.43221348e-05, 1.52361099e-06, 1.31934881e-08,\n",
              "         9.99974072e-01],\n",
              "        [5.13118493e-06, 3.14099801e-04, 9.29390138e-04, 3.91427602e-06,\n",
              "         9.98747528e-01],\n",
              "        [7.19531119e-01, 1.57971486e-01, 1.90833933e-03, 1.18211925e-01,\n",
              "         2.37720343e-03],\n",
              "        [2.91301221e-01, 5.19779086e-01, 2.59219483e-02, 9.46605504e-02,\n",
              "         6.83372244e-02],\n",
              "        [3.31688255e-01, 3.93188715e-01, 1.22642396e-02, 2.59691507e-01,\n",
              "         3.16728652e-03]], dtype=float32),\n",
              " (30135, 5))"
            ]
          },
          "metadata": {},
          "execution_count": 47
        }
      ]
    },
    {
      "cell_type": "code",
      "source": [
        "#convert into pred probs\n",
        "model_1_pred_probs=tf.squeeze(tf.round(model_1_preds))\n",
        "model_1_pred_probs=(model_1_pred_probs)\n",
        "model_1_pred=tf.argmax(model_1_preds,axis=1).numpy()\n",
        "model_1_pred[:10]"
      ],
      "metadata": {
        "colab": {
          "base_uri": "https://localhost:8080/"
        },
        "id": "jMBz6vZmUFk1",
        "outputId": "02f37269-ceaf-422f-cc12-75a206303a45"
      },
      "execution_count": null,
      "outputs": [
        {
          "output_type": "execute_result",
          "data": {
            "text/plain": [
              "array([2, 2, 2, 2, 4, 4, 4, 0, 1, 1])"
            ]
          },
          "metadata": {},
          "execution_count": 48
        }
      ]
    },
    {
      "cell_type": "code",
      "source": [
        "#calculate model_1 results\n",
        "model_1_results=calculate_results(y_true=test_labels,\n",
        "                                  y_pred=model_1_pred)\n",
        "model_1_results,baseline_results"
      ],
      "metadata": {
        "colab": {
          "base_uri": "https://localhost:8080/"
        },
        "id": "YCFaFwRwRRTL",
        "outputId": "a0b090b6-c034-4a88-e34c-a8baa712707a"
      },
      "execution_count": null,
      "outputs": [
        {
          "output_type": "execute_result",
          "data": {
            "text/plain": [
              "({'accuracy': 78.92151982744318,\n",
              "  'precision': 0.7874046147558604,\n",
              "  'recall': 0.7892151982744318,\n",
              "  'f1': 0.7855301228476433},\n",
              " {'accuracy': 72.1832384482987,\n",
              "  'precision': 0.7186466952323352,\n",
              "  'recall': 0.7218323844829869,\n",
              "  'f1': 0.6989250353450294})"
            ]
          },
          "metadata": {},
          "execution_count": 49
        }
      ]
    },
    {
      "cell_type": "markdown",
      "source": [
        "#Model2: Using Tensorflow pretained feature Extractor"
      ],
      "metadata": {
        "id": "nLy2xWtoQxsN"
      }
    },
    {
      "cell_type": "code",
      "source": [
        "#download pretained Tensorflow HUb USE\n",
        "import tensorflow_hub as hub\n",
        "tf_hub_embd_layer=hub.KerasLayer(\"https://tfhub.dev/google/universal-sentence-encoder/4\",\n",
        "                                    trainable=False,\n",
        "                                    name=\"universal_sentence_encoder\")"
      ],
      "metadata": {
        "id": "U_g1mXFxUM4F"
      },
      "execution_count": null,
      "outputs": []
    },
    {
      "cell_type": "code",
      "source": [
        "#testing embeddings\n",
        "random_train_sen=random.choice(train_lines)\n",
        "print(f\"Text:\\n{random_train_sen}\")\n",
        "random_sen_embd=tf_hub_embd_layer([random_train_sen])\n",
        "print(f\"sentence embedding:{random_sen_embd[:20]}\")\n",
        "print(f\"\\nLength of embedding:{len(random_sen_embd[0])}\")"
      ],
      "metadata": {
        "colab": {
          "base_uri": "https://localhost:8080/"
        },
        "id": "k_IHaXoYW9rs",
        "outputId": "5613efc9-4fc3-44ea-bea4-01aa1234b2db"
      },
      "execution_count": null,
      "outputs": [
        {
          "output_type": "stream",
          "name": "stdout",
          "text": [
            "Text:\n",
            "Cost-effectiveness analysis indicated that pressurised irrigation in comparison with swabbing saved per patient HK$ @ ( @ % CI : -@ to @ ) and was a cost-effective cleansing method at no extra direct medical cost with a probability of @ % .\n",
            "sentence embedding:[[-3.23770232e-02 -5.91410398e-02 -1.97827350e-02 -5.09978086e-02\n",
            "   1.77297257e-02  9.74200759e-03  6.03008159e-02 -2.19265651e-02\n",
            "   6.06920421e-02 -1.60342604e-02  8.61741826e-02 -2.24339291e-02\n",
            "  -2.54564025e-02  5.41640520e-02  2.12259591e-02 -5.01386710e-02\n",
            "  -8.91147852e-02  6.04517525e-03 -4.69547845e-02  9.82598960e-03\n",
            "  -4.07803990e-02 -2.04643812e-02 -7.73469284e-02 -2.58877892e-02\n",
            "   2.26335973e-02 -2.17905063e-02 -3.18993628e-02  1.63475703e-02\n",
            "  -8.00845213e-03  2.64840666e-02  3.57620679e-02  9.58162919e-02\n",
            "   4.61148433e-02  7.01239333e-02 -2.35698912e-02  4.27918173e-02\n",
            "  -5.01847789e-02 -4.32156958e-02 -3.72010916e-02 -5.52944317e-02\n",
            "   2.33704615e-02  5.11334464e-02 -1.59031469e-02 -3.71781364e-02\n",
            "  -6.66704997e-02  7.33321579e-03  1.46294162e-02  7.15285316e-02\n",
            "   6.09032214e-02  3.02088168e-02 -7.72382692e-02 -7.08069280e-02\n",
            "  -6.99945316e-02 -1.69964042e-02 -2.87315324e-02  9.42982826e-03\n",
            "  -3.37125063e-02 -1.66993067e-02  1.21152378e-03  6.08327463e-02\n",
            "   7.07080290e-02  3.24784666e-02  2.81125885e-02 -6.60731196e-02\n",
            "   3.32361832e-02 -3.58383320e-02 -1.90082286e-02 -2.89426651e-02\n",
            "   3.04786209e-02  1.95742352e-03  2.70361770e-02  5.95527627e-02\n",
            "  -3.82328848e-03 -4.42417189e-02 -6.35350868e-02  7.33584026e-03\n",
            "  -4.42854092e-02 -6.25034235e-03 -8.77560899e-02  4.09725209e-04\n",
            "   3.89740579e-02 -6.16398156e-02  7.17628398e-04  2.80882977e-02\n",
            "  -5.32519035e-02  6.15139604e-02  1.87569798e-03  6.16144296e-03\n",
            "  -1.55832041e-02 -3.77260195e-03  1.78368296e-02  4.08596136e-02\n",
            "  -7.70353898e-02 -2.84034573e-02  2.08829176e-02 -4.65169251e-02\n",
            "   2.76870858e-02 -2.80014351e-02 -4.03937735e-02 -7.73893148e-02\n",
            "  -5.41350842e-02 -4.64404412e-02 -2.15572305e-02 -2.88320263e-03\n",
            "   5.67979738e-02 -5.27445897e-02  4.48294953e-02  8.25899318e-02\n",
            "   5.72782904e-02  1.67621057e-02 -6.82877228e-02 -3.88725139e-02\n",
            "   3.46765332e-02  1.22535862e-02 -1.64971575e-02  4.07955237e-03\n",
            "   3.76661830e-02 -5.24940975e-02  5.75213954e-02  6.43963814e-02\n",
            "   1.09262075e-02 -8.42313990e-02 -6.61101937e-02  2.10218653e-02\n",
            "   6.82043210e-02 -1.59150437e-02  1.39605822e-02  5.41263856e-02\n",
            "   3.36169712e-02  3.82037237e-02 -4.65876088e-02  9.22336578e-02\n",
            "   4.85465899e-02 -5.78046031e-02 -3.67233530e-02 -6.02623001e-02\n",
            "   5.67243434e-02  6.02747016e-02 -2.02282122e-03 -3.65188569e-02\n",
            "  -5.78768328e-02  8.63872319e-02 -5.41796088e-02  3.84101346e-02\n",
            "  -1.74250863e-02  1.30894119e-02 -2.54666852e-03 -6.49824068e-02\n",
            "  -3.20190866e-03 -2.02037860e-02 -1.27599230e-02  7.82870781e-03\n",
            "  -4.59268205e-02 -5.65921329e-02  1.21745885e-04  1.71528645e-02\n",
            "   5.61008304e-02  6.89473152e-02  2.65491605e-02 -6.08737655e-02\n",
            "   1.80569328e-02 -7.97894225e-02 -4.05156314e-02 -2.43924335e-02\n",
            "  -1.18184537e-02 -2.54998282e-02 -2.06256881e-02 -4.27310355e-02\n",
            "  -4.09479924e-02  1.46335810e-02 -5.45765273e-02 -8.13720673e-02\n",
            "  -7.00321198e-02 -7.47345835e-02 -3.16212550e-02  4.04880084e-02\n",
            "   7.36400411e-02 -5.99439479e-02  4.81616035e-02  4.45400476e-02\n",
            "  -4.71518002e-02 -1.64210014e-02  2.10850518e-02  3.33195068e-02\n",
            "   2.26070471e-02  4.53201570e-02 -4.36908156e-02  8.10877420e-03\n",
            "  -1.98198650e-02 -2.90490016e-02  4.73048054e-02 -7.93152973e-02\n",
            "   4.98652235e-02  6.57164156e-02  6.63230568e-02  2.97626145e-02\n",
            "  -7.39190727e-03 -8.12679122e-04 -1.28355091e-02 -2.41094939e-02\n",
            "  -1.59227364e-02  5.98202050e-02  1.29232006e-02  3.09454324e-03\n",
            "   6.53679073e-02 -3.97475958e-02 -4.71921824e-02 -5.80633543e-02\n",
            "  -1.08794905e-02  5.31013794e-02  1.74766220e-03  4.12943587e-02\n",
            "  -9.21403244e-03  6.34799302e-02 -7.99935311e-02  3.39658149e-02\n",
            "   6.69275001e-02 -3.89334001e-03  1.01963885e-03 -3.18463482e-02\n",
            "   4.59626019e-02  2.47786921e-02 -4.89452630e-02  7.13174343e-02\n",
            "   5.18629998e-02  7.80667812e-02 -4.70507927e-02  1.75655633e-02\n",
            "  -4.48106900e-02  2.32421495e-02  5.17428927e-02  2.85293665e-02\n",
            "   4.82378714e-02 -8.81387070e-02 -4.29257788e-02  1.40789794e-02\n",
            "   3.60493734e-02  4.17279042e-02 -1.44574204e-02  7.47288316e-02\n",
            "   6.15482293e-02  1.96177773e-02 -5.24951704e-02 -4.65654060e-02\n",
            "  -1.16708514e-03 -5.06370515e-02 -3.85512039e-02  4.94012237e-02\n",
            "   4.17924672e-02 -7.00988546e-02  5.55763058e-02  3.08317342e-03\n",
            "   1.67794898e-02 -2.46115401e-02  2.53665484e-02  1.24849221e-02\n",
            "  -3.34064215e-02  9.35704112e-02 -1.34930238e-02 -1.99808422e-02\n",
            "   2.38616504e-02  4.59637381e-02  2.42312327e-02 -6.65526139e-03\n",
            "   1.02417422e-02 -1.32476958e-02  6.34337068e-02  3.42433266e-02\n",
            "  -2.88160387e-02  5.38144559e-02 -5.28885648e-02  5.92070110e-02\n",
            "   1.39557635e-02 -6.70033172e-02  4.52440903e-02 -4.38278317e-02\n",
            "  -2.66729649e-02 -5.46421595e-02  3.65930982e-02  9.54118930e-03\n",
            "  -1.32167060e-02  4.27896902e-03 -1.60572876e-03  4.39025052e-02\n",
            "  -6.41880110e-02 -5.81898913e-03 -3.90517600e-02  6.49535954e-02\n",
            "  -4.82449681e-02 -2.39407457e-02  1.53762363e-02 -1.37670143e-02\n",
            "  -5.28588705e-02 -3.41566419e-03  5.71205653e-02 -2.35265698e-02\n",
            "  -6.88496679e-02  2.08093338e-02  1.26836924e-02  6.46223724e-02\n",
            "  -5.72461486e-02  3.51709761e-02 -2.72466522e-02 -7.18043298e-02\n",
            "  -7.38864020e-02  3.25476304e-02  5.13582602e-02 -5.54793105e-02\n",
            "  -4.26341295e-02  6.02722615e-02 -1.54879857e-02  1.75156456e-03\n",
            "  -2.69614533e-02 -1.81203168e-02  8.17461163e-02 -2.07865667e-02\n",
            "  -2.67983172e-02 -4.10172977e-02  1.51155731e-02  2.66610198e-02\n",
            "  -6.84021860e-02 -3.62709984e-02 -6.84672268e-03 -1.46323422e-04\n",
            "  -5.68594709e-02  2.78320014e-02 -5.20590600e-03 -5.19983517e-03\n",
            "  -7.09337816e-02 -1.44390622e-03  6.19883239e-02  6.79568574e-02\n",
            "   1.20825488e-02  7.16879144e-02  4.47834358e-02  5.67858070e-02\n",
            "  -3.04375552e-02 -2.07808614e-02 -2.08164323e-02 -2.30134632e-02\n",
            "  -1.06765202e-03 -1.83292404e-02  5.84271848e-02  5.41415215e-02\n",
            "  -7.54272938e-02 -9.37569663e-02  4.54070829e-02 -9.35807824e-03\n",
            "  -3.63432877e-02 -7.77764432e-03  5.63787259e-02 -5.34252115e-02\n",
            "  -1.63060538e-02  1.12939458e-02 -7.89223611e-02  2.46435292e-02\n",
            "  -7.28166997e-02  2.75079254e-02 -4.88388725e-02 -8.77577886e-02\n",
            "  -4.07014303e-02 -4.30893973e-02 -4.77174409e-02 -4.07572053e-02\n",
            "  -4.61869640e-05  2.08974537e-02  3.91462930e-02  8.14372301e-02\n",
            "  -1.75527167e-02  6.88150823e-02 -2.30323281e-02 -2.19741091e-02\n",
            "   3.14105824e-02 -1.45531511e-02 -2.89512775e-03  6.64877193e-03\n",
            "   2.03208085e-02 -5.79962879e-02  3.29710469e-02 -6.07739240e-02\n",
            "   9.78345145e-03  2.06434336e-02 -3.71682495e-02 -2.05277018e-02\n",
            "   4.14769612e-02 -2.65045613e-02 -3.51346470e-02  7.62953609e-02\n",
            "  -2.27319431e-02 -1.54979276e-02 -1.25307962e-02 -1.71042848e-02\n",
            "   3.09955347e-02 -4.22581881e-02 -4.43119816e-02  2.75416486e-02\n",
            "   1.00262044e-03 -6.61441684e-02  7.76317418e-02 -7.77277201e-02\n",
            "   3.17380168e-02  1.68446936e-02  2.48466600e-02  3.74870561e-02\n",
            "   2.42303181e-02 -7.15448633e-02  4.41307984e-02  4.26034108e-02\n",
            "  -2.53651440e-02  2.17487235e-02  2.48506255e-02  5.71399555e-02\n",
            "   5.10690436e-02 -3.78512144e-02  6.48667589e-02 -1.54136708e-02\n",
            "  -4.77392823e-02 -1.55346086e-02  6.66176602e-02 -5.31314947e-02\n",
            "   2.31541097e-02 -2.15491815e-03 -8.42141919e-03  7.16050863e-02\n",
            "   1.51622957e-02  3.23485909e-03  2.41810307e-02  2.95194592e-02\n",
            "  -2.97554936e-02 -5.43631054e-02 -4.33881767e-02 -7.57838190e-02\n",
            "  -4.70084436e-02 -2.81375479e-02 -2.49675959e-02  1.37637192e-02\n",
            "   2.48507373e-02  1.49843423e-03 -5.24740666e-03 -1.22197960e-02\n",
            "  -1.66674126e-02  4.78064362e-03 -5.72154410e-02  4.21679318e-02\n",
            "   5.40812984e-02 -7.09856767e-03  7.18472665e-03 -5.87681122e-02\n",
            "  -2.13842727e-02  1.61903985e-02  6.22020215e-02 -1.99726876e-02\n",
            "  -3.08057219e-02  7.31672207e-03 -2.42651422e-02 -2.64613349e-02\n",
            "   7.60633722e-02  3.53025384e-02 -7.14640645e-03  3.99807729e-02\n",
            "   3.63693610e-02  6.10880135e-03  2.84400359e-02 -2.73493235e-03\n",
            "  -8.18316936e-02  9.65158176e-03 -6.07010163e-02 -3.11947316e-02\n",
            "   5.38011380e-02 -2.21081171e-03 -6.17427044e-02  4.43735644e-02\n",
            "  -6.69600964e-02 -5.80240339e-02  4.19049226e-02  3.04817054e-02\n",
            "  -2.44459305e-02 -2.46014353e-02  5.72126321e-02 -1.56201199e-02\n",
            "  -1.30015844e-02  5.13522811e-02 -2.79559884e-02 -8.34526420e-02\n",
            "   6.93579614e-02 -3.25625166e-02 -3.98128387e-03 -7.78008476e-02\n",
            "  -7.28764990e-03  1.42564904e-02  8.36769044e-02  5.87832332e-02\n",
            "   4.28341283e-03 -5.59102893e-02  4.73343730e-02  4.90919538e-02\n",
            "  -4.18326934e-04 -2.43296959e-02  3.41340490e-02 -1.30149359e-02\n",
            "   5.39127216e-02 -7.59591162e-02  2.31092349e-02 -9.08313766e-02\n",
            "  -2.62815179e-03 -9.56319347e-02 -8.87730941e-02  3.74919027e-02\n",
            "  -2.53482051e-02  3.17731015e-02 -4.00174297e-02 -3.42877805e-02]]\n",
            "\n",
            "Length of embedding:512\n"
          ]
        }
      ]
    },
    {
      "cell_type": "code",
      "source": [
        "#building model 2\n",
        "from tensorflow.keras import layers\n",
        "inputs=layers.Input(shape=[],dtype=tf.string)\n",
        "\n",
        "# Using Lambda layer for USE embedding\n",
        "x = layers.Lambda(lambda text: tf_hub_embd_layer(text),output_shape=(512,))(inputs)\n",
        "\n",
        "x=layers.Dense(128,activation=\"relu\")(x)\n",
        "outputs=layers.Dense(num_classes,activation=\"softmax\")(x)\n",
        "model_2=tf.keras.Model(inputs=inputs,outputs=outputs,name=\"model_2_use_feature_ext\")\n"
      ],
      "metadata": {
        "id": "RMMzz_kiXdK3"
      },
      "execution_count": null,
      "outputs": []
    },
    {
      "cell_type": "code",
      "source": [
        "#compile model\n",
        "model_2.compile(loss=\"categorical_crossentropy\",\n",
        "                optimizer=tf.keras.optimizers.Adam(),\n",
        "                metrics=[\"accuracy\"])\n",
        "#summary\n",
        "model_2.summary()"
      ],
      "metadata": {
        "colab": {
          "base_uri": "https://localhost:8080/",
          "height": 274
        },
        "id": "Q9fPQulmY5v1",
        "outputId": "6ca36101-2ed2-472f-9654-7a7408c5ec0f"
      },
      "execution_count": null,
      "outputs": [
        {
          "output_type": "display_data",
          "data": {
            "text/plain": [
              "\u001b[1mModel: \"model_2_use_feature_ext\"\u001b[0m\n"
            ],
            "text/html": [
              "<pre style=\"white-space:pre;overflow-x:auto;line-height:normal;font-family:Menlo,'DejaVu Sans Mono',consolas,'Courier New',monospace\"><span style=\"font-weight: bold\">Model: \"model_2_use_feature_ext\"</span>\n",
              "</pre>\n"
            ]
          },
          "metadata": {}
        },
        {
          "output_type": "display_data",
          "data": {
            "text/plain": [
              "┏━━━━━━━━━━━━━━━━━━━━━━━━━━━━━━━━━━━━━━┳━━━━━━━━━━━━━━━━━━━━━━━━━━━━━┳━━━━━━━━━━━━━━━━━┓\n",
              "┃\u001b[1m \u001b[0m\u001b[1mLayer (type)                        \u001b[0m\u001b[1m \u001b[0m┃\u001b[1m \u001b[0m\u001b[1mOutput Shape               \u001b[0m\u001b[1m \u001b[0m┃\u001b[1m \u001b[0m\u001b[1m        Param #\u001b[0m\u001b[1m \u001b[0m┃\n",
              "┡━━━━━━━━━━━━━━━━━━━━━━━━━━━━━━━━━━━━━━╇━━━━━━━━━━━━━━━━━━━━━━━━━━━━━╇━━━━━━━━━━━━━━━━━┩\n",
              "│ input_layer_1 (\u001b[38;5;33mInputLayer\u001b[0m)           │ (\u001b[38;5;45mNone\u001b[0m)                      │               \u001b[38;5;34m0\u001b[0m │\n",
              "├──────────────────────────────────────┼─────────────────────────────┼─────────────────┤\n",
              "│ lambda (\u001b[38;5;33mLambda\u001b[0m)                      │ (\u001b[38;5;45mNone\u001b[0m, \u001b[38;5;34m512\u001b[0m)                 │               \u001b[38;5;34m0\u001b[0m │\n",
              "├──────────────────────────────────────┼─────────────────────────────┼─────────────────┤\n",
              "│ dense_1 (\u001b[38;5;33mDense\u001b[0m)                      │ (\u001b[38;5;45mNone\u001b[0m, \u001b[38;5;34m128\u001b[0m)                 │          \u001b[38;5;34m65,664\u001b[0m │\n",
              "├──────────────────────────────────────┼─────────────────────────────┼─────────────────┤\n",
              "│ dense_2 (\u001b[38;5;33mDense\u001b[0m)                      │ (\u001b[38;5;45mNone\u001b[0m, \u001b[38;5;34m5\u001b[0m)                   │             \u001b[38;5;34m645\u001b[0m │\n",
              "└──────────────────────────────────────┴─────────────────────────────┴─────────────────┘\n"
            ],
            "text/html": [
              "<pre style=\"white-space:pre;overflow-x:auto;line-height:normal;font-family:Menlo,'DejaVu Sans Mono',consolas,'Courier New',monospace\">┏━━━━━━━━━━━━━━━━━━━━━━━━━━━━━━━━━━━━━━┳━━━━━━━━━━━━━━━━━━━━━━━━━━━━━┳━━━━━━━━━━━━━━━━━┓\n",
              "┃<span style=\"font-weight: bold\"> Layer (type)                         </span>┃<span style=\"font-weight: bold\"> Output Shape                </span>┃<span style=\"font-weight: bold\">         Param # </span>┃\n",
              "┡━━━━━━━━━━━━━━━━━━━━━━━━━━━━━━━━━━━━━━╇━━━━━━━━━━━━━━━━━━━━━━━━━━━━━╇━━━━━━━━━━━━━━━━━┩\n",
              "│ input_layer_1 (<span style=\"color: #0087ff; text-decoration-color: #0087ff\">InputLayer</span>)           │ (<span style=\"color: #00d7ff; text-decoration-color: #00d7ff\">None</span>)                      │               <span style=\"color: #00af00; text-decoration-color: #00af00\">0</span> │\n",
              "├──────────────────────────────────────┼─────────────────────────────┼─────────────────┤\n",
              "│ lambda (<span style=\"color: #0087ff; text-decoration-color: #0087ff\">Lambda</span>)                      │ (<span style=\"color: #00d7ff; text-decoration-color: #00d7ff\">None</span>, <span style=\"color: #00af00; text-decoration-color: #00af00\">512</span>)                 │               <span style=\"color: #00af00; text-decoration-color: #00af00\">0</span> │\n",
              "├──────────────────────────────────────┼─────────────────────────────┼─────────────────┤\n",
              "│ dense_1 (<span style=\"color: #0087ff; text-decoration-color: #0087ff\">Dense</span>)                      │ (<span style=\"color: #00d7ff; text-decoration-color: #00d7ff\">None</span>, <span style=\"color: #00af00; text-decoration-color: #00af00\">128</span>)                 │          <span style=\"color: #00af00; text-decoration-color: #00af00\">65,664</span> │\n",
              "├──────────────────────────────────────┼─────────────────────────────┼─────────────────┤\n",
              "│ dense_2 (<span style=\"color: #0087ff; text-decoration-color: #0087ff\">Dense</span>)                      │ (<span style=\"color: #00d7ff; text-decoration-color: #00d7ff\">None</span>, <span style=\"color: #00af00; text-decoration-color: #00af00\">5</span>)                   │             <span style=\"color: #00af00; text-decoration-color: #00af00\">645</span> │\n",
              "└──────────────────────────────────────┴─────────────────────────────┴─────────────────┘\n",
              "</pre>\n"
            ]
          },
          "metadata": {}
        },
        {
          "output_type": "display_data",
          "data": {
            "text/plain": [
              "\u001b[1m Total params: \u001b[0m\u001b[38;5;34m66,309\u001b[0m (259.02 KB)\n"
            ],
            "text/html": [
              "<pre style=\"white-space:pre;overflow-x:auto;line-height:normal;font-family:Menlo,'DejaVu Sans Mono',consolas,'Courier New',monospace\"><span style=\"font-weight: bold\"> Total params: </span><span style=\"color: #00af00; text-decoration-color: #00af00\">66,309</span> (259.02 KB)\n",
              "</pre>\n"
            ]
          },
          "metadata": {}
        },
        {
          "output_type": "display_data",
          "data": {
            "text/plain": [
              "\u001b[1m Trainable params: \u001b[0m\u001b[38;5;34m66,309\u001b[0m (259.02 KB)\n"
            ],
            "text/html": [
              "<pre style=\"white-space:pre;overflow-x:auto;line-height:normal;font-family:Menlo,'DejaVu Sans Mono',consolas,'Courier New',monospace\"><span style=\"font-weight: bold\"> Trainable params: </span><span style=\"color: #00af00; text-decoration-color: #00af00\">66,309</span> (259.02 KB)\n",
              "</pre>\n"
            ]
          },
          "metadata": {}
        },
        {
          "output_type": "display_data",
          "data": {
            "text/plain": [
              "\u001b[1m Non-trainable params: \u001b[0m\u001b[38;5;34m0\u001b[0m (0.00 B)\n"
            ],
            "text/html": [
              "<pre style=\"white-space:pre;overflow-x:auto;line-height:normal;font-family:Menlo,'DejaVu Sans Mono',consolas,'Courier New',monospace\"><span style=\"font-weight: bold\"> Non-trainable params: </span><span style=\"color: #00af00; text-decoration-color: #00af00\">0</span> (0.00 B)\n",
              "</pre>\n"
            ]
          },
          "metadata": {}
        }
      ]
    },
    {
      "cell_type": "code",
      "source": [
        "#fitting model_2\n",
        "history_2=model_2.fit(train_dataset,\n",
        "                      steps_per_epoch=int(0.1*len(train_dataset)),\n",
        "                      epochs=5,\n",
        "                      validation_data=val_dataset,\n",
        "                      callbacks=[tensorboard_callback])\n"
      ],
      "metadata": {
        "colab": {
          "base_uri": "https://localhost:8080/",
          "height": 176
        },
        "id": "TWHCSEjkasUa",
        "outputId": "fe617854-20d1-426a-9df5-8c05a4c3e3b6"
      },
      "execution_count": null,
      "outputs": [
        {
          "output_type": "error",
          "ename": "NameError",
          "evalue": "name 'tensorboard_callback' is not defined",
          "traceback": [
            "\u001b[0;31m---------------------------------------------------------------------------\u001b[0m",
            "\u001b[0;31mNameError\u001b[0m                                 Traceback (most recent call last)",
            "\u001b[0;32m<ipython-input-44-894854e90ac0>\u001b[0m in \u001b[0;36m<cell line: 2>\u001b[0;34m()\u001b[0m\n\u001b[1;32m      4\u001b[0m                       \u001b[0mepochs\u001b[0m\u001b[0;34m=\u001b[0m\u001b[0;36m5\u001b[0m\u001b[0;34m,\u001b[0m\u001b[0;34m\u001b[0m\u001b[0;34m\u001b[0m\u001b[0m\n\u001b[1;32m      5\u001b[0m                       \u001b[0mvalidation_data\u001b[0m\u001b[0;34m=\u001b[0m\u001b[0mval_dataset\u001b[0m\u001b[0;34m,\u001b[0m\u001b[0;34m\u001b[0m\u001b[0;34m\u001b[0m\u001b[0m\n\u001b[0;32m----> 6\u001b[0;31m                       callbacks=[tensorboard_callback])\n\u001b[0m",
            "\u001b[0;31mNameError\u001b[0m: name 'tensorboard_callback' is not defined"
          ]
        }
      ]
    },
    {
      "cell_type": "code",
      "source": [
        "#evaluate\n",
        "model_2.evaluate(test_dataset)"
      ],
      "metadata": {
        "colab": {
          "base_uri": "https://localhost:8080/"
        },
        "id": "jq344aj2eo93",
        "outputId": "f689d031-9d78-46ba-9dda-587d90c511f4"
      },
      "execution_count": null,
      "outputs": [
        {
          "output_type": "stream",
          "name": "stdout",
          "text": [
            "\u001b[1m942/942\u001b[0m \u001b[32m━━━━━━━━━━━━━━━━━━━━\u001b[0m\u001b[37m\u001b[0m \u001b[1m19s\u001b[0m 21ms/step - accuracy: 0.7239 - loss: 0.7177\n"
          ]
        },
        {
          "output_type": "execute_result",
          "data": {
            "text/plain": [
              "[0.7159510254859924, 0.7263978719711304]"
            ]
          },
          "metadata": {},
          "execution_count": 82
        }
      ]
    },
    {
      "cell_type": "code",
      "source": [
        "#model 2 prediction, pred probs and pred labels\n",
        "model_2_preds=model_2.predict(test_dataset)\n",
        "model_2_preds[:10],model_2_preds.shape"
      ],
      "metadata": {
        "colab": {
          "base_uri": "https://localhost:8080/"
        },
        "id": "RvKvcgA4pDt1",
        "outputId": "a1abc8bd-f176-4a0d-91d6-37b28f869265"
      },
      "execution_count": null,
      "outputs": [
        {
          "output_type": "stream",
          "name": "stdout",
          "text": [
            "\u001b[1m942/942\u001b[0m \u001b[32m━━━━━━━━━━━━━━━━━━━━\u001b[0m\u001b[37m\u001b[0m \u001b[1m21s\u001b[0m 21ms/step\n"
          ]
        },
        {
          "output_type": "execute_result",
          "data": {
            "text/plain": [
              "(array([[3.76709551e-01, 1.01701513e-01, 1.78233936e-01, 2.80647278e-01,\n",
              "         6.27075806e-02],\n",
              "        [3.29046905e-01, 2.38782614e-02, 2.37449795e-01, 3.86498749e-01,\n",
              "         2.31261868e-02],\n",
              "        [5.46641124e-04, 3.05091613e-03, 9.31662261e-01, 5.13798790e-04,\n",
              "         6.42264113e-02],\n",
              "        [2.90720444e-03, 3.49152950e-03, 8.01156640e-01, 4.07583825e-03,\n",
              "         1.88368633e-01],\n",
              "        [4.52819717e-04, 3.37743908e-02, 1.39188543e-01, 2.33771716e-04,\n",
              "         8.26350510e-01],\n",
              "        [3.51366267e-04, 1.07036205e-02, 3.82549223e-03, 4.15031333e-04,\n",
              "         9.84704435e-01],\n",
              "        [2.45252196e-02, 2.11400744e-02, 7.32856512e-01, 5.75565174e-02,\n",
              "         1.63921610e-01],\n",
              "        [5.18178821e-01, 1.59295931e-01, 2.23560199e-01, 5.22638038e-02,\n",
              "         4.67012078e-02],\n",
              "        [2.27479208e-02, 4.11483407e-01, 6.13391474e-02, 5.24921995e-03,\n",
              "         4.99180257e-01],\n",
              "        [3.55639160e-01, 4.25889194e-01, 1.24406386e-02, 2.00577676e-01,\n",
              "         5.45334117e-03]], dtype=float32),\n",
              " (30135, 5))"
            ]
          },
          "metadata": {},
          "execution_count": 83
        }
      ]
    },
    {
      "cell_type": "code",
      "source": [
        "model_2_pred_probs=tf.squeeze(tf.round(model_2_preds))\n",
        "model_2_pred_labels=tf.argmax(model_2_preds,axis=1).numpy()\n",
        "model_2_pred_labels[:10]"
      ],
      "metadata": {
        "colab": {
          "base_uri": "https://localhost:8080/"
        },
        "id": "A5y3AWPopTXe",
        "outputId": "dd7849b9-a384-446f-bee6-5436d6586d14"
      },
      "execution_count": null,
      "outputs": [
        {
          "output_type": "execute_result",
          "data": {
            "text/plain": [
              "array([0, 3, 2, 2, 4, 4, 2, 0, 4, 1])"
            ]
          },
          "metadata": {},
          "execution_count": 89
        }
      ]
    },
    {
      "cell_type": "code",
      "source": [
        "#result model_2\n",
        "model_2_results=calculate_results(y_true=test_labels,\n",
        "                                  y_pred=model_2_pred_labels)\n",
        "model_2_results"
      ],
      "metadata": {
        "colab": {
          "base_uri": "https://localhost:8080/"
        },
        "id": "n5cx5KAHovf9",
        "outputId": "1b500862-16ee-468f-c6cf-dc34ac93ebf2"
      },
      "execution_count": null,
      "outputs": [
        {
          "output_type": "execute_result",
          "data": {
            "text/plain": [
              "{'accuracy': 72.63978762236601,\n",
              " 'precision': 0.7220348205031478,\n",
              " 'recall': 0.7263978762236601,\n",
              " 'f1': 0.7209146595709637}"
            ]
          },
          "metadata": {},
          "execution_count": 90
        }
      ]
    },
    {
      "cell_type": "markdown",
      "source": [
        "#Model 3: Creating char-level tokenisation\n"
      ],
      "metadata": {
        "id": "p0cZoE8VqFe0"
      }
    },
    {
      "cell_type": "code",
      "source": [
        "#make function to split sentences into chars\n",
        "def split_chars(text):\n",
        "  return \" \".join(list(text))\n",
        "\n",
        "\n",
        "#text splitting non-char-level seq into vchars\n",
        "split_chars(random_train_sen)"
      ],
      "metadata": {
        "colab": {
          "base_uri": "https://localhost:8080/",
          "height": 88
        },
        "id": "sSdP-BUxprxQ",
        "outputId": "824394dd-7476-415f-8a23-8e7949a7e1ce"
      },
      "execution_count": null,
      "outputs": [
        {
          "output_type": "execute_result",
          "data": {
            "text/plain": [
              "'C o s t - e f f e c t i v e n e s s   a n a l y s i s   i n d i c a t e d   t h a t   p r e s s u r i s e d   i r r i g a t i o n   i n   c o m p a r i s o n   w i t h   s w a b b i n g   s a v e d   p e r   p a t i e n t   H K $   @   (   @   %   C I   :   - @   t o   @   )   a n d   w a s   a   c o s t - e f f e c t i v e   c l e a n s i n g   m e t h o d   a t   n o   e x t r a   d i r e c t   m e d i c a l   c o s t   w i t h   a   p r o b a b i l i t y   o f   @   %   .'"
            ],
            "application/vnd.google.colaboratory.intrinsic+json": {
              "type": "string"
            }
          },
          "metadata": {},
          "execution_count": 45
        }
      ]
    },
    {
      "cell_type": "code",
      "source": [
        "#split seq-level datasplits itno character level data splits\n",
        "train_chars=[split_chars(line) for line in train_lines]\n",
        "val_chars=[split_chars(line) for line in val_lines]\n",
        "test_chars=[split_chars(line) for line in test_lines]"
      ],
      "metadata": {
        "id": "McpKHXkjqU0k"
      },
      "execution_count": null,
      "outputs": []
    },
    {
      "cell_type": "code",
      "source": [
        "from functools import total_ordering\n",
        "#avg-char length\n",
        "avg_char_length=np.mean([len(line) for line in train_lines])\n",
        "avg_char_length"
      ],
      "metadata": {
        "colab": {
          "base_uri": "https://localhost:8080/"
        },
        "id": "x8_9PdCNqayl",
        "outputId": "3d850b93-f227-4945-fa7e-a38c1b041fe4"
      },
      "execution_count": null,
      "outputs": [
        {
          "output_type": "execute_result",
          "data": {
            "text/plain": [
              "149.3662574983337"
            ]
          },
          "metadata": {},
          "execution_count": 47
        }
      ]
    },
    {
      "cell_type": "code",
      "source": [
        "#check the distribution of chars\n",
        "import matplotlib.pyplot as plt\n",
        "plt.figure(figsize=(20,15))\n",
        "plt.hist([len(line) for line in train_lines],bins=20,range=[0,300]);"
      ],
      "metadata": {
        "colab": {
          "base_uri": "https://localhost:8080/",
          "height": 838
        },
        "id": "g-_9qWdRtwlp",
        "outputId": "02afcd21-532d-4a68-a264-5bbf52c06097"
      },
      "execution_count": null,
      "outputs": [
        {
          "output_type": "display_data",
          "data": {
            "text/plain": [
              "<Figure size 2000x1500 with 1 Axes>"
            ],
            "image/png": "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\n"
          },
          "metadata": {}
        }
      ]
    },
    {
      "cell_type": "code",
      "source": [
        "#find what char length covers 95% seq\n",
        "max_char_length=np.percentile([len(line) for line in train_lines],95)\n",
        "max_char_length"
      ],
      "metadata": {
        "colab": {
          "base_uri": "https://localhost:8080/"
        },
        "id": "sG-vMkkdwFXo",
        "outputId": "7dd662d9-7fe6-4dd2-8928-de4bcac99ebd"
      },
      "execution_count": null,
      "outputs": [
        {
          "output_type": "execute_result",
          "data": {
            "text/plain": [
              "290.0"
            ]
          },
          "metadata": {},
          "execution_count": 49
        }
      ]
    },
    {
      "cell_type": "code",
      "source": [
        "#get all keyboard chars\n",
        "import string\n",
        "chars=string.ascii_lowercase+string.digits+string.punctuation\n",
        "chars"
      ],
      "metadata": {
        "colab": {
          "base_uri": "https://localhost:8080/",
          "height": 36
        },
        "id": "hxRNAkVBxHCG",
        "outputId": "d67c77e5-7a18-46dc-be40-1e4c42e79ee8"
      },
      "execution_count": null,
      "outputs": [
        {
          "output_type": "execute_result",
          "data": {
            "text/plain": [
              "'abcdefghijklmnopqrstuvwxyz0123456789!\"#$%&\\'()*+,-./:;<=>?@[\\\\]^_`{|}~'"
            ],
            "application/vnd.google.colaboratory.intrinsic+json": {
              "type": "string"
            }
          },
          "metadata": {},
          "execution_count": 50
        }
      ]
    },
    {
      "cell_type": "code",
      "source": [
        "#create char level tokenisation\n",
        "num_char_tokens=len(chars)+2#for space and ['unk']\n",
        "char_vectorizer=TextVectorization(max_tokens=num_char_tokens,\n",
        "                                  output_sequence_length=int(max_char_length),\n",
        "                                  name=\"char_vectorizer\")\n",
        "\n"
      ],
      "metadata": {
        "id": "cNvxv-nKzRxV"
      },
      "execution_count": null,
      "outputs": []
    },
    {
      "cell_type": "code",
      "source": [
        "#adapt it to train sentences\n",
        "char_vectorizer.adapt(train_chars)"
      ],
      "metadata": {
        "id": "VOzlR7n90Cf3"
      },
      "execution_count": null,
      "outputs": []
    },
    {
      "cell_type": "code",
      "source": [
        "#check character vocab stats\n",
        "char_vocab=char_vectorizer.get_vocabulary()\n",
        "print(f\"number fo diff characters :{len(char_vocab)}\")\n",
        "print(f\"first 10 characters in vocab:{char_vocab[:10]}\")\n",
        "print(f\"last 10 characters in vocab:{char_vocab[-10:]}\")\n"
      ],
      "metadata": {
        "colab": {
          "base_uri": "https://localhost:8080/"
        },
        "id": "44-bWewy0HJl",
        "outputId": "468437f4-a1a7-48d2-b515-0bef63777993"
      },
      "execution_count": null,
      "outputs": [
        {
          "output_type": "stream",
          "name": "stdout",
          "text": [
            "number fo diff characters :28\n",
            "first 10 characters in vocab:['', '[UNK]', 'e', 't', 'i', 'a', 'n', 'o', 'r', 's']\n",
            "last 10 characters in vocab:['g', 'y', 'w', 'v', 'b', 'k', 'x', 'z', 'q', 'j']\n"
          ]
        }
      ]
    },
    {
      "cell_type": "code",
      "source": [
        "#creating a character embedding\n",
        "from tensorflow.keras import layers\n",
        "char_embedding=layers.Embedding(input_dim=len(char_vocab),\n",
        "                                output_dim=32,\n",
        "                                mask_zero=True,\n",
        "                                name=\"char_embedding\")"
      ],
      "metadata": {
        "id": "Y5j_rYU30cNm"
      },
      "execution_count": null,
      "outputs": []
    },
    {
      "cell_type": "code",
      "source": [
        "#test our embedding layer\n",
        "import random\n",
        "target_char=random.choice(train_chars)\n",
        "print(f\"Text:\\n{target_char}\")\n",
        "print(f\"\\nLength of text:{len(target_char)}\")\n",
        "print(f\"\\nVector:{char_vectorizer([target_char])}\")\n",
        "print(f\"\\nEmbedding:{char_embedding(char_vectorizer([target_char]))}\")\n"
      ],
      "metadata": {
        "colab": {
          "base_uri": "https://localhost:8080/"
        },
        "id": "UzQojAgU17wA",
        "outputId": "0a453aff-ede7-4b01-9ad1-e4a447ad2340"
      },
      "execution_count": null,
      "outputs": [
        {
          "output_type": "stream",
          "name": "stdout",
          "text": [
            "Text:\n",
            "I n h a l e r   t e c h n i q u e   w a s   f i r s t   e v a l u a t e d   a t   b a s e l i n e   u s i n g   a   s t a n d a r d   c h e c k - l i s t   o f   r e c o m m e n d e d   s t e p s   (   N a t i o n a l   I n s t i t u t e   o f   H e a l t h   g u i d e l i n e s   ;   s e e   T a b l e   )   a n d   s c o r e s   w e r e   g i v e n   f o r   e a c h   s t e p   c o r r e c t l y   p e r f o r m e d   .\n",
            "\n",
            "Length of text:423\n",
            "\n",
            "Vector:[[ 4  6 13  5 12  2  8  3  2 11 13  6  4 26 16  2 20  5  9 17  4  8  9  3\n",
            "   2 21  5 12 16  5  3  2 10  5  3 22  5  9  2 12  4  6  2 16  9  4  6 18\n",
            "   5  9  3  5  6 10  5  8 10 11 13  2 11 23 12  4  9  3  7 17  8  2 11  7\n",
            "  15 15  2  6 10  2 10  9  3  2 14  9  6  5  3  4  7  6  5 12  4  6  9  3\n",
            "   4  3 16  3  2  7 17 13  2  5 12  3 13 18 16  4 10  2 12  4  6  2  9  9\n",
            "   2  2  3  5 22 12  2  5  6 10  9 11  7  8  2  9 20  2  8  2 18  4 21  2\n",
            "   6 17  7  8  2  5 11 13  9  3  2 14 11  7  8  8  2 11  3 12 19 14  2  8\n",
            "  17  7  8 15  2 10  0  0  0  0  0  0  0  0  0  0  0  0  0  0  0  0  0  0\n",
            "   0  0  0  0  0  0  0  0  0  0  0  0  0  0  0  0  0  0  0  0  0  0  0  0\n",
            "   0  0  0  0  0  0  0  0  0  0  0  0  0  0  0  0  0  0  0  0  0  0  0  0\n",
            "   0  0  0  0  0  0  0  0  0  0  0  0  0  0  0  0  0  0  0  0  0  0  0  0\n",
            "   0  0  0  0  0  0  0  0  0  0  0  0  0  0  0  0  0  0  0  0  0  0  0  0\n",
            "   0  0]]\n",
            "\n",
            "Embedding:[[[ 0.03032846 -0.04137693  0.03501489 ...  0.02006998  0.00092218\n",
            "   -0.00755378]\n",
            "  [-0.04960693 -0.04116964  0.04166425 ... -0.0107029   0.04537419\n",
            "    0.04350245]\n",
            "  [-0.0402585   0.01213256 -0.02278401 ...  0.03709703 -0.0117457\n",
            "   -0.03873324]\n",
            "  ...\n",
            "  [ 0.02726671 -0.0143996  -0.01166739 ...  0.02533522  0.03761956\n",
            "   -0.01597869]\n",
            "  [ 0.02726671 -0.0143996  -0.01166739 ...  0.02533522  0.03761956\n",
            "   -0.01597869]\n",
            "  [ 0.02726671 -0.0143996  -0.01166739 ...  0.02533522  0.03761956\n",
            "   -0.01597869]]]\n"
          ]
        }
      ]
    },
    {
      "cell_type": "code",
      "source": [
        "#creating model\n",
        "from tensorflow.keras import layers\n",
        "inputs=layers.Input(shape=(1,),dtype=tf.string)\n",
        "x=char_vectorizer(inputs)\n",
        "x=char_embedding(x)\n",
        "x=layers.Conv1D(64,\n",
        "                kernel_size=5,\n",
        "                padding=\"same\",\n",
        "                activation=\"relu\")(x)\n",
        "x=layers.Conv1D(64,\n",
        "                kernel_size=5,\n",
        "                padding=\"same\",\n",
        "                activation=\"relu\")(x)\n",
        "x=layers.GlobalAveragePooling1D()(x)\n",
        "x=layers.Dense(128,activation=\"relu\")(x)\n",
        "outputs=layers.Dense(num_classes,activation=\"softmax\")(x)\n",
        "\n",
        "model_3=tf.keras.Model(inputs,outputs,name=\"model_3_char_level_conv\")\n",
        "model_3.summary()"
      ],
      "metadata": {
        "colab": {
          "base_uri": "https://localhost:8080/",
          "height": 473
        },
        "id": "5zahD0ID2F09",
        "outputId": "2c3f9f3d-517a-4be5-fd4e-e9551bfbd196"
      },
      "execution_count": null,
      "outputs": [
        {
          "output_type": "stream",
          "name": "stderr",
          "text": [
            "/usr/local/lib/python3.10/dist-packages/keras/src/layers/layer.py:934: UserWarning: Layer 'conv1d_7' (of type Conv1D) was passed an input with a mask attached to it. However, this layer does not support masking and will therefore destroy the mask information. Downstream layers will not see the mask.\n",
            "  warnings.warn(\n"
          ]
        },
        {
          "output_type": "display_data",
          "data": {
            "text/plain": [
              "\u001b[1mModel: \"model_3_char_level_conv\"\u001b[0m\n"
            ],
            "text/html": [
              "<pre style=\"white-space:pre;overflow-x:auto;line-height:normal;font-family:Menlo,'DejaVu Sans Mono',consolas,'Courier New',monospace\"><span style=\"font-weight: bold\">Model: \"model_3_char_level_conv\"</span>\n",
              "</pre>\n"
            ]
          },
          "metadata": {}
        },
        {
          "output_type": "display_data",
          "data": {
            "text/plain": [
              "┏━━━━━━━━━━━━━━━━━━━━━━━━━━━━━━━━━━━━━━┳━━━━━━━━━━━━━━━━━━━━━━━━━━━━━┳━━━━━━━━━━━━━━━━━┓\n",
              "┃\u001b[1m \u001b[0m\u001b[1mLayer (type)                        \u001b[0m\u001b[1m \u001b[0m┃\u001b[1m \u001b[0m\u001b[1mOutput Shape               \u001b[0m\u001b[1m \u001b[0m┃\u001b[1m \u001b[0m\u001b[1m        Param #\u001b[0m\u001b[1m \u001b[0m┃\n",
              "┡━━━━━━━━━━━━━━━━━━━━━━━━━━━━━━━━━━━━━━╇━━━━━━━━━━━━━━━━━━━━━━━━━━━━━╇━━━━━━━━━━━━━━━━━┩\n",
              "│ input_layer_18 (\u001b[38;5;33mInputLayer\u001b[0m)          │ (\u001b[38;5;45mNone\u001b[0m, \u001b[38;5;34m1\u001b[0m)                   │               \u001b[38;5;34m0\u001b[0m │\n",
              "├──────────────────────────────────────┼─────────────────────────────┼─────────────────┤\n",
              "│ char_vectorizer (\u001b[38;5;33mTextVectorization\u001b[0m)  │ (\u001b[38;5;45mNone\u001b[0m, \u001b[38;5;34m290\u001b[0m)                 │               \u001b[38;5;34m0\u001b[0m │\n",
              "├──────────────────────────────────────┼─────────────────────────────┼─────────────────┤\n",
              "│ char_embedding (\u001b[38;5;33mEmbedding\u001b[0m)           │ (\u001b[38;5;45mNone\u001b[0m, \u001b[38;5;34m290\u001b[0m, \u001b[38;5;34m32\u001b[0m)             │           \u001b[38;5;34m2,240\u001b[0m │\n",
              "├──────────────────────────────────────┼─────────────────────────────┼─────────────────┤\n",
              "│ conv1d_7 (\u001b[38;5;33mConv1D\u001b[0m)                    │ (\u001b[38;5;45mNone\u001b[0m, \u001b[38;5;34m290\u001b[0m, \u001b[38;5;34m64\u001b[0m)             │          \u001b[38;5;34m10,304\u001b[0m │\n",
              "├──────────────────────────────────────┼─────────────────────────────┼─────────────────┤\n",
              "│ conv1d_8 (\u001b[38;5;33mConv1D\u001b[0m)                    │ (\u001b[38;5;45mNone\u001b[0m, \u001b[38;5;34m290\u001b[0m, \u001b[38;5;34m64\u001b[0m)             │          \u001b[38;5;34m20,544\u001b[0m │\n",
              "├──────────────────────────────────────┼─────────────────────────────┼─────────────────┤\n",
              "│ global_average_pooling1d_3           │ (\u001b[38;5;45mNone\u001b[0m, \u001b[38;5;34m64\u001b[0m)                  │               \u001b[38;5;34m0\u001b[0m │\n",
              "│ (\u001b[38;5;33mGlobalAveragePooling1D\u001b[0m)             │                             │                 │\n",
              "├──────────────────────────────────────┼─────────────────────────────┼─────────────────┤\n",
              "│ dense_21 (\u001b[38;5;33mDense\u001b[0m)                     │ (\u001b[38;5;45mNone\u001b[0m, \u001b[38;5;34m128\u001b[0m)                 │           \u001b[38;5;34m8,320\u001b[0m │\n",
              "├──────────────────────────────────────┼─────────────────────────────┼─────────────────┤\n",
              "│ dense_22 (\u001b[38;5;33mDense\u001b[0m)                     │ (\u001b[38;5;45mNone\u001b[0m, \u001b[38;5;34m5\u001b[0m)                   │             \u001b[38;5;34m645\u001b[0m │\n",
              "└──────────────────────────────────────┴─────────────────────────────┴─────────────────┘\n"
            ],
            "text/html": [
              "<pre style=\"white-space:pre;overflow-x:auto;line-height:normal;font-family:Menlo,'DejaVu Sans Mono',consolas,'Courier New',monospace\">┏━━━━━━━━━━━━━━━━━━━━━━━━━━━━━━━━━━━━━━┳━━━━━━━━━━━━━━━━━━━━━━━━━━━━━┳━━━━━━━━━━━━━━━━━┓\n",
              "┃<span style=\"font-weight: bold\"> Layer (type)                         </span>┃<span style=\"font-weight: bold\"> Output Shape                </span>┃<span style=\"font-weight: bold\">         Param # </span>┃\n",
              "┡━━━━━━━━━━━━━━━━━━━━━━━━━━━━━━━━━━━━━━╇━━━━━━━━━━━━━━━━━━━━━━━━━━━━━╇━━━━━━━━━━━━━━━━━┩\n",
              "│ input_layer_18 (<span style=\"color: #0087ff; text-decoration-color: #0087ff\">InputLayer</span>)          │ (<span style=\"color: #00d7ff; text-decoration-color: #00d7ff\">None</span>, <span style=\"color: #00af00; text-decoration-color: #00af00\">1</span>)                   │               <span style=\"color: #00af00; text-decoration-color: #00af00\">0</span> │\n",
              "├──────────────────────────────────────┼─────────────────────────────┼─────────────────┤\n",
              "│ char_vectorizer (<span style=\"color: #0087ff; text-decoration-color: #0087ff\">TextVectorization</span>)  │ (<span style=\"color: #00d7ff; text-decoration-color: #00d7ff\">None</span>, <span style=\"color: #00af00; text-decoration-color: #00af00\">290</span>)                 │               <span style=\"color: #00af00; text-decoration-color: #00af00\">0</span> │\n",
              "├──────────────────────────────────────┼─────────────────────────────┼─────────────────┤\n",
              "│ char_embedding (<span style=\"color: #0087ff; text-decoration-color: #0087ff\">Embedding</span>)           │ (<span style=\"color: #00d7ff; text-decoration-color: #00d7ff\">None</span>, <span style=\"color: #00af00; text-decoration-color: #00af00\">290</span>, <span style=\"color: #00af00; text-decoration-color: #00af00\">32</span>)             │           <span style=\"color: #00af00; text-decoration-color: #00af00\">2,240</span> │\n",
              "├──────────────────────────────────────┼─────────────────────────────┼─────────────────┤\n",
              "│ conv1d_7 (<span style=\"color: #0087ff; text-decoration-color: #0087ff\">Conv1D</span>)                    │ (<span style=\"color: #00d7ff; text-decoration-color: #00d7ff\">None</span>, <span style=\"color: #00af00; text-decoration-color: #00af00\">290</span>, <span style=\"color: #00af00; text-decoration-color: #00af00\">64</span>)             │          <span style=\"color: #00af00; text-decoration-color: #00af00\">10,304</span> │\n",
              "├──────────────────────────────────────┼─────────────────────────────┼─────────────────┤\n",
              "│ conv1d_8 (<span style=\"color: #0087ff; text-decoration-color: #0087ff\">Conv1D</span>)                    │ (<span style=\"color: #00d7ff; text-decoration-color: #00d7ff\">None</span>, <span style=\"color: #00af00; text-decoration-color: #00af00\">290</span>, <span style=\"color: #00af00; text-decoration-color: #00af00\">64</span>)             │          <span style=\"color: #00af00; text-decoration-color: #00af00\">20,544</span> │\n",
              "├──────────────────────────────────────┼─────────────────────────────┼─────────────────┤\n",
              "│ global_average_pooling1d_3           │ (<span style=\"color: #00d7ff; text-decoration-color: #00d7ff\">None</span>, <span style=\"color: #00af00; text-decoration-color: #00af00\">64</span>)                  │               <span style=\"color: #00af00; text-decoration-color: #00af00\">0</span> │\n",
              "│ (<span style=\"color: #0087ff; text-decoration-color: #0087ff\">GlobalAveragePooling1D</span>)             │                             │                 │\n",
              "├──────────────────────────────────────┼─────────────────────────────┼─────────────────┤\n",
              "│ dense_21 (<span style=\"color: #0087ff; text-decoration-color: #0087ff\">Dense</span>)                     │ (<span style=\"color: #00d7ff; text-decoration-color: #00d7ff\">None</span>, <span style=\"color: #00af00; text-decoration-color: #00af00\">128</span>)                 │           <span style=\"color: #00af00; text-decoration-color: #00af00\">8,320</span> │\n",
              "├──────────────────────────────────────┼─────────────────────────────┼─────────────────┤\n",
              "│ dense_22 (<span style=\"color: #0087ff; text-decoration-color: #0087ff\">Dense</span>)                     │ (<span style=\"color: #00d7ff; text-decoration-color: #00d7ff\">None</span>, <span style=\"color: #00af00; text-decoration-color: #00af00\">5</span>)                   │             <span style=\"color: #00af00; text-decoration-color: #00af00\">645</span> │\n",
              "└──────────────────────────────────────┴─────────────────────────────┴─────────────────┘\n",
              "</pre>\n"
            ]
          },
          "metadata": {}
        },
        {
          "output_type": "display_data",
          "data": {
            "text/plain": [
              "\u001b[1m Total params: \u001b[0m\u001b[38;5;34m42,053\u001b[0m (164.27 KB)\n"
            ],
            "text/html": [
              "<pre style=\"white-space:pre;overflow-x:auto;line-height:normal;font-family:Menlo,'DejaVu Sans Mono',consolas,'Courier New',monospace\"><span style=\"font-weight: bold\"> Total params: </span><span style=\"color: #00af00; text-decoration-color: #00af00\">42,053</span> (164.27 KB)\n",
              "</pre>\n"
            ]
          },
          "metadata": {}
        },
        {
          "output_type": "display_data",
          "data": {
            "text/plain": [
              "\u001b[1m Trainable params: \u001b[0m\u001b[38;5;34m42,053\u001b[0m (164.27 KB)\n"
            ],
            "text/html": [
              "<pre style=\"white-space:pre;overflow-x:auto;line-height:normal;font-family:Menlo,'DejaVu Sans Mono',consolas,'Courier New',monospace\"><span style=\"font-weight: bold\"> Trainable params: </span><span style=\"color: #00af00; text-decoration-color: #00af00\">42,053</span> (164.27 KB)\n",
              "</pre>\n"
            ]
          },
          "metadata": {}
        },
        {
          "output_type": "display_data",
          "data": {
            "text/plain": [
              "\u001b[1m Non-trainable params: \u001b[0m\u001b[38;5;34m0\u001b[0m (0.00 B)\n"
            ],
            "text/html": [
              "<pre style=\"white-space:pre;overflow-x:auto;line-height:normal;font-family:Menlo,'DejaVu Sans Mono',consolas,'Courier New',monospace\"><span style=\"font-weight: bold\"> Non-trainable params: </span><span style=\"color: #00af00; text-decoration-color: #00af00\">0</span> (0.00 B)\n",
              "</pre>\n"
            ]
          },
          "metadata": {}
        }
      ]
    },
    {
      "cell_type": "code",
      "source": [
        "#compile model\n",
        "model_3.compile(loss=\"categorical_crossentropy\",\n",
        "                optimizer=tf.keras.optimizers.Adam(),\n",
        "                metrics=[\"accuracy\"])\n"
      ],
      "metadata": {
        "id": "pdI4rULF3rR9"
      },
      "execution_count": null,
      "outputs": []
    },
    {
      "cell_type": "code",
      "source": [
        "#creating dataset and batching\n",
        "train_dataset=tf.data.Dataset.from_tensor_slices((train_chars,train_labels_OHE))\n",
        "val_dataset=tf.data.Dataset.from_tensor_slices((val_chars,val_labels_OHE))\n",
        "test_dataset=tf.data.Dataset.from_tensor_slices((test_chars,test_labels_OHE))\n",
        "\n",
        "#creating prefething and batching\n",
        "train_dataset=train_dataset.batch(32).prefetch(tf.data.AUTOTUNE)\n",
        "val_dataset=val_dataset.batch(32).prefetch(tf.data.AUTOTUNE)\n",
        "test_dataset=test_dataset.batch(32).prefetch(tf.data.AUTOTUNE)"
      ],
      "metadata": {
        "id": "3WqGhCBt4obm"
      },
      "execution_count": null,
      "outputs": []
    },
    {
      "cell_type": "code",
      "source": [
        "#fittting\n",
        "history_model_3=model_3.fit(train_dataset,\n",
        "                          steps_per_epoch=int(0.1*len(train_dataset)),\n",
        "                          epochs=5,\n",
        "                          validation_data=val_dataset,\n",
        "                          callbacks=[tensorboard_callback])"
      ],
      "metadata": {
        "colab": {
          "base_uri": "https://localhost:8080/"
        },
        "id": "hnQd2ugC4aD4",
        "outputId": "c089cc69-172c-4a84-e790-ad000b0b57b4"
      },
      "execution_count": null,
      "outputs": [
        {
          "output_type": "stream",
          "name": "stdout",
          "text": [
            "Epoch 1/5\n",
            "\u001b[1m562/562\u001b[0m \u001b[32m━━━━━━━━━━━━━━━━━━━━\u001b[0m\u001b[37m\u001b[0m \u001b[1m50s\u001b[0m 88ms/step - accuracy: 0.4453 - loss: 1.3822 - val_accuracy: 0.5106 - val_loss: 1.1663\n",
            "Epoch 2/5\n",
            "\u001b[1m562/562\u001b[0m \u001b[32m━━━━━━━━━━━━━━━━━━━━\u001b[0m\u001b[37m\u001b[0m \u001b[1m51s\u001b[0m 90ms/step - accuracy: 0.5157 - loss: 1.1525 - val_accuracy: 0.5629 - val_loss: 1.0592\n",
            "Epoch 3/5\n",
            "\u001b[1m562/562\u001b[0m \u001b[32m━━━━━━━━━━━━━━━━━━━━\u001b[0m\u001b[37m\u001b[0m \u001b[1m54s\u001b[0m 96ms/step - accuracy: 0.5609 - loss: 1.0685 - val_accuracy: 0.6017 - val_loss: 0.9819\n",
            "Epoch 4/5\n",
            "\u001b[1m562/562\u001b[0m \u001b[32m━━━━━━━━━━━━━━━━━━━━\u001b[0m\u001b[37m\u001b[0m \u001b[1m50s\u001b[0m 88ms/step - accuracy: 0.5989 - loss: 0.9851 - val_accuracy: 0.6309 - val_loss: 0.9186\n",
            "Epoch 5/5\n",
            "\u001b[1m562/562\u001b[0m \u001b[32m━━━━━━━━━━━━━━━━━━━━\u001b[0m\u001b[37m\u001b[0m \u001b[1m51s\u001b[0m 91ms/step - accuracy: 0.6258 - loss: 0.9266 - val_accuracy: 0.6400 - val_loss: 0.8915\n"
          ]
        }
      ]
    },
    {
      "cell_type": "code",
      "source": [
        "#calculating model_3results\n",
        "model_3_pred=model_3.predict(test_dataset)\n"
      ],
      "metadata": {
        "colab": {
          "base_uri": "https://localhost:8080/"
        },
        "id": "RNTJCz-z4f5A",
        "outputId": "7a137bcd-5a85-4836-88a1-4c2805724c4c"
      },
      "execution_count": null,
      "outputs": [
        {
          "output_type": "stream",
          "name": "stdout",
          "text": [
            "\r\u001b[1m  1/942\u001b[0m \u001b[37m━━━━━━━━━━━━━━━━━━━━\u001b[0m \u001b[1m4:42\u001b[0m 300ms/step"
          ]
        },
        {
          "output_type": "stream",
          "name": "stderr",
          "text": [
            "/usr/local/lib/python3.10/dist-packages/keras/src/layers/layer.py:934: UserWarning: Layer 'conv1d_7' (of type Conv1D) was passed an input with a mask attached to it. However, this layer does not support masking and will therefore destroy the mask information. Downstream layers will not see the mask.\n",
            "  warnings.warn(\n"
          ]
        },
        {
          "output_type": "stream",
          "name": "stdout",
          "text": [
            "\u001b[1m942/942\u001b[0m \u001b[32m━━━━━━━━━━━━━━━━━━━━\u001b[0m\u001b[37m\u001b[0m \u001b[1m23s\u001b[0m 24ms/step\n"
          ]
        }
      ]
    },
    {
      "cell_type": "code",
      "source": [
        "#model_3_pred_probs and pred_lables\n",
        "model_3_pred_probs=tf.squeeze(tf.round(model_3_pred))\n",
        "model_3_pred_labels=tf.argmax(model_3_pred,axis=1).numpy()\n",
        "model_3_pred_labels[:10]"
      ],
      "metadata": {
        "colab": {
          "base_uri": "https://localhost:8080/"
        },
        "id": "pjUTdX6w7KZp",
        "outputId": "d3bbadc9-3179-4b7b-e93f-65d61174686f"
      },
      "execution_count": null,
      "outputs": [
        {
          "output_type": "execute_result",
          "data": {
            "text/plain": [
              "array([0, 3, 2, 2, 4, 4, 2, 0, 0, 3])"
            ]
          },
          "metadata": {},
          "execution_count": 140
        }
      ]
    },
    {
      "cell_type": "code",
      "source": [
        "#results\n",
        "model_3_results=calculate_results(y_true=test_labels,\n",
        "                                  y_pred=model_3_pred_labels)\n",
        "model_3_results"
      ],
      "metadata": {
        "colab": {
          "base_uri": "https://localhost:8080/"
        },
        "id": "u79xl54r7Pvm",
        "outputId": "643a1bec-e4dd-454b-cd7d-5d284ecc2330"
      },
      "execution_count": null,
      "outputs": [
        {
          "output_type": "execute_result",
          "data": {
            "text/plain": [
              "{'accuracy': 63.6734693877551,\n",
              " 'precision': 0.6589968561161592,\n",
              " 'recall': 0.636734693877551,\n",
              " 'f1': 0.6332175301001155}"
            ]
          },
          "metadata": {},
          "execution_count": 141
        }
      ]
    },
    {
      "cell_type": "markdown",
      "source": [
        "#Model 4: Multimodal(input) model\n",
        "* character embedding+ toke embedding"
      ],
      "metadata": {
        "id": "AMEEzWdHvIRK"
      }
    },
    {
      "cell_type": "code",
      "source": [
        "#combining pretained token embd + char embd(hybrid embd layer)\n",
        "#1 setup token inputs/model\n",
        "token_inputs=layers.Input(shape=(),dtype=tf.string,name=\"token_input_layer\")\n",
        "x=layers.Lambda(lambda text: tf_hub_embd_layer(text),output_shape=(512,))(token_inputs)\n",
        "token_outputs=layers.Dense(128,activation=\"relu\",name=\"token_output_layer\")(x)\n",
        "token_model=tf.keras.Model(token_inputs,token_outputs,name=\"token_model\")\n",
        "\n",
        "\n",
        "#2 setup char inputs/model\n",
        "char_inputs=layers.Input(shape=(1,),dtype=tf.string,name=\"char_input_layer\")\n",
        "x=char_vectorizer(char_inputs)\n",
        "x=char_embedding(x)\n",
        "char_outputs=layers.Bidirectional(layers.LSTM(16),name=\"bidirectional_layer\")(x)\n",
        "char_model=tf.keras.Model(char_inputs,char_outputs,name=\"char_model\")\n",
        "\n",
        "\n",
        "# concatatenate token and char embd\n",
        "token_char_concat=layers.Concatenate(axis=1,name=\"token_char_hybrid\")([token_model.output,char_model.output])\n",
        "x=layers.Dropout(0.5)(token_char_concat)\n",
        "x=layers.Dense(128,activation=\"relu\",name=\"dense_layer\")(x)\n",
        "x=layers.Dropout(0.5)(x)\n",
        "outputs=layers.Dense(num_classes,activation=\"softmax\",name=\"output_layer\")(x)\n",
        "model_4=tf.keras.Model([token_model.input,char_model.input],outputs,name=\"model_4_multimodal\")\n",
        "model_4.summary()\n"
      ],
      "metadata": {
        "id": "tR25PhJ47XXi",
        "colab": {
          "base_uri": "https://localhost:8080/",
          "height": 674
        },
        "outputId": "4ea16497-e9a1-468b-bf0e-8dd69ae66b2f"
      },
      "execution_count": null,
      "outputs": [
        {
          "output_type": "display_data",
          "data": {
            "text/plain": [
              "\u001b[1mModel: \"model_4_multimodal\"\u001b[0m\n"
            ],
            "text/html": [
              "<pre style=\"white-space:pre;overflow-x:auto;line-height:normal;font-family:Menlo,'DejaVu Sans Mono',consolas,'Courier New',monospace\"><span style=\"font-weight: bold\">Model: \"model_4_multimodal\"</span>\n",
              "</pre>\n"
            ]
          },
          "metadata": {}
        },
        {
          "output_type": "display_data",
          "data": {
            "text/plain": [
              "┏━━━━━━━━━━━━━━━━━━━━━━━━━━━┳━━━━━━━━━━━━━━━━━━━━━━━━┳━━━━━━━━━━━━━━━━┳━━━━━━━━━━━━━━━━━━━━━━━━┓\n",
              "┃\u001b[1m \u001b[0m\u001b[1mLayer (type)             \u001b[0m\u001b[1m \u001b[0m┃\u001b[1m \u001b[0m\u001b[1mOutput Shape          \u001b[0m\u001b[1m \u001b[0m┃\u001b[1m \u001b[0m\u001b[1m       Param #\u001b[0m\u001b[1m \u001b[0m┃\u001b[1m \u001b[0m\u001b[1mConnected to          \u001b[0m\u001b[1m \u001b[0m┃\n",
              "┡━━━━━━━━━━━━━━━━━━━━━━━━━━━╇━━━━━━━━━━━━━━━━━━━━━━━━╇━━━━━━━━━━━━━━━━╇━━━━━━━━━━━━━━━━━━━━━━━━┩\n",
              "│ char_input_layer          │ (\u001b[38;5;45mNone\u001b[0m, \u001b[38;5;34m1\u001b[0m)              │              \u001b[38;5;34m0\u001b[0m │ -                      │\n",
              "│ (\u001b[38;5;33mInputLayer\u001b[0m)              │                        │                │                        │\n",
              "├───────────────────────────┼────────────────────────┼────────────────┼────────────────────────┤\n",
              "│ token_input_layer         │ (\u001b[38;5;45mNone\u001b[0m)                 │              \u001b[38;5;34m0\u001b[0m │ -                      │\n",
              "│ (\u001b[38;5;33mInputLayer\u001b[0m)              │                        │                │                        │\n",
              "├───────────────────────────┼────────────────────────┼────────────────┼────────────────────────┤\n",
              "│ char_vectorizer           │ (\u001b[38;5;45mNone\u001b[0m, \u001b[38;5;34m290\u001b[0m)            │              \u001b[38;5;34m0\u001b[0m │ char_input_layer[\u001b[38;5;34m0\u001b[0m][\u001b[38;5;34m0\u001b[0m] │\n",
              "│ (\u001b[38;5;33mTextVectorization\u001b[0m)       │                        │                │                        │\n",
              "├───────────────────────────┼────────────────────────┼────────────────┼────────────────────────┤\n",
              "│ lambda_1 (\u001b[38;5;33mLambda\u001b[0m)         │ (\u001b[38;5;45mNone\u001b[0m, \u001b[38;5;34m512\u001b[0m)            │              \u001b[38;5;34m0\u001b[0m │ token_input_layer[\u001b[38;5;34m0\u001b[0m][\u001b[38;5;34m…\u001b[0m │\n",
              "├───────────────────────────┼────────────────────────┼────────────────┼────────────────────────┤\n",
              "│ char_embedding            │ (\u001b[38;5;45mNone\u001b[0m, \u001b[38;5;34m290\u001b[0m, \u001b[38;5;34m32\u001b[0m)        │            \u001b[38;5;34m896\u001b[0m │ char_vectorizer[\u001b[38;5;34m0\u001b[0m][\u001b[38;5;34m0\u001b[0m]  │\n",
              "│ (\u001b[38;5;33mEmbedding\u001b[0m)               │                        │                │                        │\n",
              "├───────────────────────────┼────────────────────────┼────────────────┼────────────────────────┤\n",
              "│ not_equal_1 (\u001b[38;5;33mNotEqual\u001b[0m)    │ (\u001b[38;5;45mNone\u001b[0m, \u001b[38;5;34m290\u001b[0m)            │              \u001b[38;5;34m0\u001b[0m │ char_vectorizer[\u001b[38;5;34m0\u001b[0m][\u001b[38;5;34m0\u001b[0m]  │\n",
              "├───────────────────────────┼────────────────────────┼────────────────┼────────────────────────┤\n",
              "│ token_output_layer        │ (\u001b[38;5;45mNone\u001b[0m, \u001b[38;5;34m128\u001b[0m)            │         \u001b[38;5;34m65,664\u001b[0m │ lambda_1[\u001b[38;5;34m0\u001b[0m][\u001b[38;5;34m0\u001b[0m]         │\n",
              "│ (\u001b[38;5;33mDense\u001b[0m)                   │                        │                │                        │\n",
              "├───────────────────────────┼────────────────────────┼────────────────┼────────────────────────┤\n",
              "│ bidirectional_layer       │ (\u001b[38;5;45mNone\u001b[0m, \u001b[38;5;34m32\u001b[0m)             │          \u001b[38;5;34m6,272\u001b[0m │ char_embedding[\u001b[38;5;34m0\u001b[0m][\u001b[38;5;34m0\u001b[0m],  │\n",
              "│ (\u001b[38;5;33mBidirectional\u001b[0m)           │                        │                │ not_equal_1[\u001b[38;5;34m0\u001b[0m][\u001b[38;5;34m0\u001b[0m]      │\n",
              "├───────────────────────────┼────────────────────────┼────────────────┼────────────────────────┤\n",
              "│ token_char_hybrid         │ (\u001b[38;5;45mNone\u001b[0m, \u001b[38;5;34m160\u001b[0m)            │              \u001b[38;5;34m0\u001b[0m │ token_output_layer[\u001b[38;5;34m0\u001b[0m]… │\n",
              "│ (\u001b[38;5;33mConcatenate\u001b[0m)             │                        │                │ bidirectional_layer[\u001b[38;5;34m0\u001b[0m… │\n",
              "├───────────────────────────┼────────────────────────┼────────────────┼────────────────────────┤\n",
              "│ dropout (\u001b[38;5;33mDropout\u001b[0m)         │ (\u001b[38;5;45mNone\u001b[0m, \u001b[38;5;34m160\u001b[0m)            │              \u001b[38;5;34m0\u001b[0m │ token_char_hybrid[\u001b[38;5;34m0\u001b[0m][\u001b[38;5;34m…\u001b[0m │\n",
              "├───────────────────────────┼────────────────────────┼────────────────┼────────────────────────┤\n",
              "│ dense_layer (\u001b[38;5;33mDense\u001b[0m)       │ (\u001b[38;5;45mNone\u001b[0m, \u001b[38;5;34m128\u001b[0m)            │         \u001b[38;5;34m20,608\u001b[0m │ dropout[\u001b[38;5;34m0\u001b[0m][\u001b[38;5;34m0\u001b[0m]          │\n",
              "├───────────────────────────┼────────────────────────┼────────────────┼────────────────────────┤\n",
              "│ dropout_1 (\u001b[38;5;33mDropout\u001b[0m)       │ (\u001b[38;5;45mNone\u001b[0m, \u001b[38;5;34m128\u001b[0m)            │              \u001b[38;5;34m0\u001b[0m │ dense_layer[\u001b[38;5;34m0\u001b[0m][\u001b[38;5;34m0\u001b[0m]      │\n",
              "├───────────────────────────┼────────────────────────┼────────────────┼────────────────────────┤\n",
              "│ output_layer (\u001b[38;5;33mDense\u001b[0m)      │ (\u001b[38;5;45mNone\u001b[0m, \u001b[38;5;34m5\u001b[0m)              │            \u001b[38;5;34m645\u001b[0m │ dropout_1[\u001b[38;5;34m0\u001b[0m][\u001b[38;5;34m0\u001b[0m]        │\n",
              "└───────────────────────────┴────────────────────────┴────────────────┴────────────────────────┘\n"
            ],
            "text/html": [
              "<pre style=\"white-space:pre;overflow-x:auto;line-height:normal;font-family:Menlo,'DejaVu Sans Mono',consolas,'Courier New',monospace\">┏━━━━━━━━━━━━━━━━━━━━━━━━━━━┳━━━━━━━━━━━━━━━━━━━━━━━━┳━━━━━━━━━━━━━━━━┳━━━━━━━━━━━━━━━━━━━━━━━━┓\n",
              "┃<span style=\"font-weight: bold\"> Layer (type)              </span>┃<span style=\"font-weight: bold\"> Output Shape           </span>┃<span style=\"font-weight: bold\">        Param # </span>┃<span style=\"font-weight: bold\"> Connected to           </span>┃\n",
              "┡━━━━━━━━━━━━━━━━━━━━━━━━━━━╇━━━━━━━━━━━━━━━━━━━━━━━━╇━━━━━━━━━━━━━━━━╇━━━━━━━━━━━━━━━━━━━━━━━━┩\n",
              "│ char_input_layer          │ (<span style=\"color: #00d7ff; text-decoration-color: #00d7ff\">None</span>, <span style=\"color: #00af00; text-decoration-color: #00af00\">1</span>)              │              <span style=\"color: #00af00; text-decoration-color: #00af00\">0</span> │ -                      │\n",
              "│ (<span style=\"color: #0087ff; text-decoration-color: #0087ff\">InputLayer</span>)              │                        │                │                        │\n",
              "├───────────────────────────┼────────────────────────┼────────────────┼────────────────────────┤\n",
              "│ token_input_layer         │ (<span style=\"color: #00d7ff; text-decoration-color: #00d7ff\">None</span>)                 │              <span style=\"color: #00af00; text-decoration-color: #00af00\">0</span> │ -                      │\n",
              "│ (<span style=\"color: #0087ff; text-decoration-color: #0087ff\">InputLayer</span>)              │                        │                │                        │\n",
              "├───────────────────────────┼────────────────────────┼────────────────┼────────────────────────┤\n",
              "│ char_vectorizer           │ (<span style=\"color: #00d7ff; text-decoration-color: #00d7ff\">None</span>, <span style=\"color: #00af00; text-decoration-color: #00af00\">290</span>)            │              <span style=\"color: #00af00; text-decoration-color: #00af00\">0</span> │ char_input_layer[<span style=\"color: #00af00; text-decoration-color: #00af00\">0</span>][<span style=\"color: #00af00; text-decoration-color: #00af00\">0</span>] │\n",
              "│ (<span style=\"color: #0087ff; text-decoration-color: #0087ff\">TextVectorization</span>)       │                        │                │                        │\n",
              "├───────────────────────────┼────────────────────────┼────────────────┼────────────────────────┤\n",
              "│ lambda_1 (<span style=\"color: #0087ff; text-decoration-color: #0087ff\">Lambda</span>)         │ (<span style=\"color: #00d7ff; text-decoration-color: #00d7ff\">None</span>, <span style=\"color: #00af00; text-decoration-color: #00af00\">512</span>)            │              <span style=\"color: #00af00; text-decoration-color: #00af00\">0</span> │ token_input_layer[<span style=\"color: #00af00; text-decoration-color: #00af00\">0</span>][<span style=\"color: #00af00; text-decoration-color: #00af00\">…</span> │\n",
              "├───────────────────────────┼────────────────────────┼────────────────┼────────────────────────┤\n",
              "│ char_embedding            │ (<span style=\"color: #00d7ff; text-decoration-color: #00d7ff\">None</span>, <span style=\"color: #00af00; text-decoration-color: #00af00\">290</span>, <span style=\"color: #00af00; text-decoration-color: #00af00\">32</span>)        │            <span style=\"color: #00af00; text-decoration-color: #00af00\">896</span> │ char_vectorizer[<span style=\"color: #00af00; text-decoration-color: #00af00\">0</span>][<span style=\"color: #00af00; text-decoration-color: #00af00\">0</span>]  │\n",
              "│ (<span style=\"color: #0087ff; text-decoration-color: #0087ff\">Embedding</span>)               │                        │                │                        │\n",
              "├───────────────────────────┼────────────────────────┼────────────────┼────────────────────────┤\n",
              "│ not_equal_1 (<span style=\"color: #0087ff; text-decoration-color: #0087ff\">NotEqual</span>)    │ (<span style=\"color: #00d7ff; text-decoration-color: #00d7ff\">None</span>, <span style=\"color: #00af00; text-decoration-color: #00af00\">290</span>)            │              <span style=\"color: #00af00; text-decoration-color: #00af00\">0</span> │ char_vectorizer[<span style=\"color: #00af00; text-decoration-color: #00af00\">0</span>][<span style=\"color: #00af00; text-decoration-color: #00af00\">0</span>]  │\n",
              "├───────────────────────────┼────────────────────────┼────────────────┼────────────────────────┤\n",
              "│ token_output_layer        │ (<span style=\"color: #00d7ff; text-decoration-color: #00d7ff\">None</span>, <span style=\"color: #00af00; text-decoration-color: #00af00\">128</span>)            │         <span style=\"color: #00af00; text-decoration-color: #00af00\">65,664</span> │ lambda_1[<span style=\"color: #00af00; text-decoration-color: #00af00\">0</span>][<span style=\"color: #00af00; text-decoration-color: #00af00\">0</span>]         │\n",
              "│ (<span style=\"color: #0087ff; text-decoration-color: #0087ff\">Dense</span>)                   │                        │                │                        │\n",
              "├───────────────────────────┼────────────────────────┼────────────────┼────────────────────────┤\n",
              "│ bidirectional_layer       │ (<span style=\"color: #00d7ff; text-decoration-color: #00d7ff\">None</span>, <span style=\"color: #00af00; text-decoration-color: #00af00\">32</span>)             │          <span style=\"color: #00af00; text-decoration-color: #00af00\">6,272</span> │ char_embedding[<span style=\"color: #00af00; text-decoration-color: #00af00\">0</span>][<span style=\"color: #00af00; text-decoration-color: #00af00\">0</span>],  │\n",
              "│ (<span style=\"color: #0087ff; text-decoration-color: #0087ff\">Bidirectional</span>)           │                        │                │ not_equal_1[<span style=\"color: #00af00; text-decoration-color: #00af00\">0</span>][<span style=\"color: #00af00; text-decoration-color: #00af00\">0</span>]      │\n",
              "├───────────────────────────┼────────────────────────┼────────────────┼────────────────────────┤\n",
              "│ token_char_hybrid         │ (<span style=\"color: #00d7ff; text-decoration-color: #00d7ff\">None</span>, <span style=\"color: #00af00; text-decoration-color: #00af00\">160</span>)            │              <span style=\"color: #00af00; text-decoration-color: #00af00\">0</span> │ token_output_layer[<span style=\"color: #00af00; text-decoration-color: #00af00\">0</span>]… │\n",
              "│ (<span style=\"color: #0087ff; text-decoration-color: #0087ff\">Concatenate</span>)             │                        │                │ bidirectional_layer[<span style=\"color: #00af00; text-decoration-color: #00af00\">0</span>… │\n",
              "├───────────────────────────┼────────────────────────┼────────────────┼────────────────────────┤\n",
              "│ dropout (<span style=\"color: #0087ff; text-decoration-color: #0087ff\">Dropout</span>)         │ (<span style=\"color: #00d7ff; text-decoration-color: #00d7ff\">None</span>, <span style=\"color: #00af00; text-decoration-color: #00af00\">160</span>)            │              <span style=\"color: #00af00; text-decoration-color: #00af00\">0</span> │ token_char_hybrid[<span style=\"color: #00af00; text-decoration-color: #00af00\">0</span>][<span style=\"color: #00af00; text-decoration-color: #00af00\">…</span> │\n",
              "├───────────────────────────┼────────────────────────┼────────────────┼────────────────────────┤\n",
              "│ dense_layer (<span style=\"color: #0087ff; text-decoration-color: #0087ff\">Dense</span>)       │ (<span style=\"color: #00d7ff; text-decoration-color: #00d7ff\">None</span>, <span style=\"color: #00af00; text-decoration-color: #00af00\">128</span>)            │         <span style=\"color: #00af00; text-decoration-color: #00af00\">20,608</span> │ dropout[<span style=\"color: #00af00; text-decoration-color: #00af00\">0</span>][<span style=\"color: #00af00; text-decoration-color: #00af00\">0</span>]          │\n",
              "├───────────────────────────┼────────────────────────┼────────────────┼────────────────────────┤\n",
              "│ dropout_1 (<span style=\"color: #0087ff; text-decoration-color: #0087ff\">Dropout</span>)       │ (<span style=\"color: #00d7ff; text-decoration-color: #00d7ff\">None</span>, <span style=\"color: #00af00; text-decoration-color: #00af00\">128</span>)            │              <span style=\"color: #00af00; text-decoration-color: #00af00\">0</span> │ dense_layer[<span style=\"color: #00af00; text-decoration-color: #00af00\">0</span>][<span style=\"color: #00af00; text-decoration-color: #00af00\">0</span>]      │\n",
              "├───────────────────────────┼────────────────────────┼────────────────┼────────────────────────┤\n",
              "│ output_layer (<span style=\"color: #0087ff; text-decoration-color: #0087ff\">Dense</span>)      │ (<span style=\"color: #00d7ff; text-decoration-color: #00d7ff\">None</span>, <span style=\"color: #00af00; text-decoration-color: #00af00\">5</span>)              │            <span style=\"color: #00af00; text-decoration-color: #00af00\">645</span> │ dropout_1[<span style=\"color: #00af00; text-decoration-color: #00af00\">0</span>][<span style=\"color: #00af00; text-decoration-color: #00af00\">0</span>]        │\n",
              "└───────────────────────────┴────────────────────────┴────────────────┴────────────────────────┘\n",
              "</pre>\n"
            ]
          },
          "metadata": {}
        },
        {
          "output_type": "display_data",
          "data": {
            "text/plain": [
              "\u001b[1m Total params: \u001b[0m\u001b[38;5;34m94,085\u001b[0m (367.52 KB)\n"
            ],
            "text/html": [
              "<pre style=\"white-space:pre;overflow-x:auto;line-height:normal;font-family:Menlo,'DejaVu Sans Mono',consolas,'Courier New',monospace\"><span style=\"font-weight: bold\"> Total params: </span><span style=\"color: #00af00; text-decoration-color: #00af00\">94,085</span> (367.52 KB)\n",
              "</pre>\n"
            ]
          },
          "metadata": {}
        },
        {
          "output_type": "display_data",
          "data": {
            "text/plain": [
              "\u001b[1m Trainable params: \u001b[0m\u001b[38;5;34m94,085\u001b[0m (367.52 KB)\n"
            ],
            "text/html": [
              "<pre style=\"white-space:pre;overflow-x:auto;line-height:normal;font-family:Menlo,'DejaVu Sans Mono',consolas,'Courier New',monospace\"><span style=\"font-weight: bold\"> Trainable params: </span><span style=\"color: #00af00; text-decoration-color: #00af00\">94,085</span> (367.52 KB)\n",
              "</pre>\n"
            ]
          },
          "metadata": {}
        },
        {
          "output_type": "display_data",
          "data": {
            "text/plain": [
              "\u001b[1m Non-trainable params: \u001b[0m\u001b[38;5;34m0\u001b[0m (0.00 B)\n"
            ],
            "text/html": [
              "<pre style=\"white-space:pre;overflow-x:auto;line-height:normal;font-family:Menlo,'DejaVu Sans Mono',consolas,'Courier New',monospace\"><span style=\"font-weight: bold\"> Non-trainable params: </span><span style=\"color: #00af00; text-decoration-color: #00af00\">0</span> (0.00 B)\n",
              "</pre>\n"
            ]
          },
          "metadata": {}
        }
      ]
    },
    {
      "cell_type": "code",
      "source": [
        "#plot hybrid token and character model\n",
        "import tensorflow as tf\n",
        "from keras.utils import plot_model\n",
        "\n",
        "plot_model(model_4,dpi=60,show_shapes=True)"
      ],
      "metadata": {
        "colab": {
          "base_uri": "https://localhost:8080/",
          "height": 577
        },
        "id": "06M2G_-6zzU4",
        "outputId": "57b0a581-caf8-4c11-cd8f-ec27b76d557c"
      },
      "execution_count": null,
      "outputs": [
        {
          "output_type": "execute_result",
          "data": {
            "image/png": "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\n",
            "text/plain": [
              "<IPython.core.display.Image object>"
            ]
          },
          "metadata": {},
          "execution_count": 156
        }
      ]
    },
    {
      "cell_type": "code",
      "source": [
        "#compile token char model\n",
        "model_4.compile(loss=\"categorical_crossentropy\",\n",
        "                optimizer=tf.keras.optimizers.Adam(),\n",
        "                metrics=[\"accuracy\"])"
      ],
      "metadata": {
        "id": "PqWaujF6gy_e"
      },
      "execution_count": null,
      "outputs": []
    },
    {
      "cell_type": "code",
      "source": [
        "#creating dataset and prefetched batches\n",
        "train_dataset_data=tf.data.Dataset.from_tensor_slices((train_lines,train_chars))\n",
        "val_dataset_data=tf.data.Dataset.from_tensor_slices((val_lines,val_chars))\n",
        "test_dataset_data=tf.data.Dataset.from_tensor_slices((test_lines,test_chars))\n",
        "\n",
        "train_dataset_labels=tf.data.Dataset.from_tensor_slices((train_labels_OHE))\n",
        "val_dataset_labels=tf.data.Dataset.from_tensor_slices((val_labels_OHE))\n",
        "test_dataset_labels=tf.data.Dataset.from_tensor_slices((test_labels_OHE))\n",
        "\n",
        "train_dataset=tf.data.Dataset.zip((train_dataset_data,train_dataset_labels))\n",
        "val_dataset=tf.data.Dataset.zip((val_dataset_data,val_dataset_labels))\n",
        "test_dataset=tf.data.Dataset.zip((test_dataset_data,test_dataset_labels))\n",
        "\n",
        "train_dataset=train_dataset.batch(32).prefetch(tf.data.AUTOTUNE)\n",
        "val_dataset=val_dataset.batch(32).prefetch(tf.data.AUTOTUNE)\n",
        "test_dataset=test_dataset.batch(32).prefetch(tf.data.AUTOTUNE)\n",
        "\n",
        "\n"
      ],
      "metadata": {
        "id": "VkE4ktPA_e57"
      },
      "execution_count": null,
      "outputs": []
    },
    {
      "cell_type": "code",
      "source": [
        "#fitting the model\n",
        "\n",
        "history_model_4=model_4.fit(train_dataset,\n",
        "                            steps_per_epoch=int(0.1*len(train_dataset)),\n",
        "                            epochs=3,\n",
        "                            validation_data=val_dataset,\n",
        "                            callbacks=[tensorboard_callback])"
      ],
      "metadata": {
        "colab": {
          "base_uri": "https://localhost:8080/"
        },
        "id": "XmGEbX8z_rom",
        "outputId": "77b3ea2b-22b3-4631-c7fe-e761a00f1ad4"
      },
      "execution_count": null,
      "outputs": [
        {
          "output_type": "stream",
          "name": "stdout",
          "text": [
            "Epoch 1/3\n",
            "\u001b[1m562/562\u001b[0m \u001b[32m━━━━━━━━━━━━━━━━━━━━\u001b[0m\u001b[37m\u001b[0m \u001b[1m356s\u001b[0m 618ms/step - accuracy: 0.5341 - loss: 1.1588 - val_accuracy: 0.6962 - val_loss: 0.8001\n",
            "Epoch 2/3\n",
            "\u001b[1m562/562\u001b[0m \u001b[32m━━━━━━━━━━━━━━━━━━━━\u001b[0m\u001b[37m\u001b[0m \u001b[1m328s\u001b[0m 584ms/step - accuracy: 0.6928 - loss: 0.8185 - val_accuracy: 0.7252 - val_loss: 0.7223\n",
            "Epoch 3/3\n",
            "\u001b[1m562/562\u001b[0m \u001b[32m━━━━━━━━━━━━━━━━━━━━\u001b[0m\u001b[37m\u001b[0m \u001b[1m322s\u001b[0m 574ms/step - accuracy: 0.7051 - loss: 0.7727 - val_accuracy: 0.7340 - val_loss: 0.6950\n"
          ]
        }
      ]
    },
    {
      "cell_type": "code",
      "source": [
        "#predicting using model 4\n",
        "model_4_preds=model_4.predict(test_dataset)\n",
        "model_4_preds[:10],model_4_preds.shape"
      ],
      "metadata": {
        "colab": {
          "base_uri": "https://localhost:8080/"
        },
        "id": "hmafJMHKDImE",
        "outputId": "85db1101-5b13-4e48-8185-4b1601be4de4"
      },
      "execution_count": null,
      "outputs": [
        {
          "output_type": "stream",
          "name": "stdout",
          "text": [
            "\u001b[1m942/942\u001b[0m \u001b[32m━━━━━━━━━━━━━━━━━━━━\u001b[0m\u001b[37m\u001b[0m \u001b[1m139s\u001b[0m 146ms/step\n"
          ]
        },
        {
          "output_type": "execute_result",
          "data": {
            "text/plain": [
              "(array([[3.804e-01, 2.179e-01, 4.111e-02, 3.318e-01, 2.916e-02],\n",
              "        [3.281e-01, 6.342e-02, 1.344e-01, 4.526e-01, 2.135e-02],\n",
              "        [7.987e-04, 3.038e-03, 8.359e-01, 3.746e-04, 1.602e-01],\n",
              "        [7.050e-03, 1.262e-02, 7.134e-01, 4.002e-03, 2.625e-01],\n",
              "        [8.759e-04, 3.111e-02, 3.683e-02, 3.538e-04, 9.312e-01],\n",
              "        [5.245e-05, 1.035e-02, 8.736e-04, 1.162e-05, 9.883e-01],\n",
              "        [3.192e-02, 3.745e-02, 5.723e-01, 2.625e-02, 3.323e-01],\n",
              "        [5.181e-01, 2.673e-01, 5.591e-02, 1.287e-01, 3.099e-02],\n",
              "        [8.319e-02, 4.143e-01, 6.085e-02, 3.778e-02, 4.043e-01],\n",
              "        [3.135e-01, 5.127e-01, 1.908e-03, 1.683e-01, 3.853e-03]],\n",
              "       dtype=float16),\n",
              " (30135, 5))"
            ]
          },
          "metadata": {},
          "execution_count": 164
        }
      ]
    },
    {
      "cell_type": "code",
      "source": [
        "#pred_probs and pred_labels\n",
        "model_4_pred_probs=tf.squeeze(tf.round(model_4_preds))\n",
        "model_4_pred_labels=tf.argmax(model_4_preds,axis=1).numpy()\n",
        "model_4_pred_labels[:10]"
      ],
      "metadata": {
        "colab": {
          "base_uri": "https://localhost:8080/"
        },
        "id": "eov5mU8pc6N7",
        "outputId": "5814940b-74cb-48f6-d4d6-cbf9f85307e1"
      },
      "execution_count": null,
      "outputs": [
        {
          "output_type": "execute_result",
          "data": {
            "text/plain": [
              "array([0, 3, 2, 2, 4, 4, 2, 0, 1, 1])"
            ]
          },
          "metadata": {},
          "execution_count": 165
        }
      ]
    },
    {
      "cell_type": "code",
      "source": [
        "#genrate result dict\n",
        "model_4_results=calculate_results(y_true=test_labels,\n",
        "                                  y_pred=model_4_pred_labels)\n",
        "model_4_results"
      ],
      "metadata": {
        "colab": {
          "base_uri": "https://localhost:8080/"
        },
        "id": "6oiaktwDk8wq",
        "outputId": "cb4d56f9-fff7-4723-f020-f16a234969d9"
      },
      "execution_count": null,
      "outputs": [
        {
          "output_type": "execute_result",
          "data": {
            "text/plain": [
              "{'accuracy': 72.83557325369172,\n",
              " 'precision': 0.7286759972299216,\n",
              " 'recall': 0.7283557325369172,\n",
              " 'f1': 0.7260007132074419}"
            ]
          },
          "metadata": {},
          "execution_count": 166
        }
      ]
    },
    {
      "cell_type": "markdown",
      "source": [
        "#Model 5: Using token embedding+character embedding+positional embedding\n",
        "* positional embedding is derived the line number where the line occurs."
      ],
      "metadata": {
        "id": "bZtWztrdlAyi"
      }
    },
    {
      "cell_type": "code",
      "source": [
        "#checking ditribution of line_number\n",
        "import matplotlib.pyplot as plt\n",
        "plt.hist(train_df[\"line_number\"],bins=30,range=[0,30]);\n",
        "plt.show()"
      ],
      "metadata": {
        "colab": {
          "base_uri": "https://localhost:8080/",
          "height": 430
        },
        "id": "quVK4np3dIXJ",
        "outputId": "8e2aed26-d219-4157-d5f3-54d9d57e7d3e"
      },
      "execution_count": null,
      "outputs": [
        {
          "output_type": "display_data",
          "data": {
            "text/plain": [
              "<Figure size 640x480 with 1 Axes>"
            ],
            "image/png": "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\n"
          },
          "metadata": {}
        }
      ]
    },
    {
      "cell_type": "code",
      "source": [
        "#upto how many lines cover 95 percent of data\n",
        "np.percentile(train_df[\"line_number\"],95)"
      ],
      "metadata": {
        "colab": {
          "base_uri": "https://localhost:8080/"
        },
        "id": "OYA-9a7zh7ed",
        "outputId": "1a175704-d552-4335-af60-a998849426e5"
      },
      "execution_count": null,
      "outputs": [
        {
          "output_type": "execute_result",
          "data": {
            "text/plain": [
              "13.0"
            ]
          },
          "metadata": {},
          "execution_count": 57
        }
      ]
    },
    {
      "cell_type": "code",
      "source": [
        "#using tensorlow for OHE in line_number\n",
        "train_line_num_OHE=tf.one_hot(train_df[\"line_number\"].to_numpy(),depth=15)\n",
        "val_line_num_OHE=tf.one_hot(val_df[\"line_number\"].to_numpy(),depth=15)\n",
        "test_line_num_OHE=tf.one_hot(test_df[\"line_number\"].to_numpy(),depth=15)\n",
        "\n",
        "train_line_num_OHE[:10],train_line_num_OHE.shape\n",
        "\n",
        "\n"
      ],
      "metadata": {
        "colab": {
          "base_uri": "https://localhost:8080/"
        },
        "id": "aik6GZ0KdgZy",
        "outputId": "bde71aaa-5591-4e8c-a984-1012b287931e"
      },
      "execution_count": null,
      "outputs": [
        {
          "output_type": "execute_result",
          "data": {
            "text/plain": [
              "(<tf.Tensor: shape=(10, 15), dtype=float32, numpy=\n",
              " array([[1., 0., 0., 0., 0., 0., 0., 0., 0., 0., 0., 0., 0., 0., 0.],\n",
              "        [0., 1., 0., 0., 0., 0., 0., 0., 0., 0., 0., 0., 0., 0., 0.],\n",
              "        [0., 0., 1., 0., 0., 0., 0., 0., 0., 0., 0., 0., 0., 0., 0.],\n",
              "        [0., 0., 0., 1., 0., 0., 0., 0., 0., 0., 0., 0., 0., 0., 0.],\n",
              "        [0., 0., 0., 0., 1., 0., 0., 0., 0., 0., 0., 0., 0., 0., 0.],\n",
              "        [0., 0., 0., 0., 0., 1., 0., 0., 0., 0., 0., 0., 0., 0., 0.],\n",
              "        [0., 0., 0., 0., 0., 0., 1., 0., 0., 0., 0., 0., 0., 0., 0.],\n",
              "        [0., 0., 0., 0., 0., 0., 0., 1., 0., 0., 0., 0., 0., 0., 0.],\n",
              "        [0., 0., 0., 0., 0., 0., 0., 0., 1., 0., 0., 0., 0., 0., 0.],\n",
              "        [0., 0., 0., 0., 0., 0., 0., 0., 0., 1., 0., 0., 0., 0., 0.]],\n",
              "       dtype=float32)>,\n",
              " TensorShape([180040, 15]))"
            ]
          },
          "metadata": {},
          "execution_count": 58
        }
      ]
    },
    {
      "cell_type": "code",
      "source": [
        "#checking distribution of total_lines\n",
        "plt.hist(train_df[\"total_lines\"],bins=30,range=[0,30]);\n",
        "plt.show()"
      ],
      "metadata": {
        "colab": {
          "base_uri": "https://localhost:8080/",
          "height": 430
        },
        "id": "O7r1CNnzgDSw",
        "outputId": "6bd05954-b27c-41a0-b35a-eb58afd8d5e9"
      },
      "execution_count": null,
      "outputs": [
        {
          "output_type": "display_data",
          "data": {
            "text/plain": [
              "<Figure size 640x480 with 1 Axes>"
            ],
            "image/png": "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\n"
          },
          "metadata": {}
        }
      ]
    },
    {
      "cell_type": "code",
      "source": [
        "#how many lines cover 95 percent of lines\n",
        "np.percentile(train_df[\"total_lines\"],95)"
      ],
      "metadata": {
        "colab": {
          "base_uri": "https://localhost:8080/"
        },
        "id": "GKj5CZtZhroF",
        "outputId": "adf015ad-f5d6-4eef-a9db-0ec7c3e6c8b6"
      },
      "execution_count": null,
      "outputs": [
        {
          "output_type": "execute_result",
          "data": {
            "text/plain": [
              "18.0"
            ]
          },
          "metadata": {},
          "execution_count": 60
        }
      ]
    },
    {
      "cell_type": "code",
      "source": [
        "#OHE total lines\n",
        "train_total_lines_OHE=tf.one_hot(train_df[\"total_lines\"].to_numpy(),depth=20)\n",
        "val_total_lines_OHE=tf.one_hot(val_df[\"total_lines\"].to_numpy(),depth=20)\n",
        "test_total_lines_OHE=tf.one_hot(test_df[\"total_lines\"].to_numpy(),depth=20)\n",
        "\n",
        "train_total_lines_OHE[:10],train_total_lines_OHE.shape"
      ],
      "metadata": {
        "colab": {
          "base_uri": "https://localhost:8080/"
        },
        "id": "bkse2k-uh4f6",
        "outputId": "713e9760-d1cd-402a-f2c5-06c963e1048f"
      },
      "execution_count": null,
      "outputs": [
        {
          "output_type": "execute_result",
          "data": {
            "text/plain": [
              "(<tf.Tensor: shape=(10, 20), dtype=float32, numpy=\n",
              " array([[0., 0., 0., 0., 0., 0., 0., 0., 0., 0., 0., 1., 0., 0., 0., 0.,\n",
              "         0., 0., 0., 0.],\n",
              "        [0., 0., 0., 0., 0., 0., 0., 0., 0., 0., 0., 1., 0., 0., 0., 0.,\n",
              "         0., 0., 0., 0.],\n",
              "        [0., 0., 0., 0., 0., 0., 0., 0., 0., 0., 0., 1., 0., 0., 0., 0.,\n",
              "         0., 0., 0., 0.],\n",
              "        [0., 0., 0., 0., 0., 0., 0., 0., 0., 0., 0., 1., 0., 0., 0., 0.,\n",
              "         0., 0., 0., 0.],\n",
              "        [0., 0., 0., 0., 0., 0., 0., 0., 0., 0., 0., 1., 0., 0., 0., 0.,\n",
              "         0., 0., 0., 0.],\n",
              "        [0., 0., 0., 0., 0., 0., 0., 0., 0., 0., 0., 1., 0., 0., 0., 0.,\n",
              "         0., 0., 0., 0.],\n",
              "        [0., 0., 0., 0., 0., 0., 0., 0., 0., 0., 0., 1., 0., 0., 0., 0.,\n",
              "         0., 0., 0., 0.],\n",
              "        [0., 0., 0., 0., 0., 0., 0., 0., 0., 0., 0., 1., 0., 0., 0., 0.,\n",
              "         0., 0., 0., 0.],\n",
              "        [0., 0., 0., 0., 0., 0., 0., 0., 0., 0., 0., 1., 0., 0., 0., 0.,\n",
              "         0., 0., 0., 0.],\n",
              "        [0., 0., 0., 0., 0., 0., 0., 0., 0., 0., 0., 1., 0., 0., 0., 0.,\n",
              "         0., 0., 0., 0.]], dtype=float32)>,\n",
              " TensorShape([180040, 20]))"
            ]
          },
          "metadata": {},
          "execution_count": 61
        }
      ]
    },
    {
      "cell_type": "code",
      "source": [
        "#making embedding layer"
      ],
      "metadata": {
        "id": "uaxlbKqnvea2"
      },
      "execution_count": null,
      "outputs": []
    },
    {
      "cell_type": "markdown",
      "source": [
        "##Building a Quadra model(Model 5)"
      ],
      "metadata": {
        "id": "K3M7Qr5bjS8j"
      }
    },
    {
      "cell_type": "code",
      "source": [
        "#create model\n",
        "# 1 token model(using USE in Lambda)\n",
        "token_inputs=layers.Input(shape=(),dtype=tf.string,name=\"token_input_layer\")\n",
        "x=layers.Lambda(lambda text: tf_hub_embd_layer(text),output_shape=(512,))(token_inputs)\n",
        "token_outputs=layers.Dense(32,activation=\"relu\",name=\"token_output_layer\")(x)\n",
        "token_model=tf.keras.Model(token_inputs,token_outputs,name=\"token_model\")\n",
        "print(token_model.output.shape)\n",
        "\n",
        "# 2 char model\n",
        "char_inputs=layers.Input(shape=(1,),dtype=tf.string,name=\"char_input_layer\")\n",
        "x=char_vectorizer(char_inputs)\n",
        "x=char_embedding(x)\n",
        "char_outputs=layers.Bidirectional(layers.LSTM(16),name=\"bidirectional_layer\")(x)\n",
        "char_model=tf.keras.Model(char_inputs,char_outputs,name=\"char_model\")\n",
        "print(char_model.output.shape)\n",
        "\n",
        "#  positional embeddings models\n",
        "#3 line number model\n",
        "line_num_inputs=layers.Input(shape=(15,),dtype=tf.float32,name=\"line_num_input_layer\")\n",
        "line_num_outputs=layers.Dense(32,activation=\"relu\",name=\"line_num_output_layer\")(line_num_inputs)\n",
        "line_num_model=tf.keras.Model(line_num_inputs,line_num_outputs,name=\"line_num_model\")\n",
        "print(line_num_model.output.shape)\n",
        "\n",
        "# 4 total lines\n",
        "total_lines_inputs=layers.Input(shape=(20,),dtype=tf.float32,name=\"total_lines_input_layer\")\n",
        "total_lines_outputs=layers.Dense(32,activation=\"relu\",name=\"total_lines_output_layer\")(total_lines_inputs)\n",
        "total_lines_model=tf.keras.Model(total_lines_inputs,total_lines_outputs,name=\"total_lines_model\")\n",
        "print(total_lines_model.output.shape)\n",
        "\n",
        "#concatenate all models\n",
        "concat_layer=layers.Concatenate(axis=1,name=\"concat_layer\")([token_model.output,\n",
        "                                                      char_model.output,\n",
        "                                                      line_num_model.output,\n",
        "                                                      total_lines_model.output])\n",
        "print(concat_layer.shape)\n",
        "\n",
        "#add final layers\n",
        "dropout_1=layers.Dropout(0.2)(concat_layer)\n",
        "dense_layer=layers.Dense(64,activation=\"relu\",name=\"dense_layer\")(dropout_1)\n",
        "dropout_2=layers.Dropout(0.2)(dense_layer)\n",
        "output_layer=layers.Dense(num_classes,activation=\"softmax\",name=\"output_layer\")(dropout_2)\n",
        "\n",
        "model_5=tf.keras.Model(inputs=[token_model.input,\n",
        "                       char_model.input,\n",
        "                       line_num_model.input,\n",
        "                       total_lines_model.input],\n",
        "                       outputs=output_layer,\n",
        "                       name=\"model_5_quadra_model\")\n",
        "\n",
        "\n",
        "\n",
        "\n",
        "\n",
        "\n",
        "\n",
        "\n"
      ],
      "metadata": {
        "colab": {
          "base_uri": "https://localhost:8080/"
        },
        "id": "kVJrMrIejRur",
        "outputId": "2bcd950f-4964-42f3-c772-9e3cedd49590"
      },
      "execution_count": null,
      "outputs": [
        {
          "output_type": "stream",
          "name": "stdout",
          "text": [
            "(None, 32)\n",
            "(None, 32)\n",
            "(None, 32)\n",
            "(None, 32)\n",
            "(None, 128)\n"
          ]
        }
      ]
    },
    {
      "cell_type": "code",
      "source": [
        "#get a summary\n",
        "model_5.summary()"
      ],
      "metadata": {
        "colab": {
          "base_uri": "https://localhost:8080/",
          "height": 881
        },
        "id": "94RZI-i-idRE",
        "outputId": "24a44395-0a65-4d30-e114-f79328a19ace"
      },
      "execution_count": null,
      "outputs": [
        {
          "output_type": "display_data",
          "data": {
            "text/plain": [
              "\u001b[1mModel: \"model_5_quadra_model\"\u001b[0m\n"
            ],
            "text/html": [
              "<pre style=\"white-space:pre;overflow-x:auto;line-height:normal;font-family:Menlo,'DejaVu Sans Mono',consolas,'Courier New',monospace\"><span style=\"font-weight: bold\">Model: \"model_5_quadra_model\"</span>\n",
              "</pre>\n"
            ]
          },
          "metadata": {}
        },
        {
          "output_type": "display_data",
          "data": {
            "text/plain": [
              "┏━━━━━━━━━━━━━━━━━━━━━━━━━━━┳━━━━━━━━━━━━━━━━━━━━━━━━┳━━━━━━━━━━━━━━━━┳━━━━━━━━━━━━━━━━━━━━━━━━┓\n",
              "┃\u001b[1m \u001b[0m\u001b[1mLayer (type)             \u001b[0m\u001b[1m \u001b[0m┃\u001b[1m \u001b[0m\u001b[1mOutput Shape          \u001b[0m\u001b[1m \u001b[0m┃\u001b[1m \u001b[0m\u001b[1m       Param #\u001b[0m\u001b[1m \u001b[0m┃\u001b[1m \u001b[0m\u001b[1mConnected to          \u001b[0m\u001b[1m \u001b[0m┃\n",
              "┡━━━━━━━━━━━━━━━━━━━━━━━━━━━╇━━━━━━━━━━━━━━━━━━━━━━━━╇━━━━━━━━━━━━━━━━╇━━━━━━━━━━━━━━━━━━━━━━━━┩\n",
              "│ char_input_layer          │ (\u001b[38;5;45mNone\u001b[0m, \u001b[38;5;34m1\u001b[0m)              │              \u001b[38;5;34m0\u001b[0m │ -                      │\n",
              "│ (\u001b[38;5;33mInputLayer\u001b[0m)              │                        │                │                        │\n",
              "├───────────────────────────┼────────────────────────┼────────────────┼────────────────────────┤\n",
              "│ token_input_layer         │ (\u001b[38;5;45mNone\u001b[0m)                 │              \u001b[38;5;34m0\u001b[0m │ -                      │\n",
              "│ (\u001b[38;5;33mInputLayer\u001b[0m)              │                        │                │                        │\n",
              "├───────────────────────────┼────────────────────────┼────────────────┼────────────────────────┤\n",
              "│ char_vectorizer           │ (\u001b[38;5;45mNone\u001b[0m, \u001b[38;5;34m290\u001b[0m)            │              \u001b[38;5;34m0\u001b[0m │ char_input_layer[\u001b[38;5;34m0\u001b[0m][\u001b[38;5;34m0\u001b[0m] │\n",
              "│ (\u001b[38;5;33mTextVectorization\u001b[0m)       │                        │                │                        │\n",
              "├───────────────────────────┼────────────────────────┼────────────────┼────────────────────────┤\n",
              "│ lambda_2 (\u001b[38;5;33mLambda\u001b[0m)         │ (\u001b[38;5;45mNone\u001b[0m, \u001b[38;5;34m512\u001b[0m)            │              \u001b[38;5;34m0\u001b[0m │ token_input_layer[\u001b[38;5;34m0\u001b[0m][\u001b[38;5;34m…\u001b[0m │\n",
              "├───────────────────────────┼────────────────────────┼────────────────┼────────────────────────┤\n",
              "│ char_embedding            │ (\u001b[38;5;45mNone\u001b[0m, \u001b[38;5;34m290\u001b[0m, \u001b[38;5;34m32\u001b[0m)        │            \u001b[38;5;34m896\u001b[0m │ char_vectorizer[\u001b[38;5;34m1\u001b[0m][\u001b[38;5;34m0\u001b[0m]  │\n",
              "│ (\u001b[38;5;33mEmbedding\u001b[0m)               │                        │                │                        │\n",
              "├───────────────────────────┼────────────────────────┼────────────────┼────────────────────────┤\n",
              "│ not_equal_2 (\u001b[38;5;33mNotEqual\u001b[0m)    │ (\u001b[38;5;45mNone\u001b[0m, \u001b[38;5;34m290\u001b[0m)            │              \u001b[38;5;34m0\u001b[0m │ char_vectorizer[\u001b[38;5;34m1\u001b[0m][\u001b[38;5;34m0\u001b[0m]  │\n",
              "├───────────────────────────┼────────────────────────┼────────────────┼────────────────────────┤\n",
              "│ line_num_input_layer      │ (\u001b[38;5;45mNone\u001b[0m, \u001b[38;5;34m15\u001b[0m)             │              \u001b[38;5;34m0\u001b[0m │ -                      │\n",
              "│ (\u001b[38;5;33mInputLayer\u001b[0m)              │                        │                │                        │\n",
              "├───────────────────────────┼────────────────────────┼────────────────┼────────────────────────┤\n",
              "│ total_lines_input_layer   │ (\u001b[38;5;45mNone\u001b[0m, \u001b[38;5;34m20\u001b[0m)             │              \u001b[38;5;34m0\u001b[0m │ -                      │\n",
              "│ (\u001b[38;5;33mInputLayer\u001b[0m)              │                        │                │                        │\n",
              "├───────────────────────────┼────────────────────────┼────────────────┼────────────────────────┤\n",
              "│ token_output_layer        │ (\u001b[38;5;45mNone\u001b[0m, \u001b[38;5;34m32\u001b[0m)             │         \u001b[38;5;34m16,416\u001b[0m │ lambda_2[\u001b[38;5;34m0\u001b[0m][\u001b[38;5;34m0\u001b[0m]         │\n",
              "│ (\u001b[38;5;33mDense\u001b[0m)                   │                        │                │                        │\n",
              "├───────────────────────────┼────────────────────────┼────────────────┼────────────────────────┤\n",
              "│ bidirectional_layer       │ (\u001b[38;5;45mNone\u001b[0m, \u001b[38;5;34m32\u001b[0m)             │          \u001b[38;5;34m6,272\u001b[0m │ char_embedding[\u001b[38;5;34m1\u001b[0m][\u001b[38;5;34m0\u001b[0m],  │\n",
              "│ (\u001b[38;5;33mBidirectional\u001b[0m)           │                        │                │ not_equal_2[\u001b[38;5;34m0\u001b[0m][\u001b[38;5;34m0\u001b[0m]      │\n",
              "├───────────────────────────┼────────────────────────┼────────────────┼────────────────────────┤\n",
              "│ line_num_output_layer     │ (\u001b[38;5;45mNone\u001b[0m, \u001b[38;5;34m32\u001b[0m)             │            \u001b[38;5;34m512\u001b[0m │ line_num_input_layer[\u001b[38;5;34m…\u001b[0m │\n",
              "│ (\u001b[38;5;33mDense\u001b[0m)                   │                        │                │                        │\n",
              "├───────────────────────────┼────────────────────────┼────────────────┼────────────────────────┤\n",
              "│ total_lines_output_layer  │ (\u001b[38;5;45mNone\u001b[0m, \u001b[38;5;34m32\u001b[0m)             │            \u001b[38;5;34m672\u001b[0m │ total_lines_input_lay… │\n",
              "│ (\u001b[38;5;33mDense\u001b[0m)                   │                        │                │                        │\n",
              "├───────────────────────────┼────────────────────────┼────────────────┼────────────────────────┤\n",
              "│ concat_layer              │ (\u001b[38;5;45mNone\u001b[0m, \u001b[38;5;34m128\u001b[0m)            │              \u001b[38;5;34m0\u001b[0m │ token_output_layer[\u001b[38;5;34m0\u001b[0m]… │\n",
              "│ (\u001b[38;5;33mConcatenate\u001b[0m)             │                        │                │ bidirectional_layer[\u001b[38;5;34m0\u001b[0m… │\n",
              "│                           │                        │                │ line_num_output_layer… │\n",
              "│                           │                        │                │ total_lines_output_la… │\n",
              "├───────────────────────────┼────────────────────────┼────────────────┼────────────────────────┤\n",
              "│ dropout_2 (\u001b[38;5;33mDropout\u001b[0m)       │ (\u001b[38;5;45mNone\u001b[0m, \u001b[38;5;34m128\u001b[0m)            │              \u001b[38;5;34m0\u001b[0m │ concat_layer[\u001b[38;5;34m0\u001b[0m][\u001b[38;5;34m0\u001b[0m]     │\n",
              "├───────────────────────────┼────────────────────────┼────────────────┼────────────────────────┤\n",
              "│ dense_layer (\u001b[38;5;33mDense\u001b[0m)       │ (\u001b[38;5;45mNone\u001b[0m, \u001b[38;5;34m64\u001b[0m)             │          \u001b[38;5;34m8,256\u001b[0m │ dropout_2[\u001b[38;5;34m0\u001b[0m][\u001b[38;5;34m0\u001b[0m]        │\n",
              "├───────────────────────────┼────────────────────────┼────────────────┼────────────────────────┤\n",
              "│ dropout_3 (\u001b[38;5;33mDropout\u001b[0m)       │ (\u001b[38;5;45mNone\u001b[0m, \u001b[38;5;34m64\u001b[0m)             │              \u001b[38;5;34m0\u001b[0m │ dense_layer[\u001b[38;5;34m0\u001b[0m][\u001b[38;5;34m0\u001b[0m]      │\n",
              "├───────────────────────────┼────────────────────────┼────────────────┼────────────────────────┤\n",
              "│ output_layer (\u001b[38;5;33mDense\u001b[0m)      │ (\u001b[38;5;45mNone\u001b[0m, \u001b[38;5;34m5\u001b[0m)              │            \u001b[38;5;34m325\u001b[0m │ dropout_3[\u001b[38;5;34m0\u001b[0m][\u001b[38;5;34m0\u001b[0m]        │\n",
              "└───────────────────────────┴────────────────────────┴────────────────┴────────────────────────┘\n"
            ],
            "text/html": [
              "<pre style=\"white-space:pre;overflow-x:auto;line-height:normal;font-family:Menlo,'DejaVu Sans Mono',consolas,'Courier New',monospace\">┏━━━━━━━━━━━━━━━━━━━━━━━━━━━┳━━━━━━━━━━━━━━━━━━━━━━━━┳━━━━━━━━━━━━━━━━┳━━━━━━━━━━━━━━━━━━━━━━━━┓\n",
              "┃<span style=\"font-weight: bold\"> Layer (type)              </span>┃<span style=\"font-weight: bold\"> Output Shape           </span>┃<span style=\"font-weight: bold\">        Param # </span>┃<span style=\"font-weight: bold\"> Connected to           </span>┃\n",
              "┡━━━━━━━━━━━━━━━━━━━━━━━━━━━╇━━━━━━━━━━━━━━━━━━━━━━━━╇━━━━━━━━━━━━━━━━╇━━━━━━━━━━━━━━━━━━━━━━━━┩\n",
              "│ char_input_layer          │ (<span style=\"color: #00d7ff; text-decoration-color: #00d7ff\">None</span>, <span style=\"color: #00af00; text-decoration-color: #00af00\">1</span>)              │              <span style=\"color: #00af00; text-decoration-color: #00af00\">0</span> │ -                      │\n",
              "│ (<span style=\"color: #0087ff; text-decoration-color: #0087ff\">InputLayer</span>)              │                        │                │                        │\n",
              "├───────────────────────────┼────────────────────────┼────────────────┼────────────────────────┤\n",
              "│ token_input_layer         │ (<span style=\"color: #00d7ff; text-decoration-color: #00d7ff\">None</span>)                 │              <span style=\"color: #00af00; text-decoration-color: #00af00\">0</span> │ -                      │\n",
              "│ (<span style=\"color: #0087ff; text-decoration-color: #0087ff\">InputLayer</span>)              │                        │                │                        │\n",
              "├───────────────────────────┼────────────────────────┼────────────────┼────────────────────────┤\n",
              "│ char_vectorizer           │ (<span style=\"color: #00d7ff; text-decoration-color: #00d7ff\">None</span>, <span style=\"color: #00af00; text-decoration-color: #00af00\">290</span>)            │              <span style=\"color: #00af00; text-decoration-color: #00af00\">0</span> │ char_input_layer[<span style=\"color: #00af00; text-decoration-color: #00af00\">0</span>][<span style=\"color: #00af00; text-decoration-color: #00af00\">0</span>] │\n",
              "│ (<span style=\"color: #0087ff; text-decoration-color: #0087ff\">TextVectorization</span>)       │                        │                │                        │\n",
              "├───────────────────────────┼────────────────────────┼────────────────┼────────────────────────┤\n",
              "│ lambda_2 (<span style=\"color: #0087ff; text-decoration-color: #0087ff\">Lambda</span>)         │ (<span style=\"color: #00d7ff; text-decoration-color: #00d7ff\">None</span>, <span style=\"color: #00af00; text-decoration-color: #00af00\">512</span>)            │              <span style=\"color: #00af00; text-decoration-color: #00af00\">0</span> │ token_input_layer[<span style=\"color: #00af00; text-decoration-color: #00af00\">0</span>][<span style=\"color: #00af00; text-decoration-color: #00af00\">…</span> │\n",
              "├───────────────────────────┼────────────────────────┼────────────────┼────────────────────────┤\n",
              "│ char_embedding            │ (<span style=\"color: #00d7ff; text-decoration-color: #00d7ff\">None</span>, <span style=\"color: #00af00; text-decoration-color: #00af00\">290</span>, <span style=\"color: #00af00; text-decoration-color: #00af00\">32</span>)        │            <span style=\"color: #00af00; text-decoration-color: #00af00\">896</span> │ char_vectorizer[<span style=\"color: #00af00; text-decoration-color: #00af00\">1</span>][<span style=\"color: #00af00; text-decoration-color: #00af00\">0</span>]  │\n",
              "│ (<span style=\"color: #0087ff; text-decoration-color: #0087ff\">Embedding</span>)               │                        │                │                        │\n",
              "├───────────────────────────┼────────────────────────┼────────────────┼────────────────────────┤\n",
              "│ not_equal_2 (<span style=\"color: #0087ff; text-decoration-color: #0087ff\">NotEqual</span>)    │ (<span style=\"color: #00d7ff; text-decoration-color: #00d7ff\">None</span>, <span style=\"color: #00af00; text-decoration-color: #00af00\">290</span>)            │              <span style=\"color: #00af00; text-decoration-color: #00af00\">0</span> │ char_vectorizer[<span style=\"color: #00af00; text-decoration-color: #00af00\">1</span>][<span style=\"color: #00af00; text-decoration-color: #00af00\">0</span>]  │\n",
              "├───────────────────────────┼────────────────────────┼────────────────┼────────────────────────┤\n",
              "│ line_num_input_layer      │ (<span style=\"color: #00d7ff; text-decoration-color: #00d7ff\">None</span>, <span style=\"color: #00af00; text-decoration-color: #00af00\">15</span>)             │              <span style=\"color: #00af00; text-decoration-color: #00af00\">0</span> │ -                      │\n",
              "│ (<span style=\"color: #0087ff; text-decoration-color: #0087ff\">InputLayer</span>)              │                        │                │                        │\n",
              "├───────────────────────────┼────────────────────────┼────────────────┼────────────────────────┤\n",
              "│ total_lines_input_layer   │ (<span style=\"color: #00d7ff; text-decoration-color: #00d7ff\">None</span>, <span style=\"color: #00af00; text-decoration-color: #00af00\">20</span>)             │              <span style=\"color: #00af00; text-decoration-color: #00af00\">0</span> │ -                      │\n",
              "│ (<span style=\"color: #0087ff; text-decoration-color: #0087ff\">InputLayer</span>)              │                        │                │                        │\n",
              "├───────────────────────────┼────────────────────────┼────────────────┼────────────────────────┤\n",
              "│ token_output_layer        │ (<span style=\"color: #00d7ff; text-decoration-color: #00d7ff\">None</span>, <span style=\"color: #00af00; text-decoration-color: #00af00\">32</span>)             │         <span style=\"color: #00af00; text-decoration-color: #00af00\">16,416</span> │ lambda_2[<span style=\"color: #00af00; text-decoration-color: #00af00\">0</span>][<span style=\"color: #00af00; text-decoration-color: #00af00\">0</span>]         │\n",
              "│ (<span style=\"color: #0087ff; text-decoration-color: #0087ff\">Dense</span>)                   │                        │                │                        │\n",
              "├───────────────────────────┼────────────────────────┼────────────────┼────────────────────────┤\n",
              "│ bidirectional_layer       │ (<span style=\"color: #00d7ff; text-decoration-color: #00d7ff\">None</span>, <span style=\"color: #00af00; text-decoration-color: #00af00\">32</span>)             │          <span style=\"color: #00af00; text-decoration-color: #00af00\">6,272</span> │ char_embedding[<span style=\"color: #00af00; text-decoration-color: #00af00\">1</span>][<span style=\"color: #00af00; text-decoration-color: #00af00\">0</span>],  │\n",
              "│ (<span style=\"color: #0087ff; text-decoration-color: #0087ff\">Bidirectional</span>)           │                        │                │ not_equal_2[<span style=\"color: #00af00; text-decoration-color: #00af00\">0</span>][<span style=\"color: #00af00; text-decoration-color: #00af00\">0</span>]      │\n",
              "├───────────────────────────┼────────────────────────┼────────────────┼────────────────────────┤\n",
              "│ line_num_output_layer     │ (<span style=\"color: #00d7ff; text-decoration-color: #00d7ff\">None</span>, <span style=\"color: #00af00; text-decoration-color: #00af00\">32</span>)             │            <span style=\"color: #00af00; text-decoration-color: #00af00\">512</span> │ line_num_input_layer[<span style=\"color: #00af00; text-decoration-color: #00af00\">…</span> │\n",
              "│ (<span style=\"color: #0087ff; text-decoration-color: #0087ff\">Dense</span>)                   │                        │                │                        │\n",
              "├───────────────────────────┼────────────────────────┼────────────────┼────────────────────────┤\n",
              "│ total_lines_output_layer  │ (<span style=\"color: #00d7ff; text-decoration-color: #00d7ff\">None</span>, <span style=\"color: #00af00; text-decoration-color: #00af00\">32</span>)             │            <span style=\"color: #00af00; text-decoration-color: #00af00\">672</span> │ total_lines_input_lay… │\n",
              "│ (<span style=\"color: #0087ff; text-decoration-color: #0087ff\">Dense</span>)                   │                        │                │                        │\n",
              "├───────────────────────────┼────────────────────────┼────────────────┼────────────────────────┤\n",
              "│ concat_layer              │ (<span style=\"color: #00d7ff; text-decoration-color: #00d7ff\">None</span>, <span style=\"color: #00af00; text-decoration-color: #00af00\">128</span>)            │              <span style=\"color: #00af00; text-decoration-color: #00af00\">0</span> │ token_output_layer[<span style=\"color: #00af00; text-decoration-color: #00af00\">0</span>]… │\n",
              "│ (<span style=\"color: #0087ff; text-decoration-color: #0087ff\">Concatenate</span>)             │                        │                │ bidirectional_layer[<span style=\"color: #00af00; text-decoration-color: #00af00\">0</span>… │\n",
              "│                           │                        │                │ line_num_output_layer… │\n",
              "│                           │                        │                │ total_lines_output_la… │\n",
              "├───────────────────────────┼────────────────────────┼────────────────┼────────────────────────┤\n",
              "│ dropout_2 (<span style=\"color: #0087ff; text-decoration-color: #0087ff\">Dropout</span>)       │ (<span style=\"color: #00d7ff; text-decoration-color: #00d7ff\">None</span>, <span style=\"color: #00af00; text-decoration-color: #00af00\">128</span>)            │              <span style=\"color: #00af00; text-decoration-color: #00af00\">0</span> │ concat_layer[<span style=\"color: #00af00; text-decoration-color: #00af00\">0</span>][<span style=\"color: #00af00; text-decoration-color: #00af00\">0</span>]     │\n",
              "├───────────────────────────┼────────────────────────┼────────────────┼────────────────────────┤\n",
              "│ dense_layer (<span style=\"color: #0087ff; text-decoration-color: #0087ff\">Dense</span>)       │ (<span style=\"color: #00d7ff; text-decoration-color: #00d7ff\">None</span>, <span style=\"color: #00af00; text-decoration-color: #00af00\">64</span>)             │          <span style=\"color: #00af00; text-decoration-color: #00af00\">8,256</span> │ dropout_2[<span style=\"color: #00af00; text-decoration-color: #00af00\">0</span>][<span style=\"color: #00af00; text-decoration-color: #00af00\">0</span>]        │\n",
              "├───────────────────────────┼────────────────────────┼────────────────┼────────────────────────┤\n",
              "│ dropout_3 (<span style=\"color: #0087ff; text-decoration-color: #0087ff\">Dropout</span>)       │ (<span style=\"color: #00d7ff; text-decoration-color: #00d7ff\">None</span>, <span style=\"color: #00af00; text-decoration-color: #00af00\">64</span>)             │              <span style=\"color: #00af00; text-decoration-color: #00af00\">0</span> │ dense_layer[<span style=\"color: #00af00; text-decoration-color: #00af00\">0</span>][<span style=\"color: #00af00; text-decoration-color: #00af00\">0</span>]      │\n",
              "├───────────────────────────┼────────────────────────┼────────────────┼────────────────────────┤\n",
              "│ output_layer (<span style=\"color: #0087ff; text-decoration-color: #0087ff\">Dense</span>)      │ (<span style=\"color: #00d7ff; text-decoration-color: #00d7ff\">None</span>, <span style=\"color: #00af00; text-decoration-color: #00af00\">5</span>)              │            <span style=\"color: #00af00; text-decoration-color: #00af00\">325</span> │ dropout_3[<span style=\"color: #00af00; text-decoration-color: #00af00\">0</span>][<span style=\"color: #00af00; text-decoration-color: #00af00\">0</span>]        │\n",
              "└───────────────────────────┴────────────────────────┴────────────────┴────────────────────────┘\n",
              "</pre>\n"
            ]
          },
          "metadata": {}
        },
        {
          "output_type": "display_data",
          "data": {
            "text/plain": [
              "\u001b[1m Total params: \u001b[0m\u001b[38;5;34m33,349\u001b[0m (130.27 KB)\n"
            ],
            "text/html": [
              "<pre style=\"white-space:pre;overflow-x:auto;line-height:normal;font-family:Menlo,'DejaVu Sans Mono',consolas,'Courier New',monospace\"><span style=\"font-weight: bold\"> Total params: </span><span style=\"color: #00af00; text-decoration-color: #00af00\">33,349</span> (130.27 KB)\n",
              "</pre>\n"
            ]
          },
          "metadata": {}
        },
        {
          "output_type": "display_data",
          "data": {
            "text/plain": [
              "\u001b[1m Trainable params: \u001b[0m\u001b[38;5;34m33,349\u001b[0m (130.27 KB)\n"
            ],
            "text/html": [
              "<pre style=\"white-space:pre;overflow-x:auto;line-height:normal;font-family:Menlo,'DejaVu Sans Mono',consolas,'Courier New',monospace\"><span style=\"font-weight: bold\"> Trainable params: </span><span style=\"color: #00af00; text-decoration-color: #00af00\">33,349</span> (130.27 KB)\n",
              "</pre>\n"
            ]
          },
          "metadata": {}
        },
        {
          "output_type": "display_data",
          "data": {
            "text/plain": [
              "\u001b[1m Non-trainable params: \u001b[0m\u001b[38;5;34m0\u001b[0m (0.00 B)\n"
            ],
            "text/html": [
              "<pre style=\"white-space:pre;overflow-x:auto;line-height:normal;font-family:Menlo,'DejaVu Sans Mono',consolas,'Courier New',monospace\"><span style=\"font-weight: bold\"> Non-trainable params: </span><span style=\"color: #00af00; text-decoration-color: #00af00\">0</span> (0.00 B)\n",
              "</pre>\n"
            ]
          },
          "metadata": {}
        }
      ]
    },
    {
      "cell_type": "code",
      "source": [
        "#plot Quadra Model\n",
        "import tensorflow as tf\n",
        "from keras.utils import plot_model\n",
        "\n",
        "plot_model(model_5,dpi=200,show_shapes=True,show_layer_names=True,show_dtype=True,to_file='Quadra_Model.png',show_layer_activations=True,show_trainable=True)"
      ],
      "metadata": {
        "colab": {
          "base_uri": "https://localhost:8080/",
          "height": 1000
        },
        "id": "zHeDMZnYutFk",
        "outputId": "dc5a5510-7cce-45b1-8142-98f6f6400b44"
      },
      "execution_count": null,
      "outputs": [
        {
          "output_type": "execute_result",
          "data": {
            "image/png": "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\n",
            "text/plain": [
              "<IPython.core.display.Image object>"
            ]
          },
          "metadata": {},
          "execution_count": 81
        }
      ]
    },
    {
      "cell_type": "code",
      "source": [
        "#compile Quadra Model\n",
        "model_5.compile(loss=tf.keras.losses.CategoricalCrossentropy(label_smoothing=0.2 ),\n",
        "                optimizer=tf.keras.optimizers.Adam(),\n",
        "                metrics=[\"accuracy\"])"
      ],
      "metadata": {
        "id": "PejKwkDEw5JS"
      },
      "execution_count": null,
      "outputs": []
    },
    {
      "cell_type": "code",
      "source": [
        "#make dataset and batching preparation\n",
        "#creating dataset and prefetched batches\n",
        "train_dataset_data=tf.data.Dataset.from_tensor_slices((train_lines,train_chars,train_line_num_OHE,train_total_lines_OHE))\n",
        "val_dataset_data=tf.data.Dataset.from_tensor_slices((val_lines,val_chars,val_line_num_OHE,val_total_lines_OHE))\n",
        "test_dataset_data=tf.data.Dataset.from_tensor_slices((test_lines,test_chars,test_line_num_OHE,test_total_lines_OHE))\n",
        "\n",
        "train_dataset_labels=tf.data.Dataset.from_tensor_slices((train_labels_OHE))\n",
        "val_dataset_labels=tf.data.Dataset.from_tensor_slices((val_labels_OHE))\n",
        "test_dataset_labels=tf.data.Dataset.from_tensor_slices((test_labels_OHE))\n",
        "\n",
        "train_dataset=tf.data.Dataset.zip((train_dataset_data,train_dataset_labels))\n",
        "val_dataset=tf.data.Dataset.zip((val_dataset_data,val_dataset_labels))\n",
        "test_dataset=tf.data.Dataset.zip((test_dataset_data,test_dataset_labels))\n",
        "\n",
        "train_dataset=train_dataset.batch(32).prefetch(tf.data.AUTOTUNE)\n",
        "val_dataset=val_dataset.batch(32).prefetch(tf.data.AUTOTUNE)\n",
        "test_dataset=test_dataset.batch(32).prefetch(tf.data.AUTOTUNE)\n",
        "\n",
        "train_dataset,val_dataset,test_dataset\n",
        "\n"
      ],
      "metadata": {
        "colab": {
          "base_uri": "https://localhost:8080/"
        },
        "id": "eeoV3crRv2Au",
        "outputId": "8e10257c-3d9e-45a2-8581-4fc8bb89f8bb"
      },
      "execution_count": null,
      "outputs": [
        {
          "output_type": "execute_result",
          "data": {
            "text/plain": [
              "(<_PrefetchDataset element_spec=((TensorSpec(shape=(None,), dtype=tf.string, name=None), TensorSpec(shape=(None,), dtype=tf.string, name=None), TensorSpec(shape=(None, 15), dtype=tf.float32, name=None), TensorSpec(shape=(None, 20), dtype=tf.float32, name=None)), TensorSpec(shape=(None, 5), dtype=tf.float64, name=None))>,\n",
              " <_PrefetchDataset element_spec=((TensorSpec(shape=(None,), dtype=tf.string, name=None), TensorSpec(shape=(None,), dtype=tf.string, name=None), TensorSpec(shape=(None, 15), dtype=tf.float32, name=None), TensorSpec(shape=(None, 20), dtype=tf.float32, name=None)), TensorSpec(shape=(None, 5), dtype=tf.float64, name=None))>,\n",
              " <_PrefetchDataset element_spec=((TensorSpec(shape=(None,), dtype=tf.string, name=None), TensorSpec(shape=(None,), dtype=tf.string, name=None), TensorSpec(shape=(None, 15), dtype=tf.float32, name=None), TensorSpec(shape=(None, 20), dtype=tf.float32, name=None)), TensorSpec(shape=(None, 5), dtype=tf.float64, name=None))>)"
            ]
          },
          "metadata": {},
          "execution_count": 69
        }
      ]
    },
    {
      "cell_type": "code",
      "source": [
        "#using import callbacks\n",
        "from tensorflow.keras.callbacks import EarlyStopping\n",
        "\n",
        "early_stopping=EarlyStopping(monitor=\"val_accuracy\",\n",
        "                             patience=3,\n",
        "                             mode='max',\n",
        "                             restore_best_weights=True)"
      ],
      "metadata": {
        "id": "DkRM-VfUoeF0"
      },
      "execution_count": null,
      "outputs": []
    },
    {
      "cell_type": "code",
      "source": [
        "#fitting the model\n",
        "\n",
        "\n",
        "history_model_5=model_5.fit(train_dataset,\n",
        "                            epochs=10,\n",
        "                            steps_per_epoch=int(0.1*len(train_dataset)),\n",
        "                            validation_data=val_dataset,\n",
        "                            callbacks=[tensorboard_callback,checkpoint,early_stopping])"
      ],
      "metadata": {
        "colab": {
          "base_uri": "https://localhost:8080/"
        },
        "id": "D_MW-ys8y1SM",
        "outputId": "e5570754-c4ab-4050-bec2-e4dacf89128b"
      },
      "execution_count": null,
      "outputs": [
        {
          "output_type": "stream",
          "name": "stdout",
          "text": [
            "Epoch 1/10\n",
            "\u001b[1m562/562\u001b[0m \u001b[32m━━━━━━━━━━━━━━━━━━━━\u001b[0m\u001b[37m\u001b[0m \u001b[1m240s\u001b[0m 425ms/step - accuracy: 0.7989 - loss: 0.9906 - val_accuracy: 0.8199 - val_loss: 0.9422\n",
            "Epoch 2/10\n",
            "\u001b[1m562/562\u001b[0m \u001b[32m━━━━━━━━━━━━━━━━━━━━\u001b[0m\u001b[37m\u001b[0m \u001b[1m233s\u001b[0m 414ms/step - accuracy: 0.8146 - loss: 0.9634 - val_accuracy: 0.8340 - val_loss: 0.9210\n",
            "Epoch 3/10\n",
            "\u001b[1m562/562\u001b[0m \u001b[32m━━━━━━━━━━━━━━━━━━━━\u001b[0m\u001b[37m\u001b[0m \u001b[1m231s\u001b[0m 412ms/step - accuracy: 0.8175 - loss: 0.9519 - val_accuracy: 0.8384 - val_loss: 0.9107\n",
            "Epoch 4/10\n",
            "\u001b[1m562/562\u001b[0m \u001b[32m━━━━━━━━━━━━━━━━━━━━\u001b[0m\u001b[37m\u001b[0m \u001b[1m233s\u001b[0m 414ms/step - accuracy: 0.8283 - loss: 0.9429 - val_accuracy: 0.8424 - val_loss: 0.9016\n",
            "Epoch 5/10\n",
            "\u001b[1m562/562\u001b[0m \u001b[32m━━━━━━━━━━━━━━━━━━━━\u001b[0m\u001b[37m\u001b[0m \u001b[1m232s\u001b[0m 412ms/step - accuracy: 0.8345 - loss: 0.9299 - val_accuracy: 0.8482 - val_loss: 0.8970\n",
            "Epoch 6/10\n",
            "\u001b[1m562/562\u001b[0m \u001b[32m━━━━━━━━━━━━━━━━━━━━\u001b[0m\u001b[37m\u001b[0m \u001b[1m260s\u001b[0m 463ms/step - accuracy: 0.8296 - loss: 0.9382 - val_accuracy: 0.8526 - val_loss: 0.8897\n",
            "Epoch 7/10\n",
            "\u001b[1m562/562\u001b[0m \u001b[32m━━━━━━━━━━━━━━━━━━━━\u001b[0m\u001b[37m\u001b[0m \u001b[1m349s\u001b[0m 621ms/step - accuracy: 0.8382 - loss: 0.9251 - val_accuracy: 0.8521 - val_loss: 0.8912\n",
            "Epoch 8/10\n",
            "\u001b[1m562/562\u001b[0m \u001b[32m━━━━━━━━━━━━━━━━━━━━\u001b[0m\u001b[37m\u001b[0m \u001b[1m331s\u001b[0m 589ms/step - accuracy: 0.8429 - loss: 0.9204 - val_accuracy: 0.8601 - val_loss: 0.8822\n",
            "Epoch 9/10\n",
            "\u001b[1m562/562\u001b[0m \u001b[32m━━━━━━━━━━━━━━━━━━━━\u001b[0m\u001b[37m\u001b[0m \u001b[1m307s\u001b[0m 546ms/step - accuracy: 0.8411 - loss: 0.9239 - val_accuracy: 0.8570 - val_loss: 0.8838\n",
            "Epoch 10/10\n",
            "\u001b[1m562/562\u001b[0m \u001b[32m━━━━━━━━━━━━━━━━━━━━\u001b[0m\u001b[37m\u001b[0m \u001b[1m259s\u001b[0m 461ms/step - accuracy: 0.8382 - loss: 0.9241 - val_accuracy: 0.8580 - val_loss: 0.8790\n"
          ]
        }
      ]
    },
    {
      "cell_type": "code",
      "source": [
        "#predictions model_5\n",
        "model_5_preds=model_5.predict(test_dataset)\n",
        "model_5_preds[:10],model_5_preds.shape\n"
      ],
      "metadata": {
        "id": "pwab_WYfz8My"
      },
      "execution_count": null,
      "outputs": []
    },
    {
      "cell_type": "code",
      "source": [
        "#pred_probs and labels\n",
        "model_5_pred_probs=tf.squeeze(tf.round(model_5_preds))\n",
        "model_5_pred_labels=tf.argmax(model_5_preds,axis=1).numpy()\n",
        "model_5_pred_labels[:10]"
      ],
      "metadata": {
        "id": "Un3RXU-AwBeD"
      },
      "execution_count": null,
      "outputs": []
    },
    {
      "cell_type": "code",
      "source": [
        "#result dictionary for model 5\n",
        "model_5_results=calculate_results(y_true=test_labels,\n",
        "                                  y_pred=model_5_pred_labels)\n",
        "model_5_results"
      ],
      "metadata": {
        "id": "bQ4CwFl2wM1f"
      },
      "execution_count": null,
      "outputs": []
    },
    {
      "cell_type": "code",
      "source": [
        "#dataframe for all model results\n",
        "import pandas as pd\n",
        "results=pd.Dataframe{\"Naive_model\":baseline_results,\n",
        "                     \"Custom_made_Feature_Ext_model\":model_1_results,\n",
        "                     \"Pretrained_Feature_Ext_Model\":model_2_results,\n",
        "                     \"Characterised_Token_Model\":model_3_results,\n",
        "                     \"Multimodal_Model\":model_4_results,\n",
        "                     \"Quadra_Model\":model_5_results}\n",
        "\n",
        "results"
      ],
      "metadata": {
        "id": "lXjmM_ZpwQZo"
      },
      "execution_count": null,
      "outputs": []
    }
  ]
}
